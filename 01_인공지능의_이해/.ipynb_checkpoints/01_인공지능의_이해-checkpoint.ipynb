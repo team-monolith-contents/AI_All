{
 "cells": [
  {
   "cell_type": "markdown",
   "metadata": {},
   "source": [
    "# **[1] 인공지능의 이해**\n",
    "\n",
    "**[학습 목표]**\n",
    "1. 인공지능의 정의를 이해할 수 있다.  \n",
    "2. 인공지능의 탄생과 발전 과정을 이해할 수 있다.  \n",
    "3. 다양한 분야에서 인공지능과 지능적 에이전트가 적용된 사례를 탐색할 수 있다.  "
   ]
  },
  {
   "cell_type": "markdown",
   "metadata": {
    "id": "2-PfUmkV5nKP"
   },
   "source": [
    "## **1. 인공지능의 개념과 특성**  \n"
   ]
  },
  {
   "cell_type": "markdown",
   "metadata": {},
   "source": [
    "지금 우리는 인공지능(AI, Artificial Intelligence) 시대를 맞이하고 있습니다.  \n",
    "* 2016년 바둑 AI **알파고**의 등장은 세계를 놀라게 했습니다. 세계 최고의 바둑 기사인 이세돌 9단을 이기면서 AI의 가능성을 보여주었죠.  \n",
    "* 2023년에는 어떠한 질문이라도 인간 수준의 답변을 할 수 있는 대화형 AI인 **ChatGPT**까지 등장하였습니다.  \n",
    "  \n",
    "인공지능은 그 어느 때보다 주목을 받고 있으며, 지금도 여러 분야에서 활발한 연구가 이루어지고 있어요.  "
   ]
  },
  {
   "cell_type": "markdown",
   "metadata": {},
   "source": [
    "### **(1) 인공지능의 정의**"
   ]
  },
  {
   "cell_type": "markdown",
   "metadata": {},
   "source": [
    ">  AI의 개념적 기반을 제시한 첫 연구는, 현대 컴퓨터의 아버지라 불리는 앨런 튜링이 제안한 **튜링 테스트**입니다.  \n",
    "> * 1950년 앨런 튜링이 제안한 인공지능의 성능 테스트 \n",
    "> * 상대가 누구인지 모르는 상태에서, 인간 질문자가 컴퓨터와 인간 두 응답자와 상호작용\n",
    "> * 상호작용의 상대가 인간인지 컴퓨터인지 구분하지 못한다면 인공지능으로 판별  \n",
    ">  \n",
    "> 그러나 현재는 당시에 비해 많은 기술적 발전이 있으므로, 튜링 테스트를 현재 인공지능의 기준으로 그대로 적용할 수는 없어요.  \n",
    "\n",
    "<table>\n",
    "<tr>\n",
    "    <th><img src=\"https://drive.google.com/uc?id=1_w6sQrfn9zPicR3yRd17uSpNb_qRVxDd\" width=\"750\"></th>\n",
    "    </tr>\n",
    "<tr>\n",
    "    <th>튜링 테스트</th>\n",
    "</tr>\n",
    "</table>"
   ]
  },
  {
   "cell_type": "markdown",
   "metadata": {
    "id": "pj47POTQqpWo"
   },
   "source": [
    "> 현재의 인공지능에 대한 정의는 학자마다 조금씩 다르지만,    \n",
    "> 공통적으로 이야기하는 것은 **인간의 지능을 컴퓨터를 활용해 인공적으로 구현한다**는 것입니다.  \n",
    "> * 인공지능은 사람이 가진 학습 능력, 추론 능력, 언어 이해 능력을 컴퓨터 프로그램을 통해 구현합니다.\n",
    "> * 인공지능을 활용해 여러 분야에 존재하는 어려운 문제들을 해결하고 있어요.  \n",
    "\n"
   ]
  },
  {
   "cell_type": "markdown",
   "metadata": {},
   "source": [
    "**[문제1] 인공지능 하면 떠오르는 내용들을 자유롭게 적어봅시다.** "
   ]
  },
  {
   "cell_type": "raw",
   "metadata": {},
   "source": [
    " 👉 \n",
    " 👉 "
   ]
  },
  {
   "cell_type": "markdown",
   "metadata": {},
   "source": [
    "**[문제2] 인공지능이 무엇인지 앞서 이야기한 ChatGPT에 질문해봅시다.** "
   ]
  },
  {
   "cell_type": "raw",
   "metadata": {},
   "source": [
    " 👉 \n",
    " 👉 "
   ]
  },
  {
   "cell_type": "markdown",
   "metadata": {},
   "source": [
    "<table>\n",
    "<tr>\n",
    "    <th><img src=\"https://drive.google.com/uc?id=1BbYzHF_3fArS8RuHJLY_st-AwJ9D-Sv4\" width=\"750\"></th>\n",
    "    </tr>\n",
    "<tr>\n",
    "    <th>ChatGPT에 질문한 예시</th>\n",
    "</tr>\n",
    "</table>"
   ]
  },
  {
   "cell_type": "markdown",
   "metadata": {
    "id": "GR_H1D1uqpWp"
   },
   "source": [
    "### **(2) 인공지능 기술의 발전과 사회 변화**"
   ]
  },
  {
   "cell_type": "markdown",
   "metadata": {},
   "source": [
    "인공지능 기술은 최근에 급격한 성장을 이루었기 때문에 새로운 기술이라고 생각할 수 있지만,  \n",
    "사실 1900년대 중반부터 꾸준히 연구되고 발전되었던 기술 분야입니다.  \n",
    "초기부터 현재까지 인공지능 기술의 발전 과정을 간단하게 살펴봅시다."
   ]
  },
  {
   "cell_type": "markdown",
   "metadata": {
    "id": "EQSQv_VTqpWp"
   },
   "source": [
    "> **1. 퍼셉트론**   \n",
    ">\n",
    "> 1957년 퍼셉트론이라는 알고리즘이 공개되면서 당시 새로운 패러다임으로 주목을 받았었어요.  \n",
    "> * 다수의 입력을 받아 하나의 값을 출력하는 컴퓨터 알고리즘  \n",
    "> * 인간의 뇌가 정보를 처리하는 방식을 닮도록 설계\n",
    ">\n",
    "> 퍼셉트론은 당시 실생활에 활용될 정도로 발전하지는 못했지만, 딥러닝의 핵심 요소인 심층 신경망 모델로 발전한다는 점에서 의미가 있습니다.\n",
    "\n",
    "<table>\n",
    "<tr>\n",
    "    <th><img src=\"https://drive.google.com/uc?id=1_dit8DbOStl5RfuKbVPpYAP5gy1WETkZ\" width=\"750\"></th>\n",
    "    </tr>\n",
    "<tr>\n",
    "    <th>퍼셉트론</th>\n",
    "</tr>\n",
    "</table>"
   ]
  },
  {
   "cell_type": "markdown",
   "metadata": {},
   "source": [
    "> **2. 전문가 시스템**  \n",
    ">\n",
    "> 초창기 인공지능 기술은 컴퓨터의 성능과 같은 여러 현실적인 문제가 있었기 때문에 크게 발전하지 못했어요.  \n",
    "> 따라서 당시에는 전문가 시스템이 발전했었습니다.   \n",
    "> * 전문 지식과 경험 등의 데이터를 컴퓨터에 축적하고, 추론 엔진을 사용하여 문제 해결\n",
    "> * ex) 여러 가지 의학적 규칙을 컴퓨터에 축적하여, 증상에 따른 정확한 의학적 진단을 내림\n",
    "> \n",
    "> 이를 사용하여 전문 지식이 없는 일반 사용자들이 조언을 제공받을 수 있었기 때문에, 당시 사회에서 많이 사용되었습니다.\n",
    "\n",
    "<table>\n",
    "<tr>\n",
    "    <th><img src=\"https://drive.google.com/uc?id=1a30R2n7umaxKYryfFxwmnt_KZ9VvtWUI\" width=\"750\"></th>\n",
    "    </tr>\n",
    "<tr>\n",
    "    <th>전문가 시스템</th>\n",
    "</tr>\n",
    "</table>"
   ]
  },
  {
   "cell_type": "markdown",
   "metadata": {},
   "source": [
    "> **3. 기계 학습(머신러닝)**  \n",
    ">\n",
    "> 전문가 시스템은 많은 비용이 필요하고, 전문 지식이 필요한 분야 외에는 활용되기 어려웠어요.  \n",
    "> 시간이 지나고 데이터 수집/가공이 활발해지면서, 데이터를 적극적으로 활용하는 기계 학습이 주목받게 되었습니다.  \n",
    "> * 데이터 특징(Data Feature)을 추출하여, 그 내용을 바탕으로 컴퓨터를 학습시키는 방법입니다.  \n",
    "> * 학습한 내용을 바탕으로, 새로운 데이터에 대해서도 인공지능 스스로 예측할 수 있습니다.\n",
    ">\n",
    "> 방대한 데이터를 컴퓨터가 스스로 **학습**할 수 있었기 때문에, 기존의 인공지능과 달리 다양한 분야에서 활용될 수 있었습니다.\n",
    "\n",
    "<table>\n",
    "<tr>\n",
    "    <th><img src=\"https://drive.google.com/uc?id=1_PtSkP0lcltM8Ccjtx8gJfNG02P391DG\" width=\"750\"></th>\n",
    "    </tr>\n",
    "<tr>\n",
    "    <th>기계 학습</th>\n",
    "</tr>\n",
    "</table>"
   ]
  },
  {
   "cell_type": "markdown",
   "metadata": {},
   "source": [
    "> **4. 딥러닝**  \n",
    ">\n",
    "> 기계 학습의 단점은 데이터 특징을 적절하게 추출하지 못하면 정확한 학습이 어렵다는 것이었습니다.  \n",
    "> 이미지, 언어과 같은 비정형 데이터에서는 데이터 특징이 뚜렷하지 않아, 단점이 더욱 크게 드러났어요.  \n",
    "> \n",
    "> 이러한 문제점을 해결한 것이 딥러닝입니다.  \n",
    "> 딥러닝은 데이터 특징 추출과 학습을 모두 컴퓨터가 스스로 하기 때문에 에서 기계 학습과 차이점이 있어요.  \n",
    "\n",
    "<table>\n",
    "<tr>\n",
    "    <th><img src=\"https://drive.google.com/uc?id=1_PyqEOh7pN9X1_5E3h1PuJIe_1K5Ttdx\" width=\"750\"></th>\n",
    "    </tr>\n",
    "<tr>\n",
    "    <th>기계 학습과 딥러닝</th>\n",
    "</tr>\n",
    "</table>"
   ]
  },
  {
   "cell_type": "markdown",
   "metadata": {},
   "source": [
    "> 딥러닝 기술의 발전으로, 현재는 인공지능이 사회의 여러 분야에 도입되어 활용되고 있어요.  \n",
    "> * 자율주행차에 적용되어, 운전자가 조작하지 않아도 목적지까지 안전하게 운행할 수 있어요.\n",
    "> * 고도화된 챗봇을 통해 사용자의 질문에 자연스럽게 대답할 수 있어요.  \n",
    ">\n",
    "> 이처럼 인공지능은 사람의 삶의 질을 향상시키는 데 도움을 주며, 사회 질서를 유지하고 사람의 안전을 확보하는 등 여러 문제를 해결하기도 합니다.     \n",
    "\n",
    "> 인공지능의 등장으로 인한 일자리의 변화에 대해서도 주목을 얻고 있어요. \n",
    "> * 사람들이 일자리를 잃을 것이라 전망하기도 하고, 오히려 다양한 직업이 새로 생겨날 것이라 전망하기도 합니다.  \n",
    "> * 미래 사회에서는 많은 분야에서 인공지능이 중요하게 활용될 것으로 예상되므로, 어떤 직업에 종사하든지 인공지능을 이해하는 것이 중요합니다!  "
   ]
  },
  {
   "cell_type": "markdown",
   "metadata": {},
   "source": [
    "### **(3) 지능적 에이전트(Intelligent Agent)**"
   ]
  },
  {
   "cell_type": "markdown",
   "metadata": {},
   "source": [
    "> 사람 대신 단순하고 반복적인 업무를 처리하는 자동화 시스템을 에이전트라고 합니다.  \n",
    "> 에이전트에 인공지능을 결합하여 고도화된 업무를 처리할 수 있게 되었고, 이것을 지능 에이전트라고 합니다.  \n",
    ">\n",
    "> * 세탁기, 로봇 청소기부터 스마트폰 비서 등을 모두 지능 에이전트라고 할 수 있어요.  \n",
    "> * 지능 에이전트 또한 에이전트의 일종이에요.  \n",
    "> * 지능 에이전트는 생활 속에서 정말 다양한 형태로 여러 가지 일을 수행하고 있어요.  "
   ]
  },
  {
   "cell_type": "markdown",
   "metadata": {},
   "source": [
    "**[문제3] 우리 주변의 지능 에이전트를 찾아봅시다.** "
   ]
  },
  {
   "cell_type": "raw",
   "metadata": {},
   "source": [
    " 👉 \n",
    " 👉 "
   ]
  }
 ],
 "metadata": {
  "colab": {
   "provenance": []
  },
  "kernelspec": {
   "display_name": "Python 3 (ipykernel)",
   "language": "python",
   "name": "python3"
  },
  "language_info": {
   "codemirror_mode": {
    "name": "ipython",
    "version": 3
   },
   "file_extension": ".py",
   "mimetype": "text/x-python",
   "name": "python",
   "nbconvert_exporter": "python",
   "pygments_lexer": "ipython3",
   "version": "3.10.9"
  },
  "vscode": {
   "interpreter": {
    "hash": "8c352b738e5f22da9f29eb9cb9994f25c5223ab3395af3650b8321ab644afce4"
   }
  }
 },
 "nbformat": 4,
 "nbformat_minor": 1
}
