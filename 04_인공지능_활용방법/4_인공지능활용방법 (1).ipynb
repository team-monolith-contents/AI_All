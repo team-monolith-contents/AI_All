{
 "cells": [
  {
   "cell_type": "markdown",
   "id": "1dc69d2d-23f3-4475-947d-76813d79ad8c",
   "metadata": {
    "tags": []
   },
   "source": [
    "# **[4] 인공지능 활용 방법**\n",
    "\n",
    "**[학습 목표]**\n",
    "1. 인공지능 활용 방법의 순서를 이해할 수 있다.\n",
    "2. 인공지능을 활용 목적에 따라 분류할 수 있다.\n",
    "    \n",
    "   \n",
    "\n",
    "    \n"
   ]
  },
  {
   "cell_type": "markdown",
   "id": "c8b3c581-4a4a-4704-99c7-06fa3fe61445",
   "metadata": {
    "tags": []
   },
   "source": [
    "##  **1. 인공지능 활용 방법의 순서 알기**\n",
    "\n",
    "\n"
   ]
  },
  {
   "cell_type": "markdown",
   "id": "e75b3d7a-0087-4088-a654-fa4d25c67d85",
   "metadata": {},
   "source": [
    "### **(1) 인공지능 프로젝트 설정하기**\n",
    "\n",
    "최근 여러 산업에서 인공지능을 이용하여 문제를 해결하고 있고, 앞으로 더 많이 늘어날 전망이지요.\n",
    "\n",
    "인공지능을 활용하기 위한 순서를 알아보기 위해 **자율주행 자동차**를 개발하는 상황을 놓고 이야기해 봅시다. \n",
    "\n",
    "> <table>\n",
    "    <tr>\n",
    "        <td><img src=\"https://img.kr.news.samsung.com/kr/wp-content/uploads/2017/12/06.png\" width=\"500\"></td>\n",
    "    </tr>\n",
    "    <tr>\n",
    "        <th><a href=\"https://news.samsung.com/kr/%EC%9E%90%EC%9C%A8%EC%A3%BC%ED%96%89-%EC%9E%90%EB%8F%99%EC%B0%A8%EC%9D%98-%ED%98%84%EC%A3%BC%EC%86%8C\">출처: 삼성전자 Newsroom 자율주행 자동차의 현주소</a></th>\n",
    "    </tr>\n",
    "</table>\n",
    "\n"
   ]
  },
  {
   "cell_type": "markdown",
   "id": "ba67e836-f260-4f98-bc25-63d6896b2e99",
   "metadata": {},
   "source": [
    "### **(2) 인공지능 프로젝트 사이클 따라가보기**"
   ]
  },
  {
   "cell_type": "markdown",
   "id": "3f82a00a-751f-48a4-828a-ae8e65d051f0",
   "metadata": {},
   "source": [
    "인공지능을 활용하기 위해서는 목표, 데이터, 인공지능 모델을 잘 설정하는 것이 중요해요.  \n",
    "아래 표와 같은 순서에 따라 프로젝트가 진행되지만, <br>\n",
    "**사이클**이라고 표현한 것처럼 중간에 문제가 발생하면 언제든 다른 순서로 돌아가서 반복해야 합니다. \n",
    "\n",
    "> <table>\n",
    "    <tr>\n",
    "        <td><img src=\"https://lh3.google.com/u/0/d/13ZnxreCcNYGuX-zKbE12TjogzO84VOhR=w2560-h1374-iv2\" width=\"420\">\n",
    "        </td>\n",
    "    </tr>\n",
    "    <tr>\n",
    "        <th>인공지능 프로젝트 사이클</th>\n",
    "    </tr>\n",
    "</table>"
   ]
  },
  {
   "cell_type": "markdown",
   "id": "b86cee3c-4269-42e5-bd60-ca22e5607775",
   "metadata": {},
   "source": [
    "자율주행 자동차 개발을 위한 인공지능 프로젝트 사이클을 만들어 봅시다. \n",
    "\n",
    "* **문제 정의) 해결하고자 하는 목표를 설정**  \n",
    "    교차로에서 신호등의 신호를 파악해야 한다. \n",
    "    \n",
    "* **데이터 수집 및 전처리) 인공지능 모델 훈련에 필요한 데이터를 수집 및 가공**   \n",
    "    자동차 전방의 카메라에서 얻은 사진들을 수집하고, 신호등의 종류를 라벨링한다.  \n",
    "\n",
    "* **데이터 탐색) 데이터의 특성을 파악하고 문제를 제거**  \n",
    "    라벨링 된 신호등의 종류 분포를 파악한다.  \n",
    "    만약, 어느 한 종류의 데이터 수가 적으면 앞의 단계로 돌아가 더 수집한다.  \n",
    "    \n",
    "* **인공지능 모델 학습) 적합한 모델을 선정하여 모델을 만들고 학습**  \n",
    "    사진 속에서 신호등의 위치를 찾고 종류를 분류할 수 있는 인공지능 모델을 선정하여 학습한다.  \n",
    "    \n",
    "* **모델 평가) 학습된 모델이 사람들이 활용할 수 있을만큼 잘 동작하는지 평가**  \n",
    "    학습된 모델 중 가장 최상의 것이 일상 생활에서 사용될 만큼 정확한지 평가한다.  \n",
    "    만약 부정확하다면, 데이터를 수정 혹은 추가하거나 모델을 수정하여 다시 학습한다. "
   ]
  },
  {
   "cell_type": "markdown",
   "id": "5182802c-4f63-426b-8954-93a6e605ea24",
   "metadata": {},
   "source": [
    "**[문제] 문제 정의는 기획 부서가, 데이터 제공은 데이터 부서가, 인공지능 학습은 개발 부서가 담당합니다. 하지만 모두가 인공지능에 대한 지식이 필요한 이유를 '사이클'을 키워드로 하여 설명해 주세요.**"
   ]
  },
  {
   "cell_type": "raw",
   "id": "8c241b29-7cfd-402a-8391-af869d14b1cc",
   "metadata": {},
   "source": [
    " 👉 "
   ]
  },
  {
   "cell_type": "markdown",
   "id": "16d4a334-6cfa-4e23-8618-449c95a90d85",
   "metadata": {
    "tags": []
   },
   "source": [
    "##  **2. 인공지능 활용 목적에 따라 분류하기**\n"
   ]
  },
  {
   "cell_type": "markdown",
   "id": "9a9e51d4-19ea-4f95-acdf-e36a5c478146",
   "metadata": {},
   "source": [
    "### **(1) 회귀/분류를 위한 지도학습**"
   ]
  },
  {
   "cell_type": "markdown",
   "id": "3fe78888-d8cf-4cb4-935a-c734b745e460",
   "metadata": {},
   "source": [
    "### **(2) 그룹화를 위한 비지도학습**"
   ]
  },
  {
   "cell_type": "markdown",
   "id": "dfd9710e-2611-4310-b4cc-2ac01fc6bc47",
   "metadata": {},
   "source": [
    "### **(3) 더 좋은 선택을 위한 강화학습**"
   ]
  },
  {
   "cell_type": "raw",
   "id": "7fee3d3a-b4da-456a-b4e3-307072cd0b0f",
   "metadata": {},
   "source": [
    " 👉 "
   ]
  },
  {
   "cell_type": "raw",
   "id": "82fbb216-a4b1-4dd9-9c8d-50cd4024ed6f",
   "metadata": {},
   "source": [
    " 👉  "
   ]
  }
 ],
 "metadata": {
  "kernelspec": {
   "display_name": "Python 3 (ipykernel)",
   "language": "python",
   "name": "python3"
  },
  "language_info": {
   "codemirror_mode": {
    "name": "ipython",
    "version": 3
   },
   "file_extension": ".py",
   "mimetype": "text/x-python",
   "name": "python",
   "nbconvert_exporter": "python",
   "pygments_lexer": "ipython3",
   "version": "3.10.12"
  }
 },
 "nbformat": 4,
 "nbformat_minor": 5
}
