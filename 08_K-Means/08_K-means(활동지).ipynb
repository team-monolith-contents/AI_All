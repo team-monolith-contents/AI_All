{
 "cells": [
  {
   "cell_type": "markdown",
   "id": "8dde68af",
   "metadata": {},
   "source": [
    "# **[8] K-means 알고리즘**\n",
    "\n",
    "**[학습 목표]**\n",
    "1. K-means의 학습 원리를 이해할 수 있다.\n",
    "2. K-means 알고리즘으로 데이터를 나눌 수 있다.\n",
    "3. 군집 결과를 분석할 수 있다."
   ]
  },
  {
   "cell_type": "markdown",
   "id": "9ab44b21",
   "metadata": {},
   "source": [
    "## **1. 관련 낱말의 의미 알아보기**  "
   ]
  },
  {
   "cell_type": "markdown",
   "id": "3adc2b59",
   "metadata": {},
   "source": [
    "### **(1) 군집과 분류**  "
   ]
  },
  {
   "cell_type": "markdown",
   "id": "b595a3ac",
   "metadata": {},
   "source": [
    "표준국어대사전에 따르면 군집과 분류는 다음과 같은 의미를 가지고 있습니다.\n",
    "* 군집(Clustering) : 사람이나 건물 따위가 한곳에 모임\n",
    "* 분류(Classification) : 종류에 따라서 가름\n",
    "\n",
    "위 두 낱말은 **무언가를 나누고 모은다**는 비슷한 의미를 가지고 있습니다.\n",
    "\n",
    "그럼, 두 낱말의 의미상의 **차이점**은 무엇일까요?"
   ]
  },
  {
   "cell_type": "markdown",
   "id": "7222f0a7",
   "metadata": {},
   "source": [
    "> **1. 군집**\n",
    "> \n",
    "> 아래에 총 6마리의 동물이 있습니다.\n",
    ">\n",
    "<table>\n",
    "<tr>\n",
    "    <th><img src=\"https://drive.google.com/uc?id=1DEJoP1JCimRw146ezEN-rNRrUPE3AIrQ\" width=\"750\"></th>\n",
    "    </tr>\n",
    "<tr>\n",
    "    <th>6마리의 동물</th>\n",
    "</tr>\n",
    "</table>\n",
    "\n",
    ">\n",
    "> 위 동물을 비슷한 **색깔**으로 묶어 볼까요?\n",
    ">\n",
    "\n",
    "<table>\n",
    "<tr>\n",
    "    <th><img src=\"https://drive.google.com/uc?id=1ExDs8j7RO_BYrpgP814T88hMwrtLStgi\" width=\"750\"></th>\n",
    "    </tr>\n",
    "<tr>\n",
    "    <th>6마리의 동물(색깔에 따라 묶기)</th>\n",
    "</tr>\n",
    "</table>\n",
    "\n",
    ">\n",
    "> 이번엔 비슷한 **모양**으로 묶어 볼까요?\n",
    ">\n",
    "\n",
    "<table>\n",
    "<tr>\n",
    "    <th><img src=\"https://drive.google.com/uc?id=11rcfkVO_36iQFltP8hYtpAQO48giaqmq\" width=\"750\"></th>\n",
    "    </tr>\n",
    "<tr>\n",
    "    <th>6마리의 동물(모양에 따라 묶기)</th>\n",
    "</tr>\n",
    "</table>"
   ]
  },
  {
   "cell_type": "markdown",
   "id": "759b8a74",
   "metadata": {},
   "source": [
    "> **2. 분류**\n",
    "> \n",
    "> 이번에도 총 6마리의 동물이 있습니다. 그런데 아까와 다르게 사람이 꼬리표(Label)를 붙이고 있네요.\n",
    ">\n",
    "\n",
    "<table>\n",
    "<tr>\n",
    "    <th><img src=\"https://drive.google.com/uc?id=1W4zb3NjftPUadn5fMw16bdcG9K-MwCgt\" width=\"750\"></th>\n",
    "    </tr>\n",
    "<tr>\n",
    "    <th>6마리의 동물에 \"꼬리표\" 붙이기</th>\n",
    "</tr>\n",
    "</table>\n",
    "\n",
    ">\n",
    "> 위 동물을 꼬리표에 맞게 분류해볼까요?\n",
    ">\n",
    "\n",
    "<table>\n",
    "<tr>\n",
    "    <th><img src=\"https://drive.google.com/uc?id=1Vu4uycvTfFX3ch0DlfSb1qVZmUdm0ps6\" width=\"750\"></th>\n",
    "    </tr>\n",
    "<tr>\n",
    "    <th>6마리의 동물(꼬리표에 따라 묶기)</th>\n",
    "</tr>\n",
    "</table>"
   ]
  },
  {
   "cell_type": "markdown",
   "id": "e4c59cbb",
   "metadata": {},
   "source": [
    "**[문제1] 군집과 분류의 차이점을 적어봅시다.** "
   ]
  },
  {
   "cell_type": "code",
   "execution_count": null,
   "id": "8838fdd6",
   "metadata": {},
   "outputs": [],
   "source": [
    "👉"
   ]
  },
  {
   "cell_type": "markdown",
   "id": "4bdfb70e",
   "metadata": {},
   "source": [
    "### **(2) K-Means**  "
   ]
  },
  {
   "cell_type": "markdown",
   "id": "7b0462a7",
   "metadata": {},
   "source": [
    "K-Means는 분류가 아닌, 군집화 방법 중 하나 입니다.\n",
    "\n",
    "K는 몇 개의 군집으로 나눌 것인가를 뜻하고,\n",
    "\n",
    "means는 우리가 평소 알고 있는 평균을 뜻합니다.\n",
    "\n",
    "'어제 5개의 초콜렛을, 오늘 3개의 초콜렛을 받았다면 평균적으로 하루에 4개의 초콜렛을 받은 것이다'에서의 그 평균이죠.\n",
    "\n",
    "K-means는 각 군집의 평균(means)을 활용하여 K개의 군집으로 나눈다는 의미입니다."
   ]
  },
  {
   "cell_type": "markdown",
   "id": "a4d35713",
   "metadata": {},
   "source": [
    "> **군집이 필요한 사례**\n",
    ">\n",
    "> 어느 도시에서 놀이터 2개를 건설하고자 합니다. 그래서 입지 조사를 하던 중 아래의 그림과 같이 아이들이 거주하고 있다는 정보를 얻게 되었습니다.\n",
    ">\n",
    "> \\* 편의상 마을 아이들의 거리를 제외한 다른 요소(놀이터 활용 욕구, 건강 상태 등)는 모두 같다고 가정하겠습니다.\n",
    ">\n",
    "\n",
    "<table>\n",
    "<tr>\n",
    "    <th><img src=\"https://drive.google.com/uc?id=1urzSwdJ3QRsCcFlIhYU5CWrT7oezDxWv\" width=\"750\"></th>\n",
    "    </tr>\n",
    "<tr>\n",
    "    <th>마을 지도</th>\n",
    "</tr>\n",
    "</table>\n",
    "\n",
    "> \n",
    "> 만약 다음과 같이 놀이터를 짓으면 어떤 문제가 있을까요?\n",
    ">\n",
    "\n",
    "<table>\n",
    "<tr>\n",
    "    <th><img src=\"https://drive.google.com/uc?id=14su7Mz3pi4juQVdnCrlw--6NgYE7_-KK\" width=\"750\"></th>\n",
    "    </tr>\n",
    "<tr>\n",
    "    <th>마을 지도_놀이터 위치_오른쪽</th>\n",
    "</tr>\n",
    "</table>\n",
    "\n",
    ">\n",
    "> 위와 같이 놀이터를 지으면 멀리 떨어져있는 **『도영』**과 **『제니』**는 놀이터를 이용하기 어려울 거에요.\n",
    ">\n",
    "> 아이들이 모두 행복하게 놀이터를 이용할 수 있기 위한 장소를 찾을 때 K-means 알고리즘을 활용할 수 있어요."
   ]
  },
  {
   "cell_type": "markdown",
   "id": "9a2861e8",
   "metadata": {},
   "source": [
    "## **2. K-means 알고리즘의 원리 알기**  "
   ]
  },
  {
   "cell_type": "markdown",
   "id": "bca9e10d",
   "metadata": {},
   "source": [
    "중심이란 각 군집의 중심에 위치한 점을 의미합니다. \n",
    "\n",
    "나누어야할 군집이 2개라면, 각 군집별로 중심이 하나씩 존재하기 때문에 총 2개의 군집이 생깁니다. K-means 알고리즘으로 군집화 하는 과정은 다음과 같습니다.\n",
    "\n",
    "<table>\n",
    "<tr>\n",
    "    <th><img src=\"https://drive.google.com/uc?id=1LmjG7NrlPUPjmJ1bSZKqASZWX1xjQGk-\" width=\"750\"></th>\n",
    "    </tr>\n",
    "<tr>\n",
    "    <th>K-means 알고리즘의 군집화 과정</th>\n",
    "</tr>\n",
    "</table>"
   ]
  },
  {
   "cell_type": "markdown",
   "id": "032b5cdc",
   "metadata": {},
   "source": [
    "> **군집화 과정 살펴보기**\n",
    ">\n",
    "> 위에서 놀이터의 위치를 군집화를 통해 정해봅시다.\n",
    ">\n",
    ">> **1. 초기 중심 설정**\n",
    ">> \n",
    ">> **초기 중심**이란 각 군집의 중심이 되는 최초의 점을 말합니다. 초기 중심을 설정하는 방법은 다양하지만 이번에는 초기 중심을 무작위로 정하는 방식을 사용해보겠습니다.\n",
    "\n",
    "<table>\n",
    "<tr>\n",
    "    <th><img src=\"https://drive.google.com/uc?id=1R5D0y3CjEYW-8MnPcHiHtkAi3Hag5pK3\" width=\"750\"></th>\n",
    "    </tr>\n",
    "<tr>\n",
    "    <th>마을 지도_초기 중심 설정</th>\n",
    "</tr>\n",
    "</table>\n",
    "\n",
    ">> **2. 데이터를 군집에 배정**\n",
    ">>\n",
    ">> 다음 단계에서는 초기 중심과의 거리를 기준으로 데이터를 각 군집에 배정합니다. \n",
    ">> \n",
    ">> **『제니』**는 **『놀이터2』**에 가까우므로 **『놀이터2』**에 배정하면 되겠네요.\n",
    ">> \n",
    ">> **『도영』**은 **『놀이터1』**와 4km 떨어져있습니다. **『놀이터2』**와 얼마나 떨어져있는지 알기 위해선 **피타고라스 정리**를 이용해야 합니다.\n",
    "\n",
    "<table>\n",
    "<tr>\n",
    "    <th><img src=\"https://drive.google.com/uc?id=1aIQMMdHm8VG6cw9ufPkPCpA884UNG38c\" width=\"750\"></th>\n",
    "    </tr>\n",
    "<tr>\n",
    "    <th>마을 지도_피타고라스 정리</th>\n",
    "</tr>\n",
    "</table>\n",
    "\n",
    ">> **『도영』**은 **『놀이터1』**에 더 가까우므로 P1에 배정하면 되겠네요.\n",
    ">> \n",
    ">> **『채은』**, **『승호』**, **『현아』**, **『지윤』**도 같은 방법으로 배정하면 다음과 같이 군집이 배정 됩니다.\n",
    ">>\n",
    ">> \\# 마을 지도(군집배정1)\n",
    ">\n",
    ">> **3. 중심 재설정**\n",
    ">>\n",
    ">> 초기 중심은 임시 중심이므로, 아이들을 군집에 배정한 후, 각 군집의 중심을 다시 설정하는 것이 필요합니다. 각 군집에 속한 아이들의 중간 위치로 중심을 새롭게 설정하면 됩니다. 각 군집의 새로운 중심을 찾아봅시다.\n",
    "\n",
    "<table>\n",
    "<tr>\n",
    "    <th><img src=\"https://drive.google.com/uc?id=1gHp3jzg1UxuGa5-JCrMkK44DnEDdGjvD\" width=\"750\"></th>\n",
    "    </tr>\n",
    "<tr>\n",
    "    <th>마을 지도_중심 재설정</th>\n",
    "</tr>\n",
    "</table>\n",
    "\n",
    ">> **4. 군집이 변경되는 데이터가 없을 때까지 2와 3을 반복하기**\n",
    ">>\n",
    ">> 군집에 대한 변경이 있는지 확인합니다. 만약 군집에 대한 변경이 발생하면 2)와 3)의 작업을 반복합니다.\n",
    "\n",
    "<table>\n",
    "<tr>\n",
    "    <th><img src=\"https://drive.google.com/uc?id=13FtdtCt3Iv1ZslSoB3AyRKQQm32IUnTC\" width=\"750\"></th>\n",
    "    </tr>\n",
    "<tr>\n",
    "    <th>마을 지도_2, 3단계 반복</th>\n",
    "</tr>\n",
    "</table>"
   ]
  },
  {
   "cell_type": "markdown",
   "id": "e5a66fec",
   "metadata": {},
   "source": [
    "## **3. K-means 알고리즘 실습하기**"
   ]
  },
  {
   "cell_type": "markdown",
   "id": "db857c1b",
   "metadata": {},
   "source": [
    "체육시간에 팀별 경쟁활동을 하며 '밸붕(밸런스 붕괴)'을 겪었던 적이 있나요?\n",
    "\n",
    "이때는 이기는 팀도, 지는 팀도 즐거움이 적기에 학생들의 신체능력을 고려하여 팀을 적절하게 구성하는 것이 필요합니다.\n",
    "\n",
    "초, 중, 고등학교에서는 매년 의무적으로 학생들의 비만과 체력저하를 방지하기 위해 **PAPS(학생 건강 체력 평가 제도)** 를 실시하고 있습니다.\n",
    "\n",
    "심폐지구력, 유연성, 근력 및 근지구력, 순발력, 체지방을 측정하는 이 PAPS 데이터를 활용하면 경쟁활동을 위한 균형있는 팀을 구성할 수 있을 것입니다.\n",
    "\n",
    "K-means 알고리즘으로 학생들의 PAPS 데이터를 바탕으로 몇 개의 군집을 만들어봅시다."
   ]
  },
  {
   "cell_type": "markdown",
   "id": "73f87d9d",
   "metadata": {},
   "source": [
    "> **1. 데이터 살펴보기**\n",
    ">\n",
    ">1-1) pandas의 별명(alias)을 pd로 하여 아래의 링크에 담겨있는 데이터를 표(DataFrame)으로 만들고 df 라는 변수에 넣어봅시다.\n",
    ">\n",
    "> https://raw.githubusercontent.com/RaccoonTeacher/PapsClustering/main/PapsScore.csv\n"
   ]
  },
  {
   "cell_type": "code",
   "execution_count": 3,
   "id": "b5e78470",
   "metadata": {},
   "outputs": [],
   "source": []
  },
  {
   "cell_type": "markdown",
   "id": "7c44737b",
   "metadata": {},
   "source": [
    "> 1-2) head 함수와 tail 함수를 활용하면 일부 데이터를 확인할 수 있습니다."
   ]
  },
  {
   "cell_type": "code",
   "execution_count": 5,
   "id": "b5eb46af",
   "metadata": {},
   "outputs": [
    {
     "data": {
      "text/html": [
       "<div>\n",
       "<style scoped>\n",
       "    .dataframe tbody tr th:only-of-type {\n",
       "        vertical-align: middle;\n",
       "    }\n",
       "\n",
       "    .dataframe tbody tr th {\n",
       "        vertical-align: top;\n",
       "    }\n",
       "\n",
       "    .dataframe thead th {\n",
       "        text-align: right;\n",
       "    }\n",
       "</style>\n",
       "<table border=\"1\" class=\"dataframe\">\n",
       "  <thead>\n",
       "    <tr style=\"text-align: right;\">\n",
       "      <th></th>\n",
       "      <th>성별</th>\n",
       "      <th>이름</th>\n",
       "      <th>오래달리기</th>\n",
       "      <th>50M 달리기</th>\n",
       "      <th>윗몸말아올리기</th>\n",
       "      <th>앉아윗몸앞으로굽히기</th>\n",
       "    </tr>\n",
       "  </thead>\n",
       "  <tbody>\n",
       "    <tr>\n",
       "      <th>0</th>\n",
       "      <td>남</td>\n",
       "      <td>A</td>\n",
       "      <td>80</td>\n",
       "      <td>10.46</td>\n",
       "      <td>68</td>\n",
       "      <td>3.5</td>\n",
       "    </tr>\n",
       "    <tr>\n",
       "      <th>1</th>\n",
       "      <td>남</td>\n",
       "      <td>B</td>\n",
       "      <td>80</td>\n",
       "      <td>9.23</td>\n",
       "      <td>30</td>\n",
       "      <td>-6.0</td>\n",
       "    </tr>\n",
       "    <tr>\n",
       "      <th>2</th>\n",
       "      <td>여</td>\n",
       "      <td>C</td>\n",
       "      <td>81</td>\n",
       "      <td>9.62</td>\n",
       "      <td>50</td>\n",
       "      <td>26.5</td>\n",
       "    </tr>\n",
       "    <tr>\n",
       "      <th>3</th>\n",
       "      <td>남</td>\n",
       "      <td>D</td>\n",
       "      <td>61</td>\n",
       "      <td>10.35</td>\n",
       "      <td>22</td>\n",
       "      <td>2.5</td>\n",
       "    </tr>\n",
       "    <tr>\n",
       "      <th>4</th>\n",
       "      <td>남</td>\n",
       "      <td>E</td>\n",
       "      <td>65</td>\n",
       "      <td>9.70</td>\n",
       "      <td>39</td>\n",
       "      <td>6.0</td>\n",
       "    </tr>\n",
       "  </tbody>\n",
       "</table>\n",
       "</div>"
      ],
      "text/plain": [
       "  성별 이름  오래달리기  50M 달리기  윗몸말아올리기  앉아윗몸앞으로굽히기\n",
       "0  남  A     80    10.46       68         3.5\n",
       "1  남  B     80     9.23       30        -6.0\n",
       "2  여  C     81     9.62       50        26.5\n",
       "3  남  D     61    10.35       22         2.5\n",
       "4  남  E     65     9.70       39         6.0"
      ]
     },
     "execution_count": 5,
     "metadata": {},
     "output_type": "execute_result"
    }
   ],
   "source": [
    "#참고 자료\n",
    "##df의 앞 5행 살펴보기\n",
    "df.head(5) #혹은 df.head()"
   ]
  },
  {
   "cell_type": "code",
   "execution_count": 6,
   "id": "ca503d98",
   "metadata": {},
   "outputs": [
    {
     "data": {
      "text/html": [
       "<div>\n",
       "<style scoped>\n",
       "    .dataframe tbody tr th:only-of-type {\n",
       "        vertical-align: middle;\n",
       "    }\n",
       "\n",
       "    .dataframe tbody tr th {\n",
       "        vertical-align: top;\n",
       "    }\n",
       "\n",
       "    .dataframe thead th {\n",
       "        text-align: right;\n",
       "    }\n",
       "</style>\n",
       "<table border=\"1\" class=\"dataframe\">\n",
       "  <thead>\n",
       "    <tr style=\"text-align: right;\">\n",
       "      <th></th>\n",
       "      <th>성별</th>\n",
       "      <th>이름</th>\n",
       "      <th>오래달리기</th>\n",
       "      <th>50M 달리기</th>\n",
       "      <th>윗몸말아올리기</th>\n",
       "      <th>앉아윗몸앞으로굽히기</th>\n",
       "    </tr>\n",
       "  </thead>\n",
       "  <tbody>\n",
       "    <tr>\n",
       "      <th>18</th>\n",
       "      <td>여</td>\n",
       "      <td>T</td>\n",
       "      <td>70</td>\n",
       "      <td>11.10</td>\n",
       "      <td>42</td>\n",
       "      <td>20.0</td>\n",
       "    </tr>\n",
       "    <tr>\n",
       "      <th>19</th>\n",
       "      <td>여</td>\n",
       "      <td>U</td>\n",
       "      <td>32</td>\n",
       "      <td>10.40</td>\n",
       "      <td>6</td>\n",
       "      <td>6.5</td>\n",
       "    </tr>\n",
       "    <tr>\n",
       "      <th>20</th>\n",
       "      <td>남</td>\n",
       "      <td>V</td>\n",
       "      <td>36</td>\n",
       "      <td>11.69</td>\n",
       "      <td>8</td>\n",
       "      <td>4.5</td>\n",
       "    </tr>\n",
       "    <tr>\n",
       "      <th>21</th>\n",
       "      <td>남</td>\n",
       "      <td>W</td>\n",
       "      <td>100</td>\n",
       "      <td>8.76</td>\n",
       "      <td>67</td>\n",
       "      <td>19.5</td>\n",
       "    </tr>\n",
       "    <tr>\n",
       "      <th>22</th>\n",
       "      <td>여</td>\n",
       "      <td>X</td>\n",
       "      <td>105</td>\n",
       "      <td>10.11</td>\n",
       "      <td>43</td>\n",
       "      <td>11.5</td>\n",
       "    </tr>\n",
       "  </tbody>\n",
       "</table>\n",
       "</div>"
      ],
      "text/plain": [
       "   성별 이름  오래달리기  50M 달리기  윗몸말아올리기  앉아윗몸앞으로굽히기\n",
       "18  여  T     70    11.10       42        20.0\n",
       "19  여  U     32    10.40        6         6.5\n",
       "20  남  V     36    11.69        8         4.5\n",
       "21  남  W    100     8.76       67        19.5\n",
       "22  여  X    105    10.11       43        11.5"
      ]
     },
     "execution_count": 6,
     "metadata": {},
     "output_type": "execute_result"
    }
   ],
   "source": [
    "#참고 자료\n",
    "##df의 뒤 5행 살펴보기\n",
    "df.tail(5) #혹은 df.tail()"
   ]
  },
  {
   "cell_type": "markdown",
   "id": "2d659136",
   "metadata": {},
   "source": [
    "**[문제2] df의 앞 3행을 출력해보세요.** "
   ]
  },
  {
   "cell_type": "code",
   "execution_count": null,
   "id": "d4245fbd",
   "metadata": {},
   "outputs": [],
   "source": []
  },
  {
   "cell_type": "markdown",
   "id": "23aafbcc",
   "metadata": {},
   "source": [
    "> 1-3) 이번에 사용하는 데이터는 실제 초등학교 학생의 PAPS 데이터를 비식별화한 것입니다. 비식별화 방법 중 어떤 방법을 사용했습니까?"
   ]
  },
  {
   "cell_type": "code",
   "execution_count": null,
   "id": "740685df",
   "metadata": {},
   "outputs": [],
   "source": [
    "👉 "
   ]
  },
  {
   "cell_type": "markdown",
   "id": "18e38a7d",
   "metadata": {},
   "source": [
    "> 1-4) 개인정보 비식별화가 필요한 이유는 무엇입니까?"
   ]
  },
  {
   "cell_type": "code",
   "execution_count": null,
   "id": "53bc8abf",
   "metadata": {},
   "outputs": [],
   "source": [
    "👉 "
   ]
  },
  {
   "cell_type": "markdown",
   "id": "15067e54",
   "metadata": {},
   "source": [
    "> 1-5) 데이터에 결측치가 없는지 확인해봅시다.\n",
    ">\n",
    "> \\# 위에서 head, tail 함수를 쓴 방법과 마찬가지로 isna 함수를 활용하면 결측치를 확인할 수 있습니다.\n",
    ">\n",
    "> \\# True는 결측치가 있다는 의미이며, False는 결측치가 없다는 의미입니다."
   ]
  },
  {
   "cell_type": "code",
   "execution_count": null,
   "id": "7cca384f",
   "metadata": {},
   "outputs": [],
   "source": []
  },
  {
   "cell_type": "markdown",
   "id": "33a80525",
   "metadata": {},
   "source": [
    "> 1-6) describe 함수를 활용하면 \"오래달리기\"의 최대값(max)과 최소값(min)을 확인할 수 있습니다."
   ]
  },
  {
   "cell_type": "code",
   "execution_count": null,
   "id": "acec1929",
   "metadata": {},
   "outputs": [],
   "source": []
  },
  {
   "cell_type": "markdown",
   "id": "3d433f6b",
   "metadata": {},
   "source": [
    "**[문제3] \"오래 달리기\"의 최대값과 \"앉아윗몸앞으로굽히기\"의 최대값을 print 함수를 활용하여 각각 출력해보세요.** "
   ]
  },
  {
   "cell_type": "code",
   "execution_count": null,
   "id": "e03d17c5",
   "metadata": {},
   "outputs": [],
   "source": []
  },
  {
   "cell_type": "markdown",
   "id": "b1bec9b8",
   "metadata": {},
   "source": [
    "> **2. 데이터 스케일링하기**\n",
    ">\n",
    "> \"오래달리기\"의 측정 단위는 **초** \"앉아윗몸앞으로굽히기\"의 측정 단위는 **cm**입니다.\n",
    ">\n",
    "> 측정 단위와 측정 범위(최대값과 최소값의 사이 간격)가 다를 때 우리는 데이터 스케일링을 통해 데이터 값의 크기를 조정합니다.\n",
    ">\n",
    ">스케일링 방법 중 하나로 Min-Max 스케일링이 있습니다.\n",
    ">\n",
    ">Min-Max 스케일링은 아래의 식을 통해 이루어집니다.\n",
    ">\n",
    "> \\#Min-Max 스케일링.PNG\n",
    ">\n",
    ">결국 데이터값은 0~1 중 하나의 값이 되죠."
   ]
  },
  {
   "cell_type": "markdown",
   "id": "ac89484e",
   "metadata": {},
   "source": [
    "**[문제4] \"왕복 오래달리기\"의 최소값과 최대값은 Min-Max 스케일링 이후 각각 어떤 숫자가 됩니까?**"
   ]
  },
  {
   "cell_type": "code",
   "execution_count": null,
   "id": "3fc561f0",
   "metadata": {},
   "outputs": [],
   "source": [
    "👉 최소값 : \n",
    "👉 최대값 : "
   ]
  },
  {
   "cell_type": "markdown",
   "id": "15eb7cf3",
   "metadata": {},
   "source": [
    "> 다음의 명령어는 다음을 실행하게 됩니다.\n",
    ">\n",
    "> (1) sklearn 라이브러리의 preprocessing 모듈에서 MinMaxScaler 함수를 불러옵니다.\n",
    ">\n",
    "> (2) MinMaxScaler 객체를 생성하고 scaler 변수에 넣습니다.\n",
    ">\n",
    "> (3) \"오래달리기\"의 값을 Min-Max Scaling을 통해 0~1사이의 값으로 변환합니다."
   ]
  },
  {
   "cell_type": "code",
   "execution_count": null,
   "id": "7d7f57c6",
   "metadata": {},
   "outputs": [],
   "source": [
    "#참고 자료\n",
    "from sklearn.preprocessing import MinMaxScaler\n",
    "scaler = MinMaxScaler()\n",
    "df[\"오래달리기\"] = scaler.fit_transform(df[[\"오래달리기\"]])"
   ]
  },
  {
   "cell_type": "code",
   "execution_count": 10,
   "id": "c76773bf",
   "metadata": {},
   "outputs": [
    {
     "data": {
      "text/plain": [
       "0     0.484848\n",
       "1     0.484848\n",
       "2     0.494949\n",
       "3     0.292929\n",
       "4     0.333333\n",
       "5     0.484848\n",
       "6     0.242424\n",
       "7     0.151515\n",
       "8     0.555556\n",
       "9     1.000000\n",
       "10    0.020202\n",
       "11    0.111111\n",
       "12    0.191919\n",
       "13    0.111111\n",
       "14    0.959596\n",
       "15    0.494949\n",
       "16    0.626263\n",
       "17    0.494949\n",
       "18    0.383838\n",
       "19    0.000000\n",
       "20    0.040404\n",
       "21    0.686869\n",
       "22    0.737374\n",
       "Name: 오래달리기, dtype: float64"
      ]
     },
     "execution_count": 10,
     "metadata": {},
     "output_type": "execute_result"
    }
   ],
   "source": [
    "#참고 자료\n",
    "#스케일링한 오래달리기 값 살펴보기\n",
    "df[\"오래달리기\"]"
   ]
  },
  {
   "cell_type": "markdown",
   "id": "678ffd28",
   "metadata": {},
   "source": [
    "**[문제5] 위 명령어를 참고하여 다른 종목들도 0~1 사이의 값으로 변환하세요.**"
   ]
  },
  {
   "cell_type": "code",
   "execution_count": null,
   "id": "5d55993b",
   "metadata": {},
   "outputs": [],
   "source": []
  },
  {
   "cell_type": "markdown",
   "id": "593b61da",
   "metadata": {},
   "source": [
    "> **3. 데이터 조정하기**\n",
    ">\n",
    "> 다른 종목과 달리 값이 크면 클 수록 체력이 낮다는 것을 보여주는 종목이 있습니다.\n",
    ">\n",
    "> 바로 **50M 달리기**입니다."
   ]
  },
  {
   "cell_type": "markdown",
   "id": "526fda8e",
   "metadata": {},
   "source": [
    "**[문제6] 위 종목은 1을 0으로, 0을 1로 만들어야합니다. 아래의 기호를 조합하여 종목의 값을 변환해보세요.**\n",
    "- df[{종목명}]\n",
    "- 1\n",
    "- \\-"
   ]
  },
  {
   "cell_type": "code",
   "execution_count": 12,
   "id": "fe3c7a5d",
   "metadata": {},
   "outputs": [],
   "source": []
  },
  {
   "cell_type": "markdown",
   "id": "57342c21",
   "metadata": {},
   "source": [
    "> **4. K-Means 알고리즘으로 군집화하기**\n",
    ">\n",
    "> K-Means 알고리즘으로 군집화하는 과정은 아래와 같습니다.\n",
    ">\n",
    "> -  sklearn 라이브러리의 cluster 모듈에서 KMeans 함수를 불러옵니다.\n",
    ">\n",
    "> - 군집화 방법 중 KMeans를 활용해 2개의 군집으로 분류하겠다는 것을 선언하고 kmeans 변수에 넣습니다.\n",
    ">\n",
    "> - \"오래달리기\"의 값을 바탕으로 2개의 군집으로 분류하고 cluster 변수에 넣습니다.\n",
    ">\n",
    "> - 열을 기준(axis=1)으로 하여 학생 이름과 군집화된 값을 합쳐 하나의 표로 만듭니다."
   ]
  },
  {
   "cell_type": "code",
   "execution_count": 20,
   "id": "64b00414",
   "metadata": {},
   "outputs": [
    {
     "data": {
      "text/html": [
       "<div>\n",
       "<style scoped>\n",
       "    .dataframe tbody tr th:only-of-type {\n",
       "        vertical-align: middle;\n",
       "    }\n",
       "\n",
       "    .dataframe tbody tr th {\n",
       "        vertical-align: top;\n",
       "    }\n",
       "\n",
       "    .dataframe thead th {\n",
       "        text-align: right;\n",
       "    }\n",
       "</style>\n",
       "<table border=\"1\" class=\"dataframe\">\n",
       "  <thead>\n",
       "    <tr style=\"text-align: right;\">\n",
       "      <th></th>\n",
       "      <th>이름</th>\n",
       "      <th>0</th>\n",
       "    </tr>\n",
       "  </thead>\n",
       "  <tbody>\n",
       "    <tr>\n",
       "      <th>0</th>\n",
       "      <td>A</td>\n",
       "      <td>1</td>\n",
       "    </tr>\n",
       "    <tr>\n",
       "      <th>1</th>\n",
       "      <td>B</td>\n",
       "      <td>1</td>\n",
       "    </tr>\n",
       "    <tr>\n",
       "      <th>2</th>\n",
       "      <td>C</td>\n",
       "      <td>1</td>\n",
       "    </tr>\n",
       "    <tr>\n",
       "      <th>3</th>\n",
       "      <td>D</td>\n",
       "      <td>0</td>\n",
       "    </tr>\n",
       "    <tr>\n",
       "      <th>4</th>\n",
       "      <td>E</td>\n",
       "      <td>0</td>\n",
       "    </tr>\n",
       "    <tr>\n",
       "      <th>5</th>\n",
       "      <td>F</td>\n",
       "      <td>1</td>\n",
       "    </tr>\n",
       "    <tr>\n",
       "      <th>6</th>\n",
       "      <td>G</td>\n",
       "      <td>0</td>\n",
       "    </tr>\n",
       "    <tr>\n",
       "      <th>7</th>\n",
       "      <td>I</td>\n",
       "      <td>0</td>\n",
       "    </tr>\n",
       "    <tr>\n",
       "      <th>8</th>\n",
       "      <td>J</td>\n",
       "      <td>1</td>\n",
       "    </tr>\n",
       "    <tr>\n",
       "      <th>9</th>\n",
       "      <td>K</td>\n",
       "      <td>1</td>\n",
       "    </tr>\n",
       "    <tr>\n",
       "      <th>10</th>\n",
       "      <td>L</td>\n",
       "      <td>0</td>\n",
       "    </tr>\n",
       "    <tr>\n",
       "      <th>11</th>\n",
       "      <td>M</td>\n",
       "      <td>0</td>\n",
       "    </tr>\n",
       "    <tr>\n",
       "      <th>12</th>\n",
       "      <td>N</td>\n",
       "      <td>0</td>\n",
       "    </tr>\n",
       "    <tr>\n",
       "      <th>13</th>\n",
       "      <td>O</td>\n",
       "      <td>0</td>\n",
       "    </tr>\n",
       "    <tr>\n",
       "      <th>14</th>\n",
       "      <td>P</td>\n",
       "      <td>1</td>\n",
       "    </tr>\n",
       "    <tr>\n",
       "      <th>15</th>\n",
       "      <td>Q</td>\n",
       "      <td>1</td>\n",
       "    </tr>\n",
       "    <tr>\n",
       "      <th>16</th>\n",
       "      <td>R</td>\n",
       "      <td>1</td>\n",
       "    </tr>\n",
       "    <tr>\n",
       "      <th>17</th>\n",
       "      <td>S</td>\n",
       "      <td>1</td>\n",
       "    </tr>\n",
       "    <tr>\n",
       "      <th>18</th>\n",
       "      <td>T</td>\n",
       "      <td>0</td>\n",
       "    </tr>\n",
       "    <tr>\n",
       "      <th>19</th>\n",
       "      <td>U</td>\n",
       "      <td>0</td>\n",
       "    </tr>\n",
       "    <tr>\n",
       "      <th>20</th>\n",
       "      <td>V</td>\n",
       "      <td>0</td>\n",
       "    </tr>\n",
       "    <tr>\n",
       "      <th>21</th>\n",
       "      <td>W</td>\n",
       "      <td>1</td>\n",
       "    </tr>\n",
       "    <tr>\n",
       "      <th>22</th>\n",
       "      <td>X</td>\n",
       "      <td>1</td>\n",
       "    </tr>\n",
       "  </tbody>\n",
       "</table>\n",
       "</div>"
      ],
      "text/plain": [
       "   이름  0\n",
       "0   A  1\n",
       "1   B  1\n",
       "2   C  1\n",
       "3   D  0\n",
       "4   E  0\n",
       "5   F  1\n",
       "6   G  0\n",
       "7   I  0\n",
       "8   J  1\n",
       "9   K  1\n",
       "10  L  0\n",
       "11  M  0\n",
       "12  N  0\n",
       "13  O  0\n",
       "14  P  1\n",
       "15  Q  1\n",
       "16  R  1\n",
       "17  S  1\n",
       "18  T  0\n",
       "19  U  0\n",
       "20  V  0\n",
       "21  W  1\n",
       "22  X  1"
      ]
     },
     "execution_count": 20,
     "metadata": {},
     "output_type": "execute_result"
    }
   ],
   "source": [
    "#참고 자료\n",
    "from sklearn.cluster import KMeans\n",
    "kmeans = KMeans(n_clusters=2, n_init=\"auto\")\n",
    "cluster = kmeans.fit(df[[\"오래달리기\"]])\n",
    "pd.concat([df[[\"이름\"]], pd.DataFrame(cluster.labels_)], axis=1)"
   ]
  },
  {
   "cell_type": "markdown",
   "id": "528e933d",
   "metadata": {},
   "source": [
    "**[문제7] 위 명령어를 참고하여 모든 종목의 데이터를 활용해 6개의 군집으로 분류해보세요.**"
   ]
  },
  {
   "cell_type": "code",
   "execution_count": null,
   "id": "fb7fd9bf",
   "metadata": {},
   "outputs": [],
   "source": []
  }
 ],
 "metadata": {
  "kernelspec": {
   "display_name": "Python 3 (ipykernel)",
   "language": "python",
   "name": "python3"
  },
  "language_info": {
   "codemirror_mode": {
    "name": "ipython",
    "version": 3
   },
   "file_extension": ".py",
   "mimetype": "text/x-python",
   "name": "python",
   "nbconvert_exporter": "python",
   "pygments_lexer": "ipython3",
   "version": "3.11.2"
  }
 },
 "nbformat": 4,
 "nbformat_minor": 5
}
