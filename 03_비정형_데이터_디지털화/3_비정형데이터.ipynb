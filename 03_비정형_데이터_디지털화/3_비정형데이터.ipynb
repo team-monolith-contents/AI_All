{
 "cells": [
  {
   "cell_type": "markdown",
   "id": "1dc69d2d-23f3-4475-947d-76813d79ad8c",
   "metadata": {
    "tags": []
   },
   "source": [
    "# **[3] 비정형 데이터의 디지털화**\n",
    "\n",
    "\n",
    "\n",
    "    \n"
   ]
  },
  {
   "cell_type": "markdown",
   "id": "66fd8b0e-c355-48b3-b2d0-22cf258a9527",
   "metadata": {
    "tags": []
   },
   "source": [
    "#### **[학습 목표]**\n",
    "1. 비정형 데이터의 디지털화 필요성을 이해할 수 있다.\n",
    "2. 빛을 디지털화하여 활용할 수 있다.\n",
    "3. 소리를 디지털화하여 활용할 수 있다.\n",
    "4. 언어를 디지털화하여 활용할 수 있다.\n",
    "\n",
    "\n",
    "    \n"
   ]
  },
  {
   "cell_type": "markdown",
   "id": "16d4a334-6cfa-4e23-8618-449c95a90d85",
   "metadata": {
    "tags": []
   },
   "source": [
    "##  **1. 비정형 데이터의 디지털화 필요성 이해하기**\n"
   ]
  },
  {
   "cell_type": "markdown",
   "id": "59f29659-19ef-42a8-ae2e-2d45e2d3a7e8",
   "metadata": {},
   "source": [
    "학교에서 만나는 인공지능 수업 고등기초 40페이지 센서와 인식  \n",
    "EBS math ai 40페이지 데이터 처리  \n",
    "고등 인공지능 기초 138페이지 정형데이터와 비정형데이터"
   ]
  },
  {
   "cell_type": "markdown",
   "id": "cc4c3b0e-ef2c-4414-b677-4eac0fb52d0a",
   "metadata": {},
   "source": [
    "### **(1) 비정형 데이터의 특징**   "
   ]
  },
  {
   "cell_type": "markdown",
   "id": "16fb768b-f8b6-414d-9d97-b46508ca83bf",
   "metadata": {},
   "source": [
    "데이터는 정형 데이터와 비정형 데이터로 나눌 수 있습니다.  \n",
    "\n",
    "앞서 2단원에서 배운 정형 데이터는 각 속성(특징)들이 숫자나, 문자로 표현되어 비교하기 쉽습니다.  \n",
    "이와 다르게 속성(특징)을 쉽게 정의할 수 없는 데이터를 비정형 데이터로 분류합니다.  \n",
    "\n",
    "> **정형 데이터**: 데이터를 공통된 속성(특징)에 대한 값으로 저장한 형태로, 주로 2차원 표로 표현할 수 있다.   \n",
    "> **비정형 데이터**: 데이터의 속성(특징)을 바로 알 수 없다. \n",
    "\n",
    "\n",
    "예를 들어 고양이와 개를 구분할 때 사용할 수 있는 데이터를 생각해 봅시다.\n",
    "\n",
    "1. 골격 길이 측정 데이터\n",
    "2. 생김새를 찍은 사진\n",
    "3. 울음 소리\n",
    "4. 생김새를 묘사한 문장  \n",
    "**png 요청 자료 완료**\n",
    "\n",
    "<table>\n",
    "    <tr>\n",
    "        <th> </th>\n",
    "        <th> </th>\n",
    "    </tr>\n",
    "    <tr>\n",
    "        <th> <골격 길이 측정 데이터> </th>\n",
    "        <th> <생김새를 찍은 사진> </th>\n",
    "    </tr>\n",
    "    <tr>\n",
    "        <th> </th>\n",
    "        <th> </th>\n",
    "    </tr>\n",
    "    <tr>\n",
    "        <th> <울음 소리> </th>\n",
    "        <th> <생김새를 묘사한 문장> </th>\n",
    "    </tr>\n",
    "</table>\n",
    "\n",
    "이 중 **<골격 길이 측정 데이터>** 는 각 골격의 종류 별로 측정된 길이를 저장한 것으로 정형 데이터로 분류할 수 있습니다.  \n",
    "숫자로 이루어져 있어 컴퓨터에 쉽게 입력하고 비교할 수 있습니다.  \n",
    "\n",
    "나머지 데이터는 어떤가요?  \n",
    "**<생김새를 찍은 사진>**, **<울음 소리>**, **<생김새를 묘사한 문장>** 을 컴퓨터는 어떻게 분석할 수 있을까요?  \n",
    "여러분에게는 눈과 귀 그리고 고도화된 뇌가 있어 쉽게 구분할 수 있을 것입니다.  \n",
    "하지만 컴퓨터는 사진, 소리, 문장을 바로 인식할 수 없기 때문에 이 문제를 먼저 풀어야 합니다.  \n",
    "\n",
    "\n"
   ]
  },
  {
   "cell_type": "markdown",
   "id": "e363a44d-b067-4982-91e7-a4483178761b",
   "metadata": {},
   "source": [
    "### **(2) 디지털화(digitizing)란?**"
   ]
  },
  {
   "cell_type": "markdown",
   "id": "9b12c046-6eaa-4063-9a4b-8bd46d2f0fd9",
   "metadata": {},
   "source": [
    "> **디지털화**: 현실의 데이터를 컴퓨터가 이해할 수 있는 방식으로 변환하는 전처리 방법\n",
    "\n",
    "컴퓨터는 모든 데이터를 숫자의 형태로만 인식할 수 있습니다.  \n",
    "때문에 디지털화라는 것은 **데이터를 숫자로 표현하는 것**과 같습니다.\n",
    "\n",
    "여러 비정형 데이터의 요소를 분석해 봅시다.\n",
    "\n",
    "> * **빛**은 파동의 특징을 가지므로 파장, 진폭 등의 물리량으로 표현할 수 있다.\n",
    "> * **소리**는 공기로 전달되는 파동이므로 파형으로 표현할 수 있다.    \n",
    "> * **문장**은 의미를 가진 문자가 연결된 것이므로 의미를 가진 가장 작은 말의 단위(형태소)로 나누어 표현할 수 있다.\n",
    "\n",
    "빛과 소리는 물리적인 특성을 센서를 통해 측정하고 숫자로 바꾸어 디지털화할 수 있습니다.  \n",
    "사람의 언어는 의미를 가진 말의 단위에 번호를 매기면, 문장을 나열된 숫자들로 바꾸어 디지털화할 수 있습니다.\n",
    "\n"
   ]
  },
  {
   "cell_type": "markdown",
   "id": "bcfee16b-fddf-4686-8579-6d5b0d6cf81d",
   "metadata": {
    "tags": []
   },
   "source": [
    "##  **2. 빛을 디지털화하여 활용하기**\n"
   ]
  },
  {
   "cell_type": "markdown",
   "id": "9729f633-8c6d-4f13-a317-22ca8188b319",
   "metadata": {},
   "source": [
    "### **(1) 빛 데이터로 무엇을 할 수 있을까?**  "
   ]
  },
  {
   "cell_type": "markdown",
   "id": "9b4d099a-ccc1-4564-b18f-dd11af6d7e71",
   "metadata": {},
   "source": [
    "빛의 다른 이름은 전자기파로 파동의 성질을 가지고 있습니다.  \n",
    "빛의 파장에 따라 사람의 눈이 감지할 수 있는 가시광선 외에도 라디오/TV 방송에 쓰이는 전파, 전자레인지에 쓰이는 마이크로파 등 여러 종류로 나뉩니다.  \n",
    "**가시광선/X선/적외선** 의 경우 이들을 감지하는 카메라를 이용하여 이미지 데이터를 얻어 다양한 분야에 활용하고 있습니다. \n",
    "\n",
    "> **가시광선** : 주변 환경을 색상으로 구분하는 <RGB 이미지 데이터>로 변환할 수 있다.\n",
    "> * png (얼굴인식잠금장치(일치확률)/자율주행교통환경(분류)/스마트렌즈(검색)) \n",
    "\n",
    "> **X선** :  신체 기관의 밀도를 구분하는 <X-ray/CT 이미지 데이터>로 변환할 수 있다.\n",
    "> * png (X-ray 골절 진단, CT 염증 진단, CT 폐색전증 진단) \n",
    "\n",
    "> **적외선** : 온도를 구분하는 <열화상 이미지 데이터> 혹은 거리를 구분하는 <거리 이미지 데이터>로 변환할 수 있다. \n",
    "> * png (온도) : 야간 생물체 감지, (거리) : 3D map 을 만들어 주변 공간 이해\n",
    "\n",
    "**png 요청 자료 필요**"
   ]
  },
  {
   "cell_type": "markdown",
   "id": "defb8e2a-7a14-406d-84d2-59bd6af1b474",
   "metadata": {},
   "source": [
    "**[문제] 사용하고 싶은 이미지 데이터의 종류와 분석해 예측하고 싶은 것을 적어봅시다.**"
   ]
  },
  {
   "cell_type": "raw",
   "id": "9745c505-0ba7-4151-8f32-2ba50c024a01",
   "metadata": {},
   "source": [
    " 👉 "
   ]
  },
  {
   "cell_type": "markdown",
   "id": "739b8102-53a6-4218-87bb-72e8ab6d677b",
   "metadata": {},
   "source": [
    "### **(2) 빛 데이터 수집하기**  "
   ]
  },
  {
   "cell_type": "markdown",
   "id": "53cf32eb-e123-43a2-a395-ecae631b41e1",
   "metadata": {},
   "source": [
    "**가시광선**\n",
    "RGB 카메라로 빛의 삼원색 RGB를 센서를 통해 빛의 밝기 감지.  \n",
    "세상이 많이 존재하고 누구나 간단하게 구할 수 있다. 어두운 곳에서의 사용이 어렵다. \n",
    "\n",
    "**X선**\n",
    "방사선 측정 의료기기 / 방사선 투과율 감지.  \n",
    "개인 정보이므로 동의를 얻어 사용해야 하고 측정기기가 매우 비싸다. 정상인의 데이터를 얻기는 어렵다. \n",
    "\n",
    "**적외선** 물체의 복사열 측정하여 온도 감지. \n",
    "\n",
    "**적외선** 조사한 빛이 돌아온 시간을 측정하여 거리 감지.  \n",
    "\n",
    "**png 요청자료 필요**\n"
   ]
  },
  {
   "cell_type": "markdown",
   "id": "2190ef35-8109-47ae-a93b-c05591c62e8c",
   "metadata": {},
   "source": [
    "### **(3) 빛 데이터 컴퓨터에서 표현하기**"
   ]
  },
  {
   "cell_type": "markdown",
   "id": "134ef625-dbc3-40a8-ad72-1d66286a2b0c",
   "metadata": {},
   "source": [
    "2, 3차원 행렬 png로 보여주기\n",
    "\n",
    "RGB 이미지: 가로 * 세로 * 3  \n",
    "X-ray 이미지: 가로 * 세로  \n",
    "CT 이미지: 가로 * 세로 * 단층 개수  \n",
    "열화상 이미지: 가로 * 세로  \n",
    "거리 이미지: 가로 * 세로  "
   ]
  },
  {
   "cell_type": "markdown",
   "id": "8439369e-78df-43b5-acff-f07b14e7687a",
   "metadata": {},
   "source": [
    "**[문제] RGB 이미지를 행렬 데이터로 출력하기**"
   ]
  },
  {
   "cell_type": "markdown",
   "id": "bd8c04ce-9f83-405a-a448-b8e518d2e256",
   "metadata": {},
   "source": [
    "**[문제] 행렬 데이터를 RGB 이미지로 출력하기** (interact)"
   ]
  },
  {
   "cell_type": "markdown",
   "id": "e745dc56-2740-42b6-9f11-2770462814b9",
   "metadata": {
    "tags": []
   },
   "source": [
    "##  **3. 소리를 디지털화하여 활용하기**\n"
   ]
  },
  {
   "cell_type": "markdown",
   "id": "00d9c031-26e1-4f76-94dc-99ee75fd94f2",
   "metadata": {},
   "source": [
    "### **(1) 소리 데이터로 무엇을 할 수 있을까?**  "
   ]
  },
  {
   "cell_type": "markdown",
   "id": "d716979d-86cf-446e-a259-7522df648bab",
   "metadata": {},
   "source": [
    "소리 데이터를 디지털화하면 저장하고 복사하여 배포할 수 있습니다.  \n",
    "그것이 오늘날 음반 산업이 발전하게 된 바탕입니다. \n",
    "\n",
    "인공지능이 소리 데이터를 이용한다면 그 이상의 멋진 일을 할 수 있을 것입니다.  \n",
    "\n",
    "그림으로!\n",
    "\n",
    "울음소리로 감정을 예측  \n",
    "주변 소리로 상황 예측   \n",
    "\n",
    "음성을 텍스트로 변환  \n",
    "남성의 목소리를 여성의 목소리로 변환  \n",
    "\n",
    "(초음파 추가???)"
   ]
  },
  {
   "cell_type": "markdown",
   "id": "034ae072-ca3f-45c1-8a75-26d2fdedd1f3",
   "metadata": {},
   "source": [
    "**[문제] 소리 데이터를 분석해 예측하고 싶은 것을 떠올려 봅시다.**"
   ]
  },
  {
   "cell_type": "raw",
   "id": "617855bd-578d-4b4d-b3d6-98c45585b5f5",
   "metadata": {},
   "source": [
    " 👉 "
   ]
  },
  {
   "cell_type": "markdown",
   "id": "e3c200f1-aaf7-4d56-a669-5d5ae4199d92",
   "metadata": {},
   "source": [
    "### **(2) 소리 데이터 수집하기**  \n",
    "\n",
    "마이크로폰 / 전자기유도   \n",
    "아날로그 to 디지털?\n",
    "\n",
    "직접 녹음해보기(시스템에서 막힌것 같음)"
   ]
  },
  {
   "cell_type": "markdown",
   "id": "990be39f-2c83-4fd7-8a3e-a7587ae1f636",
   "metadata": {},
   "source": [
    "### **(3) 소리 데이터 컴퓨터에서 표현하기**"
   ]
  },
  {
   "cell_type": "markdown",
   "id": "aed9665d-1c66-4046-8d1d-519406dfb0cc",
   "metadata": {},
   "source": [
    "오디오파일, 샘플링해서 간단히, 2차원 행렬 > 이미지"
   ]
  },
  {
   "cell_type": "code",
   "execution_count": 6,
   "id": "f17b8d19-affa-4e55-a304-10127e60f888",
   "metadata": {},
   "outputs": [
    {
     "data": {
      "text/html": [
       "\n",
       "                <audio  controls=\"controls\" >\n",
       "                    <source src=\"data:audio/x-wav;base64,GkXfo59ChoEBQveBAULygQRC84EIQoKEd2VibUKHgQRChYECGFOAZwH/////////FUmpZpkq17GDD0JATYCGQ2hyb21lV0GGQ2hyb21lFlSua7+uvdeBAXPFh2vTQHM5bGSDgQKGhkFfT1BVU2Oik09wdXNIZWFkAQEAAIC7AAAAAADhjbWERzuAAJ+BAWJkgSAfQ7Z1Af/////////ngQCjQemBAACA+4PYpn/uh2QpkGn5qWMMMo/Wj8SJTCQjYQ04kRtEniF7u4oX2pxp4GlLp79SNdgHTFJ5ZGtik3olI2NXvRA2UrQDT5MW0YWSs5IkujfapvqZ80lCOE2sHfVB/5Xrp3/feBNKCwzNuPEM48DHrARqYDBIMGpgO3xgAAAAAAAAAAAAAAAAAAmU8letzfnfl+9fVT8DLcbDTOY87CvqSuDYyJ+TTL68yB7u9AcxMGZrHsjH4ESiO37Eo4vKYkwpl5mzPVL6UvjDR5DRvy7oiZI6OaaSOe7aX5lA4TFPkH8122SUSma3sAZiyNsdtggtrMCTVzrznwka9Fx/3w7s/q3VLQ27ExNBA5Z6vQB/TfApC3vt7yiHm2zCV3NsK9FnHgCoii/abfUweyxz0/KJ3N/maTtQEWu+znFRnBZKx+uyaZ15aX1otJ6jM+zJ6WNYkBeOOmFaveAG+1fooIzm97cdcwP8EafRlyKn0s+y1hQDYKb9HUXk4Xz6lGO15HRyv3TN9ghtKZCiLEkg3TozOzBy1DL3TSgUF1jnyrZ9lNrx+lmDqER4F1BPhduRLqhazkY/rlh5RoUI07totRD9kcPgZDAf4mM7hUi2xdF5QtxZibpBtiaDjLLfAzQB4JOItBa3W+xXJu6jQSyBADuA+4NdXiMbaiy2IaDBsK5Pwn2z4E9zxxAPeR1e9W4XvlsmS4KWrIotzJBdLUnhT1g0QaYkHLQPyykH9c09i2dpfSslqYScxkoccJcTatI2s9NB6qo2xjYIV/fJX548Pywuaj9rf22f0ihS8dCarKDKBgQjU2KFGLSMXGkgRJv2EKBAJFa3WFm7+85QKC0C/SdSQogQFbt/jXlrx6ocHfSNVMOHNafdFu/JPBuTv9dDJmBDWro2x3teg3deP3qdQ2ZA2nfazvnDSRCd/SvKxsQAahaQBWuQBzUElFSUgRrA03WbC8wwk45z+Mktq+jFSqKc3dUFV4eu73xWyV8Vqzguyq1ioxzmtaxHLDKifk9/v5y/j3xeUfOj50rU+RAK99nahH5rRu3SOEujQX6BAHiA+4OBdjtQM/dvBboQ1GvRL5DCfJe0sURp+JOSfFbHbsrz63QpeVLlCXeszpMR48nt486JCyfBNV4TSDZz1eRBlfnnI9RfcthS6LBL0s96dF8ztAVgiUx6Z2ANW277f6ysxF7TA/b21qX31QAGfWj5Z1LhsdEcNw73kpLTH2aQHADPp6mhgD/g+kyZ5uA9u0TD4+YqzC5KCefy6F3bw5COHHIpZmWzac7vUvPAA7WieCs6hhi6bFFMWxyAriel14cYykTXsfZLvQkdH/4xtwGSxknzLRy5CbZ0UVKSQn5aTiwR+Xw4PbQS+LKUIB32jCzOuBqr0F+GthF+PexEXIyv2lsnDbpdb1b4+gJ+qxtz9Lse/hpqPqsAw2h7I9VjnEwHRCToQhr8lUjnlkEo+s3pyTlXGaSrKJa7tKle/vCyCtnTdWFY08sYJpPRJmkAXVf34INYRZ2Jx5Cr4tjmiGKPL2CuW+2rC0R+PRiQDhuNZXHukWg8UK6jQOJ5o0GDgQC0gPsDJP0wO0vpY0RdRqhHoztlUFU3tpFEMjB/K0zCszJEIW8xTEEOy/3mpUfboELg1Qi+hC0nDa1508FvaiQnCVKI/+4RfXKDXeDy73dgGirKk81WlJ85jCVYhZhC49QLT9gsrE2tUnKphpBZronxtJVZCB13gFnXVH56RiTJ2PO/yBkr4UWnCYgxjfhe/CNEUvEUBzy9tVGchl/KGaKrYSYjEnd4h7eRfHdGsfhIp1fq/Ww7MjihRzOKs28j2xIopnd0d6JzeWmXjNFMKhtQqxcgg8uA1362ibOgMOQXVprvIgTZAqpajJLNI8nLfKbJopl3uWneNI2n9AzalXazlFAil4Wn3E/ykTjnYZ5pxrWRoFFKgrALfCFt6krkHDmakPxsJUR7z5SF70t4l+4bjPnaz5fBlOU4rIlvbXKE/Eizjys1gF1jKsGtEhHFR1X8YWx6cz13g9E3AMX7OOL1ekP1dEO86FFH9p+tEGJHZUCOiApcD+uJSDhMEb4ZAnZqo0GGgQDvgPuDiXavqpviFLxqlKwk6smxUozOo33hqmZ3ldFIpDKHaAeOBWVr8o5jvyPl2eDNj1lPPSwmX596gF4JiXuC/rJ1CmA5ZqtjC5adyHc0MoqYL53kBMxK/+sqMxR/XR8dYvqUZXw7nC/ychxdULVN/pD2gkgeArZOWT+b4NJM4jO2KwIPW2QW3GnW+fKGgj9rFNyRCiSF35e3V64orQGpLNxXdt0jBu9RELP8wQtCjcxYcnWKUTdVqeZSRKkrx842oM0Pngh/uMqiGgjoJFoa0jxaSj2H5whB3Qv9Hy6AOyp2oAzEGsHdmIG7zft/s4o0Vw/LV52zSwhEuc3Bs/Q8UgtuzoVSRMWZ3zUrBzdD+lWSKyRgXznzVqyEPcT/EF6w4DgZu+GbY//wDqp5JiJc7fZZYBWViMZzAKEdUbfRR2o3XJTQfFvhcVZE2jJ6FRXZ+jVBTMwr/Pbv7olNgcAoMwsF/wx/dRzfUWmdNGCoL0QO/hI7BaEs7tE0IZkV4M3o4lE9o0GDgQErgPsDP1nl96A9XSiJc2FSzLit68awp4SJxNx+QyvoD/fF16xVOQONbnr2bqBFARPdW5e2Lc/nh+rAdTSZ5dUvq85Po5bPGo8Y+EcldnkZJ0dNU3GVhC80hjNIecEUJWNXmVM/rouRI2zs1uxlE3jZREiJkDnrl4g6HT7K+l9lrLPflj8RtksuLSZM8T+ez4UN1uw1kaIHQuqQvgyUNJeS8QJ8DuZXB1/ZpC8VVqY+DMbbxB5YQEcAjMvHWtoxMuY5RZJ6MzOSWdXrFHz0NLiu5RbDdFhcbwIfNbD6XWd0wU+zxkGMVRYLJ+4yMZOyLBvHA8r1SwgHgpGaxvTfDXf/lcw/FG2iMSkWTYb48+NAGETW4wW7YX2lSJw+3BG5ndA2VCO0cQz5RF1UQPzsuUhaiKR9wP+DFh1BV1HuP35UsQNLgws4sOi2v/qPvr4VOY+o2e/iyTETqtQLqPZuGgC3kVmL/CvI7q7Urhs3pSFJR/CEgnwPR/UEuuwA+2PqtCwdo0GDgQFngPsDQNlJJC/olyQR6k213w1AmSOjOzRus+S96+ISt/leFAkgoyRlQ8xuTGwd0x4j2qRQvLOPW/QFFrmeKte9JgYUvdjTUgp0HG+sWWS9v+Qxe8iGgbK+Iy3jmndlgeIBXVgdwl66UbpqXCRmdS2IKRbD8MAHhcaFwhWQNwJwF6dRZVEO3+ZA+yilzTxRqKXXek924df8nuuLveDa5G0TFZJish88Epml1llut2Uh7g3zPFKpq9Ac4+jAh4lN0ddi7iQz6r3uLUk/k6/d7ekLWug+lzdq6NcM3fggw9YsmSpYrObN7lHdS9k9znJuaH+ygLCtz7ltmjAwgOgd1lwfPwdQORczQM71/RtG6dbdEcRm0KFdLCNjlFlumSnSOYd9/y1UuUHNN95XsDAN9Fj0btJk8rhoqW9DR0CPs7f3lxh52Lv4duD3eP4x0kwgg0rquIug5PDYZrh4Kj+egSMJLIGHZ9iXc+ipqVgDcphGsN2ywoR382husSnyIFGo1mhDo0GDgQGjgPsDRELjT837q0WJwzD9lnmNmWIePHQ2pVz8sQqZwc9kEHqQFzB0L/J3qyRFXBMoLiUW3Xf483JCMcNYMKo8KkQbGpX/Kru1DVJNkWN0+0p+3cgeCXMJablJAFrQ12bHuPOCaxcMYn9KTcSE6Unw7CxOF4umgdiYwYNa5bdT3CnuFz+wIE+AjDEYyQcvwM+E7J8iHTnk4eeyI6TB+jltegr8zEmNUQVHheaAwEuYRxwxfFD2OmT+UXlvu9VsT7w8eAgR7lYKfdqpOV6rrSadRQVXrOLHyVl5GOv7uR/TBEO96OgGIkjtwLmFH5gmeiXeygx+IyJLF0SEB/f7T0fxRqBD/nqROfzINNn3SKMYKz074enDsolaGUIed9ZHvnzQN6SYj3aF85h/Gh8OK73AmH/eDZ1C4hDm9n7HvPGMVbCgBe1w5U44smCbc80QQ20Wm2+FYL1DUFsXjvD9Q1xVhtDMnqQLyYwNkEiC/TY4L0aDcW1HfTv9W4dijWpQmlUFo0GDgQHfgPsDPxDbAlvdVFPu+ZZyY8z2tGpHN/ZW/86Awi40fyYH2iqjjG9SwYVUjWvmcWAh+a0P+1i3F6NNgR5AtpndljQCnudZ7ZoMA5Jzt7pppVqzWraBS1qxqgtUGs3r7OjjRo6v4hQnet9ClWrAFta/E54ySrWJs7O5u7QM0Lad0cn4OkRC4S92XEFBI1ibs9hlbO4lcJldyoDyxxg9VhgxxwxB6i02z1hPMGiNtJpra/sBDlvYTgsekUu2KiMTn0Jj73WocUwN+W39vykM3omdlqOnKIXZI4fch4ZubVBDd5ZaoYSOcvBvY23/8WqzCovq1IE6GoEB7mzNofgb0IjdFTg/L62CYsNAZt2g0gfAqsxI56MD7a5Co1ayW2VhAWRLR0YTw8/gk1uFEa2XlWnjI4wSBQ0A/I6hXiOzOkcLppqTVvrefj2FIn6X4RAwhDEI8AwZdSiz4HuLzNGyqFiWVRM58RRkSqmdbdxIn68akqYuvR+bEMMn7NrQlZJ3i/kIo0GDgQIbgPsDWdj6Llz2dICcuVKPlTRnq7T9ar77L6m7pSYUaQaQq+kupv5QqXB1h8XewaxhTV89arPAg1FTehuHzzawGh4INwJ6COpmMpNP7Byfhf7aO4eybCUIDTTJQ4iKuXTTO6NYDF6Uaaur37Y2LXdEKOwwkF+6/VSC2CH65hNKPFfVrUPMsQeIyguvEXKevt3yEkcAtGczVJKrll2OtO3o3gQLLokrwOn4x/hgQNZyOqt+CpVslEvVygo/JYy1c4yfFiu6Y6+vtc+N5K2ZYrh+erKRlrGo3cpntz+fimfDtIU6gufGMl5TMrkp55e6tUCfd6seK3dHjUPLH9aK0g24r7TcNBXfH4SM5sMYAelrswgLeB87ajjWo1y3QVik901wnVEX9cJEpSTC2erk9+ZyrsvKx8pHSIfgiibN/gkif16qbYNDBmBn3JC8G/IhuRyZDr97GnDecndTQzVFA5jDtn3tKQ4DQ+QnWvqPNazpBfZ0genmmdTgA8hIa6p/QCFho0GDgQJXgPsDPPfzkdhDAOD3mOmD7jbFAtqxTSla/BBWIFOSXiEl0VVUbjHH02OtoXEVQcjipQL1gH/jr4bCHwAYmkHJW4Ml+FvitlIc8VLwFqzT2ee/0LvbjC2t8psaua8Ug+gsnVf44Q6riw8yNv8gM6QpjgrRm/7SLHnTXHv8Atwgo+V+CEBE2F/ZeecRfKVm9KNs/K8DqFftz/y9Q6ghV/IDlqt6yqUkvjJVTjaTbZFPjAkLKMZpDX7f0M/O4fP395hI0/Hlv8SmtzFnB7n+go0fcfVdaHT7/jnbSreCImsP1XfW4zry/ozNC6udZuzIkuZdE40olLCfNn3UWOhE3iWrDtBR0QVB/JFLGh2HKKcbt2jcHtvQG2q2KQRJ1jIbgEpAeQSMmMdCCC2y82EjzuqSb3RnwQ5fscgyS/xfCPZv5KUgobdGZZSXEg9gONnif43CgAICDztgT7gRI433V2/1f6pvTyxB62dox0tdBHN5LZAbkF6GA1eHcKg8/drZI373o0GDgQKTgPsDT6ypXXFzl4zH1yTFdwrXAgVKlRZ82qSHOUfTlWG6VKsoHmUmPP0sejEflZT4eaHSLPqAEdaEdSnPGT2nduR1ktMDTvmZLYb9vp4SNo6RYbZRxWkEcANdsRdTi121aWy6tmoxdBp5khgErSXx1RSD3yqmhLpRJ8UUbTbwt2DQST8VSiNR8FBfrxJPCoFeLa8guiTv1Vw48hQka7PR3CEIUQ9+vIuIw2TjoamqqnnA7RdVJuK2aboaNVYIfjMAP+AuoEx78iFo76qb/lCiTeyTZ6+0BlcHauwbslATGhYo5oS7I7vSpIArDbV9xHIXeiLXnKQ7W4EakOTW1uH+yTNRyg9NDaQVbCYatP8XqvgiB0iDxxo3VyicWKjdgtatWwNbagYncSMsWzs1WWbYIYnATT59HCjpFMHx67qsMd9si0wG2LDkhgwvDRxHrTAjYZLkOCYfTdGDEaRqj6abyHboIM51Eb8uFMR+HLFKIlQZr4Q2R5dX4CQBjNEeG+Kro0GsgQLQgPuDf38/lWY8J8wI4XeQAhnto8G8XjYq7uK95kcO/Sh5D8vFy6oeVh9+b3kQ6pp3JXJOIr3H0SYiLz6fbD0QlXiAOeiC/9FquzDpmPSya6kxFNgVEc5rpaAB+G0XpJR6zWUrroNRINtgsB29UH73j2jlfoXU65X64HuVc9Hg3c1lFbZvUOuQqUEWlwxt7Gc1rTgexWL9r+6QToE175u4v2IwEp8OE2m3nvotjtiQYEZd0lcn+DWhMVJ1wbBUkpePGUoXCCH/svnneRlt2OVBUS+75MMGtV64Vzd1WkaOMi6wCsB2lxYGXzX+zILZWMGbTAtEf7z1zFFVrQRMOhr8HUG4A3EFgbWhPR2mmVcO2jbOs6W4vr9d3VBUSQcahc6J7rSnDFFt/8bJk7WW38csxc0arFZYQoTLupNbbedJaksO9OvQAsW0svlS1Y0AtKekjyI60Bg4gxix8/5Gra/QYEScFY606qmEdE+Sk2g6KstGM2QdPFK9mL21QRO8ez8CU7wDvbZ6RFgxaq7ipHPnFT7l+mOGqPxwpYdYXODTguBAVOwNfr282SqjQd+BAwuA+4Obrk8r+ABlpuOlS1qLb2XX8bgCWh1HGmohV6ViijVB0LL2UWEVWjDytOyLJ73I/TuUOjD1y5MTD6DvFLIuJPTuPKFwqo1To2gxRNjk/Og3IZ1KeGh+76C7CXHm2nE+zFIt1vonFeHRWLLyspwTrBT+KPsmf8+ZVI4jjpSgyLLy1WfYVSJDq/N9KOwuJHwNg/deOWTfgMpSt7fL5FVYwTmVSJ57dJAH6oDJlp8PvxJGeSAHpgV46pAGsGz/a5yknZVbfreGv/qJjhvrG0RCQYjmoptuoaSg+r0yIVnGX48yhMM3AUgxqNvT6Ur174cv1dU68Q/nd/o1eG41647TRHDgrDBb8yQ2G1o37/7xm7DG8jZn2CiCSCsWUzj3FyPR8+RwArwMIUhUvSKwK8jzzc8k/Aa7/7/TTDWwhIqVZtYc5qPJIKlFExQx2A5OwQTYb/jqB3oa+qfD55+b+CPfavW+Tn+zidlrp9uh8ZtoblVlKm00KwmihfthoatWSNjMx+tnkJoKqHDjoIY/hfyEsXD67EvlXdc9TNEZPLIbL6rRxXIoA5x4E/bz7eb9zQl9+G6jRMgfrL4wgBcAS6W6IMNkvMp3RsyZWzWz/CcrYp/qO1o9moMkSXEmTaNBh4EDR4D7g4B/wQRwJm9I57oVyFUNCHVAzGWVFJ+i+WoOJluOwjEu5Fb+/CTT8OmzwHrdGtrfwSUTsoQi0LXo8jbiqLd6xmj65UIq/mF/mcN7NvYWXL7wKztySps52cspSoMgb0dQvKQpvzHxjg2+4gtDGsCgypX5Ac02w1o7fj97Gx1KXb7qfk/DVNNDXf5ogYY2rt0z2TgYYm5eItkXx+HS+zTy+m0hhN1ILAz79eFpW5T3UNz68xD2aoxbG4aY1Gh4b20WuBjVGu07W8dm6teFI+9RBwRKs8AFVtjzxwdQ75b6xazMCSGcjV9gxq36ZPVP79DsbNQ+nh0az35TT571PyGA1+JVwwao4DPyoFHXIgy6JJ+iuFSEuPML6TV/bDnFPqPAv+Ox4joqkuWVeQdPD5uVGijI7zQ8zrNbepLyjiGv7lyUL8D/ea0sgWkIktn3Zz9RAlApzwLLMqrODldILT9G3ljDHVH6VQtsXD4x1jNpzFIDCOqL3sdeMcjoQ00vRifRdlmjQYaBA4OA+4N/gMMuoJAwAHKo7W/ytAPNQYh/0f+W2QAJPNGb5DyS29zJlRyg2AfPb3m1ECEU3nyBXGg6SsxJRyiJ+ZjKi/QsVCFaMmvOC8+nr5qUmg2AjnfrObJbQkPVohLWsfmM6XVEBIqJsHsWaUlsQdLgtv/SVAuniPNhwGNm5ORV9mDtimHCxE38NcNtwWcRLoGkBYxL0Gbh1Hc+JXz3N5dVmEnjTMx5ZSTKUufZsnJXaHY3DganAGKgbxY27732c69laGG9FU/iyvjF0DyY2qk8cmCZvnmP2aFYBGabbjlKiZg1EfQI+8h1JVwG/oIJbyp3SLgDnKc/pWV/NpEpj4SmKzb2asBvoLfThTt4J8QaPNyI9sdPtLFlLEzq1N8TXXuAd9lfzqFhNzAfzQxI91MghOrnp7DtqahRuPtTpn7vxx9w30WZWlMzQg37ArGORV0nCddxH1YlzhJuvW1k6JHYEISRpHM8j3mrJe6WynXEPaeJxPc6DUZKxrSlqlbG5YPqgnSjQYCBA7+A+4OAf8DfMSz+K2OPQ+JlG80wpvZ1KiN0iZlMWIguN376kcQG/ngYY4H+BLKg/q11Z3XsBDVRq4N+yMugt2Ouzv9gMVNZ2cke+QhY6tgN45U2g5pxLHNi9PsYkEfvarMMBsm/Ko/n+BnsYBCU70i6oSRlWduFy9Dfi42xmd//nj66VY57wGOgA9uEoirw1U1vRL+8THUT2FMaK54sV3LuU7eqO2cmqnO3gjehlxwj1bktrBH/Q5BCuxU9lxTC/hro9i/XL68/rUjK1d2gb6Ho+S5GPrJD+BTlap4c4LOQUQ5cfXr8aOwE8Dz8DcATTgOCPCvB31MGOB9QKDVsnY061iOyftjIrkbtLfiNuBoZcgNNex85w+HGxRyRyAwXKMcZ1+mfTits/fRE0N6PSGd3IJr0LWylRz/ccP6AKzopwrYTcNwR5jQyWmVg0fodagAAN4b/Cd3FomXNV5Ikv0h1nh51TOk9hb3jzTQjF9qzRRnhmlh7jXz5eedu1AijQYSBA/yA+4OCgdW6mnXWbahfh1kxjM42vqVHh88DRBfXxaQEQQmCaP/pP/FzyN27E0wqzElL2IQ8/xURet7ueY6HUB7wS9fVQHXN0keK/icf64QPS6pt4XKy1ynjOHUuL3ugjJUKCeFtbMrDPw3gInTMsA84yt2l4PaAZ9v4Ws33N/Rpl+L/KRDG8hDVaTklNQUih1mj7XZgxfxkqtoGq4q2qrs1aL++mohbyg6XAjl2I6KAVxXcZavo0dE9waSYHSzQyC4K7BPbMZkv24iwfimnkEsY8x3/tkW2lRTFGdYJqW6sXabk8Da5ckbyPU+BObV6XD+xFqY+fBzgQQoLUqtbAkc6IPFbhFuEBRXXJ1CshVJCTSmq23Cp4MNady6ewRTsCsYov/k9KKelqI92IB1phEzr4tbkHiJX2p4ChJhH1SAPQ7luAi6VKHzh5EAzhrl9ZlfxG3SBxqs0XP9Q31dj9rKPVVWTZpW9+gjqIzWW/embx4tkUF17Ct5GVfTZx51EOXUWo0FigQQ3gPuDeHPWDnQoaYP+k8eStIXThMgV+U7W768AidPILyCo60WGQj+7FtmiOExKN5EVdYndRK+119R9Wp/+brG2DUDWeG6hQXHrP5i24ndA2H8KeQyKWWSD5WKNtwWTtrZN1Wg4zt6fi7FLDEH/scdlsh64Iugz1uKGZgMDFRzVXsGPtTV8bdXYpX02dLF5D7RPI2PEgquA0Mv1g9NBEL9fW0/Bjd0PzfsHMY3mNU2zMRiR3Fwjx0LIPT+PgXq1GMA9H6CLiF55ZRR0aoqRqYZOEVJro3rC9cWW5ejftC5oS/C7oTQNU3UKi+xyCixlRlwe1uSoK7b1pJE08wqydMXDhNiDsR9rsijNUze3Er9GtkXwnwj4v5/xJS3oHrAfgyY2RTLHQyFqEpnYsZ31cUStm/BEUMiNt3EzsE9TYuvlW/TnZePyaZxDOoEOEm+r+EhMF57Uc86aN2e28pWBmLwlo0FygQRzgPuDbGvWu9YJJ63rUz3v9KSkMYKCMNkvZhgeFQELawQkLHyvk9l+GDNKGQ+cv/P/zpy4umnFJnyYiy/MXIJwJ5ErCDlKT4Ee2WHlWeHXTMNQDloThpr158RAptoqGdQP36bFATOtMuWgKsM7y1AAvDXW/F0nzhRLhrO6Opr4yTScreZYp+qP6YPN+3pmaSeTmhDpl/RCBcu2wreyTUUIz/P9t9s7dsqpuPaaoKcOy3Zbo3dgftwQ6/CRzsYxawmSBeX2uxEPaF8ab/oESRbxjSRQ7QrsHVsX6nysOdbPjdzcplsMrbCmRqOOiVVQVInU8Z/7FecJ3uCUGcAtQdbQiL3S936H5+Vm3GIActMHRMZGURR6ZTq1nIAd/UcJHcMZdAJWl6y9p7UabhM4REZopBmuAe1Ghicbd0nFzfqh+vPwxn9c71klZOnqak+5vItBUiQQvZs3RFTylEezTtbN/NhskzGzhXwtXcVYvvxkP6NBSoEEr4D7g25r1v78awGTGgQs9BTkh870++dH/uM3V/4TYYto/0t55xbsY9G6lDPrIGJEhkiB5Snml7P7LLeGfaTnGNLZmYhd0JKo0xU5/ZWfbND1AWnpHrAYbVfSytbTvlA+s9uN4CwgYEqY/jpYBu0uyI4UBErXCOZXb49YcPI65VqB8eBpgPXkS3/1Od4n/PNhBks/lC1rVxtbsp1xPL7+Jf/OPsfq9nUjLF+x9LIBckERVLCpcO3XvVgMzQ4bZSZKq38Jso0JOmTv/aVeQdnudXld9UYZ+jjn2ss1NxwMTtgtnZPGjHKkVMPMZ1NnrJiivO3bDfRzXI9FNYhg5xOREBK1G2Ubkgxx33zZREcWuDlTaRiKuDBlz5/zfq4wFcWvk7ovajSvRaBLIUnfylF0x7RKBoGTMUL/JHHzBxPfdtkw/+PrXinUWaNBj4EE7ID7g39/2p/kCw5s/zs3P+C/gjX8h5omPAg2P+/NHX7wGAIbbvVWbJUNZ7LI7NlI+OqUCDfVZAkZ4Y2676LjmC5Ly1zYe3jawC5orju4BF9EYTmOSqmJ1GwsXi4O+YC42JusNp5SDVOKbvFQ/cmhK3yG5euOQTf8l+ZuU56ltYUt+yrUWdqh7V5KLlLIynJSW/6trDrqzVCs1UgHLzzIsl6igVnBk/ni3SBn9H4v5i/bRIOYom38X0uBy0PeFHny5r09exDaQ6ntq/ih+kukiUnX/XaW8qccucTVnkhGQsShyFXOI4NNzLQEbSzkYivj7iqmPRtC9LGMjch/EK4DJnt5tGHalefFnBF8OcycrWN24uScSfRY/KDW049IHwE1k3bQjfzFYJo/V8TwzsSxkraYsZr/yYZEypDdxfTgPYfg/zzGc5V1+KWNeXwrkC5jvcI7nFLohAi80OsgBl3qrQEVruWYJbjnovYo1jJymPvbEkJTBfbdA7pV2HZI/cvdl7DRjM1NdRkVAmTcYKNBfIEFJ4D7g3Z/2qIIfmNxwZMNFP/7OqkxIEj79J/P+n9NgGZnp+08O8TGGZjF40QifD/4WRNWSyPHLNKL56tJqduecV+NvoGq28vm9r9APiZuyENkUU657exlN3IDBGk2HmdDbQwEn4FjTr4hq6cjRz3ASDPlYBXjcpUfRTxkbtq1MCSGoYErLTwvGnlI5XVR30OqYln2Vk32vDLfLbpMEmIST/2sGs2NuO3zPmSdwYkS0pChamR8pGtxd2eG4P8NX4mrTFzFiWkwn4L28KHWJ4z7Dw0JSGIPBRGqi2XSNr18a10ce6QcVSblO9LGw5sJRBfwmKRch5Qm61mutG7arpLi+5aJg3O3YWy2TLUYfNN6Du8Yq1hucQt3jetglOpoR2WtNXURZAnGVxz1giZZ/Hth39jAxW9qalquDIq8Xif7YTQXpPz+jpoPYlSRWFFeI68c0AYw97ZejlaK4opOYHSI8CHm63EFvH/4F3SAvHlU/MlwXgVe4efqueRqo0GDgQVkgPsD2wKDTojRMn/PiUgkDcLr9cg0nkbUhvD49OteV3ZIVQSuxFereQEP7TKeEyvCYh5uvbWg7TBzuqD7PhnyJhftPfSK81n9QuLzbEsMkS8aQWm7OGdFEoFVvM49eJfak2qP5KtRbzsYG+2T2zytd08YyCstwZpw3pMPWQd36i+saNqV5Xu+tJY3pvTCpWRhvG5K7kcODgyoIXlw92pbfimpib2yQaPo2kSw4SZBlkRLXBjlXzclDTS/Yl0uQYKDvrvCNGLLM0SXReVoNGruaKFlpnerpWNUrNEufidDEe7ZHwmT6TxWj652eRQx6hNLKuw0TL1ZqyGNdJmMMhVSNHLanzfEvEm+rbfIP6BUtJEcr8d4ArhuflZPjjoMDtIKm/9Xhj+J50w3BtiUzJUWqaVqWtTjI2fPSzxVwwHkKfkj09xsRtZBHF/VxouHNVV7gCsAwUXpHTmCazQmhVH8pQ0QxH8NVTQMCVrHJZzg+QI+ExZDtVsFbPO2/Cvk+Fx2o0GDgQWggPsD2plj32pYd8Em2LL66C3+vTx7Q/Ju3dQCOTRDIrY478begcoArziBqL6PUH+sgLgSntzKZDruNCbt4q0YjqhFzG+4+BAzSvBt4S6vodetWVPw0C9pcfuyPogJVDAKWQ/GD5uAMtSWJliHNuDJ/03cKmo+uuaHG72eVQ4574Psc9sCybYP2mgXwShjIOz0827ny1TRDJ7ARM6f5dpln6PhRhiMFaJ3imKIiFnnCt+qx1jQj9Twj0VujNgWuSxRwLByH5QKyxqxJD3Ce6NC1+dJP4m4WiUt48ibwfkZ4uUh4w6t0B794Yb3BryK079bNokIyAj8tPxFhpDyw7ZHJHjacbvJenVJB8E+XYV3i/wwpRbIOYps28+G61kAlIyh8OuVvfQnLOBY+pNiTMDQzf0fnviVSFRKITOjOH9QgZp8SjvpmcUafxLgk/LBXrlZzJHWff6JCSIl0WUTNIUKE9luU554TD39K1NtRHaIPAEOBV2Y8tvjXYWaJnloEiRxo0GPgQXbgPuDf3/amtZ/ZusbLc5FZq1AYf0K7L/m2pKLhewULvAHhYNsIWd5QnkmFu7tx64oEmbQGq18jcbvz4E6HUPf50OBw093Pk9fBtPaZV3ymn6wm+WcTpOhccqx+boKONYflVrB9UZ+etqxE34TJiKDr8CZw8Eg3qVWXB6oY0PWPUGB4qx52wPrLWVqK6otaMh9CW6lI8Dn919OK5jkfXiXfOs7vQ2DrUZBmLDodIeGVB2Y5n3KDQrgkcjiUW5sV+1EtcKJQ8K3S0S6f0dvNDnmmolGfSXlAKdpdWAVNN1MpolKv0LJoj44bja5Uo7fm6nB25wvSSeXlRnBGQ4Nsmzo53Xka9q0LA+njQ5jQEl2V98ed1jTEq2maUxi8npK8ap8i/RA0tznVqQQPr+LWSwDl1JJNsah2VSmzuKC+vsX/cFIMotj0kGyh6/LZlys3xCHckM/0A33pduvJTLRWi7t6sg+NSzb1Y5LGEIQIfu9P5O280DpY7pTBFVqzW4/LSRFD46ZOAeTKM6OjJpWo0GlgQYXgHuDpngSW6ky7T5s3z6FbUhnbuIcgsabB9uLDUIDMxgATTiuu7Dbh4a6zeR8nhGjkVJKfWNfKQrqoTN+XCTxcmPJOk3sNz11k/1wI9EuhamqIHsa9B0CMrxMTM/Z1sXaxOMpYFK+XKenafKQnQCJ3c8CkNxLQw75Sw41FaGWbppviqGOV84KfaHDoPJOQc/TvcP1ca2KM+kAzBOTNcI4zzwBqvNRKoOuUvpagBRb0u5exTBZxYaW8v3dgqtjU5bsvYzxwryME4qzJl0t1m4o7G2rPiNdl2S3E6GGloojC7sLhIrd+2NE5ampmaL+v0yqm0R4QfnHwfrB0Dt6JRAQMhtArurwMv6jCP0BwKy5zfOfmMhWH7FLMXWkB7c8UcHNJim6gPKoN8Z4DVt6d3vfLau2clzsmRjeigFNV676jpE+QompLg5mqTWvqyYH76dcY2ltoBxhvbDW9LNE7dcJSPJOIzM/1vTVTYQUR72CFbrRo3tKv0BKE1i+mmdIq5z8f/m1Pm5Uj/lAspaaItZzsEUQvqwspYN5WBeZ404rTDwRRKNBgoEGVIB7g39+iGchgf+o4AlULTuH7SkP7DG9ed8y405cxRJEsifFsSdezKLyfZlBDyFvmYi6Gsdo/cQ9vW/h9H/I5h5RVm4PBxWYKRsDHz5KaOmZlzd8LviBkNwjYS2WjMKKRhzZt5Wro6W3PZ4r9b+DYwjt/SCa2nQDpwmt+NYbjeV/yd72UoppG6jLLqXwlX4cGCLFNZA1ABhkFOnKx1mykteluxlNa+ds26dDuDNtSiCutRoN7tFLviIr/1O6x8kkiQReMRfhv4gk4850itbPWfTa2iarZT8cr/VIX1wLG7akH8c8KmEmLFjCbgwieX3trzoTwOU5kRtopd5qjZP9AjbYCIppI34hpwC6EHthn5po0/7tH7b3ShpzcrD8hltNBuKE4CJcdx8mQY8aOGg131RyXXSEFS3NBq35LG7w7IZ+BkrAWJXQgtHs5N5sG+PFYad31rXdxcN9N5Hc7ZcShz8JHtFrkjt8WP382w0ikrgrl+8VJJDbCZN5Dl3t8eFBo0FugQaQgHuDfHOKbBE+V/X1wH60cUA2IiNsFqCdkwL0kxmny2z4fPi233j9VGceR/Kvld/AHOzD8+8h2xXlL6CZsRuxhe0PcwHYDyBosOCIaYvGHyrbLKtv7z6ZBeaQHt9DFIeEC7vbFVmjXF6LMhkOVVZwAeaH/SdbTkVVFF+QOpFBaBk8imufUHnj0AB9htcWyKhEtMb/Qx167uv0YlqfYLOX8WEfsEl/z8dBuib2CSJNLXOhtlb2n01Px6uHfJu2gnE7MxQsyU8tPHkrJKbj5gfPHVc08xgWsDIV5j6cF+fDHJsDF7+2f1d9pPy86wyDThYVnNuIMYnpWL6aoYIxkGzxjcxhmbZZE5fCmNu+23nsProq+YgOel/aE6qfdxZ0rFxHel4GjJjEdXqjuKB0vAPR9uACz5EC3mDsYVNE+8uMRzl9/3lJmLngShMuOvLHahMO7FyDd5D3xRQKX2Yx8r2B83BUzvC9abxrsJ/Zo0FugQbLgHuDe3qItDNtwfSFjdEmJH30c6XwZjby9nOT6Yp/bzJ7/3190WUV5x2ESpBL4fMv9rPZ2VEaPWdUeEuY9PLtHPdElBbJtKSDUa4ZXcBzfQslZIekK9PUM9yPVWL1Nbsw7ByZT2RRSXASWJSHFoADp26yQmic+PQBajyaYd8ZvsmITCBL2PwtquEcOqfxEwvzZSM2mxCEUKYC5THncoltNOGWdTSAKMmea93OGAxn7BhEoxIjR7tGr8jurnDS8m3PsEvTqd441xRlQbTljJLOpDmQUFKc2JXdYY7jbE75mpj57hKUqRdZeGMiQUnta5M3XYObn0U73vVGwyjznrczB82nq9KN3YMPhgKPrCTC7TZCyHPMC0WYnTHPpPf5Nzvk/EEsqdf6tBcj9gGWNE5SmOO8zVy22ETBnvQq4gVpBwuS0DzKFm4E84pLMfFYZ9rWn1NrIWjIyzHvp/uAELSRhoTUriAFghxydXvmo0E8gQcIgHuDbGUkJsxexX4ajAxMwz06YvilIub5HNnoWrZMGE1zHSFVSEeWlnGcUkwhf0ILhttKymhe0MD0w1drl+9xon9pwe8XTBpjXpq31pLYmXaAeiXO8N7g0smk1S2TTD+s/OBWxLSpRichWEjCF0SvbasalMcBCbHp76LOJ6n/PBEO0SJXnLw7f74pu0r32WGknwWaFMLZ0dmFriH7SGjDi93JXnyOiCn8JrQ4acnVOzq/L33yFQFuhNNykLEI9lx1br1TkwvdETrcDPMoKALARSDuCkHgKBR0GZaH6tGrN8EkIuukclKaBlaaF3XmmZ2vyDBQnp3pvgTxUAOOPM6z3a109wP5s2PvyIevlelUEWB9ZNZXJpBDjYcGVOsjojyljQI+cI1fA11cQxE731H73gZ3DSsNbDRrqqNBeIEHQ4B7g3iAgBQ6IfWjSVN3tHmVy/ssC2KLDziT2jz42T44yAzJbxtzVA/0fHP5Nq/ll5P+DHJEgx/IVc448RSaHBhP/XYdOK0fgDkg41689IR+zGbBlmlQkLZJ1A1RIb4185Pb9OvYG8DUhi6EcZM/TWRZCRCKFJTf0oX6P2hOik7tsrNSxjMnLyPsViB5FKiTAnX4jLvTCcOrcJiWYmOQmAo7kOfqB3o+XXb6Q5740n8PxCPP5oFe/SO0kLoIZNzBh5ZU/roDqYUejd7FSHPBgQOUvjNvztPVEI/DNBx5ZuWlaeimIrfLimE2fiCQ49aTF1Ro8mtsf+kkQY4vqG2IOeVP+d0+edqOZeBpUq40PW63nAReIxJ44950fHU3+Ec590GKYG2sFLh9uBqCZYqechFsB4O6KZxWtC6A+NLDTstoku8WWTPXJqJ6Tsi/1cetRSPvbrfOkMROM/hcCxlCBwUa6CXIOuyWqK/7INSMFzHc+iIcm16jQU2BB4CAe4N5aYcaL4PgpFb4Dq5rblvFH1KaGZoF+qFFurjzbuUMQUfL4JC768GvPZruoPNeFuuby4rVRAnU2vwqV5WY4kkgSG1zFpOSHOU74PbvKRpWU8WNFPm5/j35UJC4frGi3dU0DD8XgKN9WtTcTFPVmXVx7WfU0YTX1jEicO0Xiba8++DRYu0nJeEpDmvj8Z7+E3SmI9a25G8gXYGCl0f291cgpcd0Sgux1dA3TbQ0SjG+/lxFldM6CT2cRM7obGlmTcY/vgPlueqPU+CrB59gcKhSMYbxDI9VIBXHFWVDW/yf36zJ1S4U4al0CCX35msi4xjJbyxk6DDasHcHWahHwj5SCf5hQqhMssCgOqYhBhIsLFZEk069hj9hEFQhYBp++xeEkGmA2ijUlYMWmW8MP+T6zXeMY7S/ArSkmMiZK+Ttbnvs1k8s05yjQS+BB7uAe4NhZhHn98uiQEWq56JGfmWW7JdfUzrvuBYdeCrSgQa4IY6+oQ/A4Z92NnROM9RMVBtjD13rar8Z3RCXnPjCvX5AO0hPNEaUF6rcSCh36+g3CxbRhtvS17+59xI5B+TUV52rN0sO8tX+pay1lMea/QTi54U/IFKya3TGUomPSnAH8wHCRnUeqxF3dXSDz8UrBQEXBm7qWl0/lssn+8iMCFx790Zd4uX/yohCd2PsaEe9JpuzDI6tGA9Yq7L59Nl1amJ67M5Q/JR+y+EO2r+6/yZ2VicKn184vrW5xLrxy+c9JyNBPFm9bi80ltILfbDI1Uq/PUaeWTsNYlwxM28xBKf9qdwHfLglGbWrJcMxqBlpDOVMOWE5gYyoGk/yUSGRkVatFIgthrfHlgujQSSBB/iAe4NbXw7bTGnJHZ/8vSHbDHZUJT8dNtMIP7zQckQZytjVTo54iavpMfez0FxGMlw3B6/DOzwenrJZUJIQb/IzFqQGEzCrScQFgRWjESJ2G0YAZCxANBB6ff/8DcL0v4kNH5h5R0OwEJbFon+dNKfbgHlyMtDgGs4kxk9agLzwzEei8SP8F/8iAf+xO38wmk1OOwGAvpVjZ9qyeAnWe5nFrx9A4reTbd4uyFuTvq+/kPpAMPJsyEQ+duzyfgmmCQ0fW35+jF4FhbC4m8juhvkFJOfWFgZIxw2hWKMwfaHLmo/PJKlnSA/i6JijqutvHOj8+wfQYpybZcnl4ezdSaXU/vYj4ybf/DGo7hxfY9mpFiRsx7+6KoKkvW8yUIZJ+QbKo0EpgQg0gHuDYV8NNdrWfdSFoqmMrsKIxg97D9GW8AXQUL21d65Q/SHy+1ncjLKpKvLhF2IO2KEhB2THbg2/mi4IwOOtVlqJFEe6MneANMUfw5iBpPefxci0mHYCuAtF1Q7B3o61NEoisYcCDR+YUDBPpiK2ZFMjmZYB0sOPDgqZoila8b5DqolpqMcNVbHDxogCIv4ftSwdVERlI9R5QqmQQXq0z9UssEYiv0evbSqwRelEDbkiqLwymcfvkDugLJ/7PWiqk36EZccNOfwSXIcahl+X4byvI8VE50RFTi34ABv3S5jbhre5LU28OQnM5kQUk4luV+HTVDB0vW7ocS9nQFOxmimQlSASJAwAFB3K6fy0D4lTvGXfMWy34Bh9WjanJFhM3+pc3D66o0EtgQhvgHuDY2QAwi6l/LfNCCxJJi+LYloTvdlyaDnlbQ5LBWbWaFD/An2Q+dmXqvgsjUZOKQbjJ99XGH8RDRTVHofYFLdGHn2DQxCvHexZ6MVF8HC+csaSXk/q3aV/7aFV9C3CVplsXBKFBcENNcP6UKz58Yt1+rgz5IQ2ksoaIe7Msyz9GSneUAdmsYmZzqwXtPmYPZqEW3Z0yn8Pvy1zAwKO/lh6KDGNn3Ee6UZKlvpzP0wNGhwh7EonPKLs4Ezw8P/WmeZV2jeLaKFq6RWJDTn93oDVPApDpqh9Lp1+8k7lEE8h6Zwlo9k6mPpeU2ntbdRt7rQxZgo+Umm5/3LNpYCKwDP6kx65Klsz82ukOxGgrgl1awDBqcRO9fEKL/FTRs5Vc0BaYTLQStbfAqNBHYEIq4B7g2BcDR+YL1GDyWqRvs9wXy13GLyHgDwdBcTjOf7lr1KtyUdN3zSEQDjdPZ8eePH0Z+2lGcnkIZ8pTZQgngBXwpXLa+E3PQZgSLgOkrU0N10rGfp65blRGXnQkuTy5ZoEBST4DSZGqAYJSnGcCPxUcU1M8ojreted2oYAPIYdZoM/Kc+vtgen0dqw3wInrB6DdQXIOJoNQ9vRWkfQryJy7sTSkxhNa/UrcKKHxyJ+EgjD3x+2tGT1w9SYskCAvocNNYlpXjetgSVq4e2Ihp5PLBzREEgcM4PM9L+aA3YvT7GWjOuJ7U7QE1m1cEDahsh9Y85VSkjbr4lsesCMIkOeHkLiF+p3TJdX/6H/6vv2tRY9qcc3PEjGQaNBIIEI6IB7g1pgDTn8YO9obVLf3Ix4hAvEsXhZdm807/P9kr+GHxMTQXT4mWzKJZSBZF2t8zB77kW+PCLc4st+xSwlesZFnx1ING6493piwrKk445484UlzdOr4O9SF5xPEY6BDTXL8eg65Fe4U6jdOOcffPoL3etd2py73Ckp4rLxAcgDJGMud0ahl3+4zyTWLZEW4iOrphGdDho1zQyIVVMGxmeMgX5wpV2OI7SOhM7C357kS4LuCc8Pv8bQZS2o+VYJDTn+EOekH79CqUjFGEJG0J7B4HBaGjAPwMwQgtIziyFyqQCtUsNZay9WA4GXYCCH7mn+traqSxFanEsGJL6w+98VtiGeOsKFC3CGTv3B8Z97Htm4wiyIJSSlXWkmyKNBGIEJI4B7g15XDTn8mmvRScK+oy1KpF2W2Z2OKGYyAWR0Du4zDIlqZtWIdMSbbUq5LrbA3jRcSlNGBq3QFK4kMDmWmYKb9u/B1QzSMBc1NsQnhUBDhNcKYO08DFavDybOQfZ/7ybMrw06CS7AGeu+JbW5ehA4xkCWROmM18bngQKj4SkCP5OzxgW+7R/mtQ2SlthzGH3Dp3M3aZb+UeA36nUFQNBSXrTsV0C0LU1gDFbbx0pMoOC4foWuLhKlOQ01xCZWT6NKVQEWsVfOguE1g9jHgcmq9/DBDB6p8WOs2b44TJa9fvD+caLp4nKr+oaRO/Fz1ETKWMp+TdwxHjQHnLJUq0/Qn1uJoXuZaH1sH3cqUqNJ5rzyv0qjQYyBCV+Ae4N8hYAvir0+nYutJ9bKrE720cVtrEknkzcpO17VC9kz2W3LQXqFdCoY78RBSeNZVuPE3ZGihHoTWL9nz49mBj4xWangshX4E7m/4yRREOR3oMuRj4f5xMOyESCJTzIGYZFpbzhQ9yQu++q74P0UOMOsBMI/Jf1CMnnq33CzISqAbVlLXpzUKmdM/HPnQaawC717aob1pF9lZA5WtcKO3IfsD4xBT3ga26PM/VnXt2XgLDpYUPUPSDKy8M6FmAsp7CDPRZXBrTaf2JXtrnP3qg/hKomV/6Pj2BhVA83HxZsOWfjG3nmoBieQEMgC8R9TZ/HREdn7Nhoxb3NOZxkoRMxoubMmib0Oqmr3GwoYGpIz4JNweYEcNp3cLhJQAN4aRHuMZNvWmPs4KiQ7Rflb0rkOM+Gv/BggoJxlNsBWpUhUn4ZJQZxcJbdqHngaunpVePIuX5hgnxGcRLH5WPK9DYU750aQe89K05MP7evROfbZK19Ql5VicCl6zBf74rV1PEHyQ2FMgO6jQXiBCZuAe4N5d4pTSqoUbV/HsHoy3Z8qRSSUow7sh7u43eviUi/xmnM0GyivKdhUd6g38RNF9vPboAJydOntAVSdHoNSrFiAwyhu56EY17veMQCvQSss2r10ldB7menHGAIrzLklcIUvsCHB+Oh/XHq18/CkRkelskTO7FNgxeJo7vSA+qpORxyNQ5ILO0MYZSZzAorGrsHtIln4SMlE/HiT7O8vyniDMUC4eWn8YSIADjfmWNCcgPzIcyr5daV4eRlKKT+aGjHtHVNuvSkzQfkCV3NyEkSNhPFYWoztIeBA2sp85P01ell5Te0ieKxsRFDtWr98qvY7UJlGlZoe/rT0EvV2xZldm+3LjSvVoWcEDBR8GOxfy8zAX5uySqDksAEpUwPORX5LRq3k7n9HPX3HFXttywul+J7oa4ykIYoEi29LGsQUEiS+pMZzmVxtA3ZSCul7BljHVHRqGk/7e8VOZUY08PN5g6yLxW+ZuWVkVlGxfc5Vx19Mo0F2gQnYgHuDd3uZCAN0my5IItJo3FreI0FH+4N2hFuBE3WX5KYmJ6XyHTOKB5UlMAlK1MdLQjF27dT+Zg0upS1Tnx+Z/nZHvTdmgl0cM6haIFJhLk8eQNYkF3GIcHaw24zFURfD8coaNY6TeedJlDM1JFpDkgMpFbiyzgx/fRtS3Jj9aapns0J9t97+xzho8E41gn4G7gf/gKnNZiYTFHTB2zSea1DpoXaiaUZ4dqHTojZuMi+enjSuFMJ6eW5Ddhiy466B+9JTmqkGrgJ4jc0flumUUVmXP1IRadU+9kYkcCm0DMy6RoVBj5MzoCBagtSzQoMCe2wEFkGnBZj+w2rnnUKHUzaL4lATLZXzwpmy9HygTiE/s2CLxjUNb19pTyQyBtLkQoac7W2sBXctwt+Z0iy8So04iIhKcYp6cbktStcnhlf3JhPxaJ6huc5vz9ZpSb8TFvHS8lTU4IndO2/5vBxqvqNv8rGKfiZ2/HVxNYFOyJ/arL+jQXuBChSAe4N/d5j+EL5VcPaIxNJXmcUdwewx9FhgQ5ScuD+fa5McCuClcLWz0WvE7uygHEQGLraNHpj9Jmhf2+2Xk27m+Kv7nk0xxzgyEtKK2S+V7WhJMAy22Zbqk7bFNq8o9i0eA+etTVAbg/EATkjfcIXHae/1Je5wXx6w5YiUxrFXGiNPMomY/BXnGW1cnFMXQtWwRVekWPADeS/auowpseBGokn6ZUobDiF7zmT+EyHCASV6WPNjGy8WHNtdR4rwrJgskNwJiJzs039C1R1PHfODTTUtd7WmMoisHiZemYjUPQy56SzOUai8TDV6J5uzLZLtjhDjAg7HWBWtf5jvjomsYPl2zL6RD9jEJ0+Qm4GOolFIYV2pgYEG/kT1D9Kh72lcJ6YdobjX3cQ9JN9SJQhY0QoQNkgFbjdLi/BkT0RVV6FDr9dsSvcvOWRXJoM2t0W93kqEkg3dXlGm+jvm421sxyTidmtKTlZonbu5j9V3q9Uw53LPSdD+o0GAgQpQgHuDeneY7l6b5L7eAXq2E9l02bITu033UTbjV1AR9xP5JUh/8cD/ve8qWr5WQyb9AWvMO8FqI+GfU53GAKbSA5/NHItNdgrwQx6icpm8TOTNzhzFibM3nAXAgHLrWIKiJcJXWzSVJkDgqmFyhq2YzzLppgLpZJ4f3LgJuXWevpjjIHCXMQO235EtYcbpBmNX+3FwKPd4NRep/LxfwvUvpzrPt/XAjlWK/bkrpwQMORmYrQXNQU3+yX5wdOmjggRD4gZ+Gu8gOvwYELKrZAdqyy9BhyV32ORTIeUzi1436XjQm3D7HuQrjXusjswpIu96fGI4l5jHmOKBaNt/XpmmFsb+Ug8nL2YaQB34b7Z/VmGzt1nnmY71rrVziYbJBfByL2MMe3T1vQSdMHvT5Fl5OxdPQibsn/fPbHiTYyKWxq8q9rwbCbX0XeObOEIfzRz9rWL7EDtR3yaRukbFUCz2DqhMtGUPJz0rbMWfu+I+it+CwMZAULbfRF8XHGWno0FhgQqMgHuDe3SAUWV4zl93swWMRFAusNHcy/p01otswPnT0vg4ABVl4KXTHMclTXLeNQoD68WXBptYBOfHWfNQQ8iZouWeEAtaScpXKmrcueCNPfqiK8ZuFhukSlkle9R3FHp4ecTklMVFSHi7tCQzZGRh37tl+U0aXaC1kK4GQzKAHT2ATXTd2M+glqlKNMf/bUM8BMeR3jL6Gt5j7CZQlK1dQKc8RMlxTMaBdfWYPBOFommFxhtnlr26YfxZHfWhs7uVdT2xH3wzxUttMoMBoVT0CEfJfUbYnQC6AIPtvuhBWyUrziaL8FEmRJtO5iM4sgvsN8jEJYbUqRI/Iwu08ztD0cIyX8QcCISVK0mIBfUGcnUQj1RpyyZdUD79eSY83RJ5j60qNwhv0vQNr4+0KRPgOU1JKsRoIA0KqPIaaiUrA82DZtkY8uSbgC1besKMcVvNqBH1E1YuwBdxbTXSj+SjQUqBCseAe4NvaYBCqMmz1gvp9sN/41yBQrd0GK61JXskTr18pw8IuHgwnyg3V9b2lsDLocuSvipeAk8boIrJNYwDidJj/+Hwn8wm8pLqTaDhEvm+ODdXCAFore92OV8Waw5Eqpuck0PyRVcHE5kk+TdnFm6ZdOvknIatPi51PoBfpJJ07lSISRvaYW5Ux12hxBE6O7THeimO7Z4Givg5RtewjdfcqOvTg91FReyEygk+Y6sNXxtwp4y0WekMgQtgnUoByuUpIKytkCQGrOmf7nHJLwvUKCxQEUpDKHLCpdsIJYatPlcc/jbyURICW4iM6jcZRe4wYNC6FQE2wnl3gqyfYZAfoBbxI8UccOdfX3p1SbFQS6dJibGPqQxbH/qBEzza4hXFiQOmKZn6FlA14ZhH6NcNezhOxeHSb70hQrs7B/CUylL6SYWxmKajQV6BCwOAe4NudIatPhXRhFqNMTD0Zm1VuINuoqBMmmYHBqUHzYt9IHoNgG88ebMuAMKgC3IoYYGtOxyKuYuaxt0ZzxYYcVsIvxykKzTfnBIJiLkxA6j0szizbYGOJW0NoK9+IOqd2+9Tf4eRI+r/RqBBf73IPdbJgDd3glgVfZ/ScVoaASG9t6MWrF+uPduWlSYHJ5UHsNu02HayCpdLmKGw+CFnBEQJTCPhNXuqlV5KBrEUVJMbImM/1+XScjePnZygUB/SSFnZXS3sKI6LT1Ab/IqSLck5nP/bbiAa3STvArPHOAak/jnL26WGrT4V1FZxtGP/8NFGi88u4MJ2QK0fFnFnXQrZl7j+RuLhnd+3UdPpB4/emU1KyJbfMf+dxib+e9RIJzCXy4xjgMoi3SgmnhLuD0RJ7B7cmYX8fr+w+hsJiZYUO3gz9yijEJqqSSLukViTrM2aQSh2NVaYC6NBU4ELQIB7g21uhq1NtpxhYf1NhUSXAJG0m2CHF8CXt34lJrPLQhirOo4foNNJz/rSJWrCCL/Um+jDj0zlD/mYs7suL0LoCUZ1IVVY9pqfFr0zAWsSP6nI8QZbWMVjLsP6YY6eQ8aeUMHQ98Y2VpFRVSzHBZjrUYagGu28PMvBV/LwTSb/s18vWXwCS7hagtsvxWLzVnPQOz2kgi5dIuqcgRRqiRqK0SWEmICReD0w/mA1evqGg3KPp3ce/NvIOsYsHJWWtiLVt+FyST7kDKGds+q0G9UtzQIHCLxGHgjlVonuxusNgCqcUpDY+3mJmg7RJwsAl2IkSh5TpvskaoHMypGwJP4XuvS/eiUJ/93JsGXhEw1sJh+noUlyL5Rpbo0rdNesGSsPmi9qzUE0eRs8cQ6I/FiqdSQb7EI7dEvo031jqBo2SWZUdrvPiw3jB6SIJRx/WaNBVIELfIB7g21jgCdgxwP9eV68/T/7p+XbKOtsJoTpTIa0bAdn+w9ZQ6Hk9TDYk20JcAYpv6beWkZFi4LATNIOSX2oI1qMCGZE5AeQOwjLM3KlyyeN9x+BYWWPFYk9FSy5/lXS7Ch9i4xMFx9dGCcFG8+WWnbukhFLJ96BSIhy93hvIoW321VXNfl+GHAhBJVTxloUSp7lqFV+aroeJ6A+SP4ZMxPEAWofQaz5rSb/+OZ4sKF9sGz0LCBrW1Y9Lv6uumal0SbYFhkM5WRUTOIHHIf5fbWRMervjYBjZw1aWgldwwiHylYJ4gR7UDecoQvEvLHawp38vih0PHeZqB7yMGrUXCRC2yByNRN3KPkgrE4cujjX317pXIRx3Ae2til+/SfPI1z91lvaTn5IrWmCa3kT+mXLrHr9Qwp0C9dQLzL4Pe/fRRXuziZFuQbsjpzoRBFazsujQZWBC7iAe4OCioCtamyoO01IQl2bngWeolCGXV7ZssmFOSdNikOhjs6h8sNe/BbwZxPd3yO087QnFXXXmyM/TDa06iNM/R4WNRhp5IPP51c93ZihYMNkKur1PKw8ve4LTT7V7A97b1QH3HDw5LrSepLnHOSM9xHhRL6hjXunC19n5K8WtCPEGbpTHgOZnQUync3Twatt9knq59hvvQrS7G5oSAeUlaTt5aup7t9KGZoZzQ5bb9Km4kh06HBLl2S/Pe1nLU9ZtdRA6WME7jO0MunJpaUuSA2C7OQ461lfKcDcYKePOhJXyt/+KmvsmoPWVB5moeBC4lAyjIolBXfeqnnVwiSy2J+uRk+5417EM/W+slrO5XiZIms5iiBGm9kwEF80J17IgjLr/tiMCBbFN1xYpsqu9cNXK2ta9I/wFXaGamqNjA5RWERnQ4UGpyFHa7wT1BHKOfB4pL/ToHdmlKMeTgI0DIoEQC3OiAAo2s0CecDBU1eIYqVDCQ23MqQauBDFWyo54XnMe975vcxDUjQODyzYosCjQXeBC/OAe4OIdJjwR+SGLtBtfVbjCwfF5wmmyVHQz/B8SyKXJz+dMm2vT0jFbVMtSzx9UThwuWxQRoIzDDnZ1YmwzkN13sW6LX78tgvonoKb+PVZSMuuUOHL7JE2oZzNcrZJCAeadOYQXgQeoWyvDphlckGLvsIDPa18idZ6pUk/DpgAZuDpOZjzpLY9TK+KWF2G+VLKWVpNFXDdIcamSGEtOLVs+n6EiZa8laQQbGIX4qgwbXPy5WWzN4iG/3u+VDUw4RMal3iVma6ofcm1gAxJkX4TZBHFwadKQDEnywlA6wcl0eqNDde2p+jngGS4kEQ1xdBhrGseHXV14hMyYaV4gL2EvYBNn4fUz+GmTfBNQbTAqGPpkUZK7nTvd9shkitjM9c98/V4AP7Pq9lAshqUDuTWj6q6o1w9+m0HZReQ5arQTiahcs/xQ/7Ztd8MI1HK/FlZ7V8D0YZ9ECoyhCt5AAFFVMhSc1Z2DLMV2t8lQpQwRmoMHO+jQVSBDC+Ae4Nsb4bUmKQJ1JbR+zaX7ANkyyF7dp8IvY7UvzQLlv7WRJ9dmVfLFnTVdR0aq8L7EukfGNTWnqHs6PEehB74wZI/lBNCBABYjmYzkePjQ6KQREIomNwEz8MeVcsy0RPe1+OdMfutUJhM1ohSaNaVPYbUkph827IyGU32h1p6P+PBijmFidE/smH5gl3lX1C1svD7D94XlLXq4TsQjxlpCQ3mNAKqmYTvH/f9CeEiyRe/noJFr/pusDyZUofaiy649qkAXpCJmEHAmt04x473kVWLMQWQL4ukeg5UzgFodobST/+i/1azH5eLveM79q2R726GEvPxBXqGeoJCpR/CkgTOJ8ojy744YgTm2iR9+idy1B8B0C5nCG54lot3AX13nhlJojE4speAK2YhDGIpvh5WGcpEEi1On20P1Zmu3E+XVs8ywFBPYvzU//wSK2Dco0FJgQxsgHuDeGiG09xAXeB9sPPrVBBwLLD8Aw6RSJK4RGRVYoN7lPVE90FbHB2LAFELvIesOGs5pq/tE3Iv2G2mEK3kY1y7ROqsFjOR7x4olziHmQUehjNJdz8T6JEDtePqJyyiWrCE8pYlnwVHr97VKTQQMEYdI2e+s+sSwr507BsbJ7AShqzXrdAXmpEKfk8hZGfy7aTMAAT2fUnh0OQZZBG31wcHAlJn8FPYT/6FX3YIObGQra2QHLFPmTxOhqYRp304N5VpSjv9Pv3snrAonXaSeVwZncSwXNa6PoHNh03X/1AeI3k4JBUPwgL49fALZcXmP3f05ZKlGaLeKyI1SbS3RkHeVOZJMHRthJMRFcKHDin9JYzJhyMskpuQkwh0/KukmUqwUAKn2N341Ao5EjpKfFcxX5Ta9pBdtXcdzkRgZA5KmL0HFsCjQVCBDKeAe4NqcBJ4y+SwPwL0TS+W9eO499+5UUB4swxRg4QXzbEWhJe+7dY6s3m7wousMrWK3/sZjHLylEOJ9ygm+hoUEbK7WFFqysFHFkUhn4IAk4XkpRM3VNz+lYzsVNFHVWt9YfPZqMCJikAlS2+WPpOGkaUH9sYJGkAVVcFn3K+Tg97VGWlgZZYv89BLkZlyldx6m8tqVymkmUBUpnpF5QqjPWXJbRQonRy6OQOlIYsSoWGi5LS/GRn908XfxMWUyE3C4DntActyjtk2tKb+N/iHfcf/pqI5o1srCfmoHdMThq0yo5druffhMgPug/6u1/TMfRUQjVZ6sfciIHn5WruErYQaengCFHLcWJ7I26X0Zwdx5EAjsYWg5buQB5nFGA2McRHzrGg1BPnB4v+tF9yyD3/Eby1n3T9anO1CwHGwowvAAiJXJI7sh3ZoMBGjQUKBDOSAe4NnZwIASG4Hc2my6m7QNpFCbaNtsdPOSL1KkF+dBI/sDwk85LJ0mAITrUxU2Avt3ipadC/n9NLoi8ycmEzAZZ6cVDytJmBeii4yv0nM6/NrwGFPYhr2VYSS3OUUTAifgoKDeghjpeKTtpIVYoLIFa2plsqRGY4aqKDtRgVNM+cke+gno0TaNajwWkV5wn9/imfY++wsyIQiOhGNe66iFHv3XuR+mfVIZIHHcOIhUybZkpDJLGonog/yvfe+thTBVPkLFgOzYGchL1c0r95U55aIFW+BpnOWLXSvy5+Wmreou0wa7J7IYEz473JuoLEkTSDFhQDfo+No130TDxdZTN3ckd8Zw4L4/iB3onBCEiRwc0wg8XUo5YPNn4yv72ZVqZ2P2UG4E30t4rL26sYot8BFiIRuMxOGHfc1Y78Lo0FDgQ0ggHuDa2YVDuQL7QBclQTss6wN+8PmFeXLNsA7byp/QJ5BIwAxNpAnNZbm9Rds+DVLY3Vv6ud1U5iiEAfmR+0mN723+51Fg+UevnvLh1QALn8laeKa5Z8l/gXzKHijCzGPrpvg8M0eSrxvOXhBBy4SyRJLFJ8/P7Srlois28LtKUuFkykGKvQB6CLPE4ofRcTN75NcO/0/okYAWtiqtiHIj3q3dnnrPp7RaUVqFLAqanMdLgDSv4Gz8JAlbMAaTA8yQfRDAtU/ZJmqPl5OpO4RGXIbq4Q2yxJLFJtYmOCu1pCKYS7R6yIL1UZmmoLP/rjll17NzuxsuN6nqxc8EdyxprjZMUz9sGU06/1krFcGWA1jvJv9CM+innbBlCRnSKMUYgYlpOYG4NgOPqZg/uV5r9N/TT87Bc91aZVhObE1AwmjQUSBDVuAe4NpbBIWYVmMsqjO7QYgO/Gk30EspG6/h0HLSDwBB1OWUoYeNoxuTHMOgLPrHpAR4uYg8W0ZuJVixFfYOeXhfl8p/p9HHHUL1OCw/7zDijnqps+Grh+2bgHVXCE/P1CW+6AdLaI2vpXcVAWaCBJMrB71zxfycxfekirsYgQ8VRvi9w1NT+D5OE8peVP4g0nTPg+qyGrTLfEx9JXiDqQa004VnvJH9IICFc+O11sCZOj/4O8V6XgC25iDWzTMIm5evs9WXNw6ugO+0xP/pCOQe0XlMVbxYsXWQhHp5FYx6IN8OPclcpCKtN7nWPQKQiuuQvLtLt76W3r8MO+S68BWBdjMK1slwOXL/jrg8edgenX7kyUZ9CIdRJRQvNPx4HZtj13NQtVGOyOKwTGHnNdBNS7AsRPFtpN8c6f7BWke9TejQTGBDZeAe4NfYg6XZeVcpTEzMReSLItuLQm/0NjvdJQa1ph9Zp+JJWG6bVhwzr8wT5ClrTN4CBxfYwN88A1nWvffvOXvBNloj/0abBsyn4tHhvGYbalmCJJsS/hCRUwsFYtH5hWxU3cUDToshsdtg9W+m3VWANV7eWCxWYCs+G+JmrJMEw0jyp7wwxs8TNR3aiI5wuhSP8xBJXFWqNYy7R1QIz4HVXvTbUlEBXC8dXxxDJrjyQ5Pjnj3ITQEsv5GXROsvG8gcX0NvfoNJmTXarhXDtUM83o+ekOicgI2Bv3E8pqH464F0S6KCKFe8bJ+gdOOJqk5rDexG8UHjpeJRmREG0FgLsDB3b7uK7oRqHF/MtspN7wA9slefDN5E8XPpKrmfP1oTHRGXWCycm6Emrp2iaNBPoEN04B7g2xlDylGJBZuOdNUXo4FPplsm3DNit9tschH3Jwo27dgalGYptjs04dnPDlpB36IOTFu+rh6aY6iKExPMCXQ0SnZoFjQ05b7EIdpi52jjPMg9a0Uedqez2skagmklu+CjaCLUumQTwmbCgwx3N5KEk5GQ+wrcAP6ishtdJCsYXDAw60C9qDQLzzOzAPNzguhI/l1M74ZSEqsauLZOxfcwVjpZMnkTQFFFwRuQtIfprJJjMYInH8wm1C1uOc/vQX4zi72FwlycWd8gF11BLat2JNdJsMSG0IZT++VqYHj/Aum+adOA5RTzrtnTuNqX1fMTI0QlNGIJ2QBZv1auUPHUAjsqGiSGrZ3eubpLyCyjjuCuO1/z/cFzw1GQkxv6h2bg3PWlPip80c90oesGSWeFYaxF4Feh9AXAKNBLoEOD4B7g2BiEhtCGVIJFF3mMfdIHVpxlDWmGcFu3ZumP6Q9iaonYvg1En3pjBiyMm9lKtL/6BpmJha1avZKyheRox9t6f5z8Z86SNtEhG3/hde4l0l9lH44+5dP5QciS2kXSDPRyq6IET9Xkh8B/jDYgRudvUg6zh+HR+sRWbLh5vDQ94j7f5pK78WZ4rWDutXaTIiyorIm4VqmYnP2GW9lWCCwBkmk14X1ATMV+4yQgHkaxPUCfdL/mmm0ang3tVz4TTYzwuvxwXoPKIPpMoY0A7drTE/RJ7TNUwQfdCk4+JbmR4SM9CkXJ9aUpzNXAQYEJmDHtRWPopXJJFP80LsyKXEaX9DH64oilBx17FchFysXOQu2id+bjUWyzo1cyrD4pgRQWenjIs1up27Mo0E8gQ5LgHuDZWkO803El/0CsjWxOP9J1Xb/jioWNiluNxmN4O5+IaayTTyMX4MaJNPhhUaaqqVa18PMo+pYSkv3m6HWkTd/rRrD6MZQ5TS/9d2QpnHpkwClOM7ec430SAIIrXaVe37m/1G9BjYmCQ7zTYRUa1HXzzRIFRWXnhUQN+zsgxHGreaQ3DjJSVSokuZ27WQyGN0485YTCraw8nrODf0Eej1tuLSxyxrWLmqs+9sJZD7pgeHpVwjfMmAG/uTaYKLyFoJYua96rKNcN1zHijLuOHAt/w8pIrnvi5Efrr4e82Pxx0VWTHKFrTZ2QWwbJpYv8C12MmWTVqDjGMzsejQMGJhDkKwbBTmZAxQDZ53WInCdDfPUsZse5Q+hvMGHgfwPkSGWDfvXg/nWoEK/pKm1B5Q7yvF3QK6+OqNBLYEOh4B7g2BkDyiEi7JWkw0l8X1LxY76EEnkE4xs1uyXrZqchylMUeRaOZqkWK7o0yPHUVmYsnKr/d5jb7cOVgb+Un3zyj+1GYfp6mWiBqNesbvI4O67DOfa0ez42n42KCD3oOxgwIm5DTWUGXflEwAEVLdZTfPXwp+o/z2uET+oxVPCHBmUpcZcnI3KD8GL+imUr8ZEiBRskdD0eIA4oF5z0AxPAXO9+NBz0pMi524y/+fhe9i8B1Go/is45mhZ3p551xaAejVkVpMNiA0ffbgsM3uOurJNmJ5VrfXt0NAEKHY+L83CFlg1V9MV/42oDh+mInznOy9HD2vGkjWMC8JRtVdSypyqQ8QWJMiwWL/Gp9LypKoIoUAFzzWcvBIwDsZVU7oG1XW4oeBU1gGjQT6BDsOAe4NobA01k2cAcD12ufc6tOXi11Z4aDKgXP/TDqLueTt0n+luMfiF4Wdb0cNXYtK62iyRbo00HWOuOXZoW5CG5z2mz/jciYId7Aule5jlDway9ezANoIM18CZBIK8UgK5Wx7TFM/+c96lsfaIDyi8E6FR2xOATjCf41fXgLf65x/K9sPj7R6gGk/fL3MCtN2xciJbqFOxFJ2G7eldyIH3DNPs77HlBfo7+oxJ6Z+5JrxDVdm6krvK7U/PYj2WF5MqeS1oau7zkWJlwN2XOO4a5aEH4fC5tFMKDyiD5k1okkNb6ucN6iYSf7KEQcd5+00NqVxkAEsa6WRhTJ37KnSuPcsNqlpXnHUpbJd+LcoF59ygun694umiPCD2SFZuXaQ8yPq+f+072wfGGsBaIX+gx/4s7OD3u6Qf1XmjQSSBDv+Ae4NdYQ7FM/P8GAu8zQlC0MZDFaAFnTCqrqSGZaEFQN45pI1CKjchlJ5vABDzPpweuZSTsPjaTCB1S7TgR78JKBhyDA9kcJ7bz82raWo5hCYutLm04S45jGE68jdlDq5umA0fePR48PX6jTRtV2qgQNLnYYt4+t4MFF7OcJ9FqN3JeoeXjCMzxGOFTbkItbHdjQlMUo+brXvwHPU1tFbvPkMBwOmvYLNEWzWlVM1oYjbOpuLKaFqrs+ba3jH97dj6dfgNNcQDGpKsJasmxkzVvJclEvgVq0cWPF8BIuau9qBBt8ADn9ha6cczmNRahyOENU04XLDpCTTMpQ8vI8aJjZThAIoMcJB+p9zr8O63iI1Ex4SjWj0X3nKOvNlHhL3Do0EugQ88gHuDY2ANNdrg3ZIN47p+0pwOWHUUcnF97LR0VaS6Qqt5aHR/oe4cjWZfdVMJP/+2VshqVWmcfFbBEKffsYRISe8ayNogiw60umaPSWnZ1xdXfMMJwwhWWPsaC4ISaO3lcWEXai3PYwgNNdrQ9y0AUtlEvBvtiOxn9L9fdHGkG7vzcVXdcmyEdrfN450C/98neE3YVlRSjvh7FHgzlKde5ohac2fvMAynTc/Vf6FGfp86fSUZGYs5u9z9hkoPcLNCdEcqRAhfvwoNJwQH2rb01SPJKyXsdn3iCfMyTzsmDPp9bbUxOlxKHtbIHPera3fdGElvGvUBm7U2CBHkeCxGy2FLgcxPHhH3wc87qrSdidYsur+w0eE0s4CTI/CwdxYyxZCbcP/Q8mxshUE=\" type=\"audio/x-wav\" />\n",
       "                    Your browser does not support the audio element.\n",
       "                </audio>\n",
       "              "
      ],
      "text/plain": [
       "<IPython.lib.display.Audio object>"
      ]
     },
     "execution_count": 6,
     "metadata": {},
     "output_type": "execute_result"
    }
   ],
   "source": [
    "import IPython\n",
    "filename = '덩기덕쿵더러러러.wav'\n",
    "IPython.display.Audio(filename)"
   ]
  },
  {
   "cell_type": "code",
   "execution_count": 13,
   "id": "01d1565e-01eb-439f-a30b-fc4861eaba51",
   "metadata": {},
   "outputs": [
    {
     "name": "stdout",
     "output_type": "stream",
     "text": [
      "Defaulting to user installation because normal site-packages is not writeable\n",
      "Requirement already satisfied: librosa in /home/jovyan/.local/lib/python3.10/site-packages (0.10.0.post2)\n",
      "Requirement already satisfied: scikit-learn>=0.20.0 in /usr/local/lib/python3.10/site-packages (from librosa) (1.1.1)\n",
      "Requirement already satisfied: numba>=0.51.0 in /usr/local/lib/python3.10/site-packages (from librosa) (0.57.0)\n",
      "Requirement already satisfied: msgpack>=1.0 in /home/jovyan/.local/lib/python3.10/site-packages (from librosa) (1.0.5)\n",
      "Requirement already satisfied: soundfile>=0.12.1 in /home/jovyan/.local/lib/python3.10/site-packages (from librosa) (0.12.1)\n",
      "Requirement already satisfied: scipy>=1.2.0 in /usr/local/lib/python3.10/site-packages (from librosa) (1.10.1)\n",
      "Requirement already satisfied: audioread>=2.1.9 in /home/jovyan/.local/lib/python3.10/site-packages (from librosa) (3.0.0)\n",
      "Requirement already satisfied: lazy-loader>=0.1 in /home/jovyan/.local/lib/python3.10/site-packages (from librosa) (0.2)\n",
      "Requirement already satisfied: pooch<1.7,>=1.0 in /home/jovyan/.local/lib/python3.10/site-packages (from librosa) (1.6.0)\n",
      "Requirement already satisfied: soxr>=0.3.2 in /home/jovyan/.local/lib/python3.10/site-packages (from librosa) (0.3.5)\n",
      "Requirement already satisfied: decorator>=4.3.0 in /usr/local/lib/python3.10/site-packages (from librosa) (5.1.1)\n",
      "Requirement already satisfied: joblib>=0.14 in /usr/local/lib/python3.10/site-packages (from librosa) (1.2.0)\n",
      "Requirement already satisfied: numpy!=1.22.0,!=1.22.1,!=1.22.2,>=1.20.3 in /usr/local/lib/python3.10/site-packages (from librosa) (1.22.4)\n",
      "Requirement already satisfied: typing-extensions>=4.1.1 in /usr/local/lib/python3.10/site-packages (from librosa) (4.5.0)\n",
      "Requirement already satisfied: llvmlite<0.41,>=0.40.0dev0 in /usr/local/lib/python3.10/site-packages (from numba>=0.51.0->librosa) (0.40.0)\n",
      "Requirement already satisfied: packaging>=20.0 in /usr/local/lib/python3.10/site-packages (from pooch<1.7,>=1.0->librosa) (23.1)\n",
      "Requirement already satisfied: requests>=2.19.0 in /usr/local/lib/python3.10/site-packages (from pooch<1.7,>=1.0->librosa) (2.29.0)\n",
      "Requirement already satisfied: appdirs>=1.3.0 in /home/jovyan/.local/lib/python3.10/site-packages (from pooch<1.7,>=1.0->librosa) (1.4.4)\n",
      "Requirement already satisfied: threadpoolctl>=2.0.0 in /usr/local/lib/python3.10/site-packages (from scikit-learn>=0.20.0->librosa) (3.1.0)\n",
      "Requirement already satisfied: cffi>=1.0 in /usr/local/lib/python3.10/site-packages (from soundfile>=0.12.1->librosa) (1.15.1)\n",
      "Requirement already satisfied: pycparser in /usr/local/lib/python3.10/site-packages (from cffi>=1.0->soundfile>=0.12.1->librosa) (2.21)\n",
      "Requirement already satisfied: idna<4,>=2.5 in /usr/local/lib/python3.10/site-packages (from requests>=2.19.0->pooch<1.7,>=1.0->librosa) (3.4)\n",
      "Requirement already satisfied: urllib3<1.27,>=1.21.1 in /usr/local/lib/python3.10/site-packages (from requests>=2.19.0->pooch<1.7,>=1.0->librosa) (1.26.15)\n",
      "Requirement already satisfied: certifi>=2017.4.17 in /usr/local/lib/python3.10/site-packages (from requests>=2.19.0->pooch<1.7,>=1.0->librosa) (2022.12.7)\n",
      "Requirement already satisfied: charset-normalizer<4,>=2 in /usr/local/lib/python3.10/site-packages (from requests>=2.19.0->pooch<1.7,>=1.0->librosa) (3.1.0)\n",
      "\n",
      "\u001b[1m[\u001b[0m\u001b[34;49mnotice\u001b[0m\u001b[1;39;49m]\u001b[0m\u001b[39;49m A new release of pip is available: \u001b[0m\u001b[31;49m23.0.1\u001b[0m\u001b[39;49m -> \u001b[0m\u001b[32;49m23.1.2\u001b[0m\n",
      "\u001b[1m[\u001b[0m\u001b[34;49mnotice\u001b[0m\u001b[1;39;49m]\u001b[0m\u001b[39;49m To update, run: \u001b[0m\u001b[32;49mpip install --upgrade pip\u001b[0m\n"
     ]
    },
    {
     "name": "stderr",
     "output_type": "stream",
     "text": [
      "No matching template\n",
      "---------------------------------------------------------------------------\n",
      "\u001b[1;33m오류도우미의 설명\u001b[0m\n",
      "\n"
     ]
    },
    {
     "ename": "NoBackendError",
     "evalue": "",
     "output_type": "error",
     "traceback": [
      "\u001b[0;31m---------------------------------------------------------------------------\u001b[0m",
      "\u001b[0;31mLibsndfileError\u001b[0m                           Traceback (most recent call last)",
      "File \u001b[0;32m~/.local/lib/python3.10/site-packages/librosa/core/audio.py:176\u001b[0m, in \u001b[0;36mload\u001b[0;34m(path, sr, mono, offset, duration, dtype, res_type)\u001b[0m\n\u001b[1;32m    175\u001b[0m \u001b[38;5;28;01mtry\u001b[39;00m:\n\u001b[0;32m--> 176\u001b[0m     y, sr_native \u001b[38;5;241m=\u001b[39m \u001b[43m__soundfile_load\u001b[49m\u001b[43m(\u001b[49m\u001b[43mpath\u001b[49m\u001b[43m,\u001b[49m\u001b[43m \u001b[49m\u001b[43moffset\u001b[49m\u001b[43m,\u001b[49m\u001b[43m \u001b[49m\u001b[43mduration\u001b[49m\u001b[43m,\u001b[49m\u001b[43m \u001b[49m\u001b[43mdtype\u001b[49m\u001b[43m)\u001b[49m\n\u001b[1;32m    178\u001b[0m \u001b[38;5;28;01mexcept\u001b[39;00m sf\u001b[38;5;241m.\u001b[39mSoundFileRuntimeError \u001b[38;5;28;01mas\u001b[39;00m exc:\n\u001b[1;32m    179\u001b[0m     \u001b[38;5;66;03m# If soundfile failed, try audioread instead\u001b[39;00m\n",
      "File \u001b[0;32m~/.local/lib/python3.10/site-packages/librosa/core/audio.py:209\u001b[0m, in \u001b[0;36m__soundfile_load\u001b[0;34m(path, offset, duration, dtype)\u001b[0m\n\u001b[1;32m    207\u001b[0m \u001b[38;5;28;01melse\u001b[39;00m:\n\u001b[1;32m    208\u001b[0m     \u001b[38;5;66;03m# Otherwise, create the soundfile object\u001b[39;00m\n\u001b[0;32m--> 209\u001b[0m     context \u001b[38;5;241m=\u001b[39m \u001b[43msf\u001b[49m\u001b[38;5;241;43m.\u001b[39;49m\u001b[43mSoundFile\u001b[49m\u001b[43m(\u001b[49m\u001b[43mpath\u001b[49m\u001b[43m)\u001b[49m\n\u001b[1;32m    211\u001b[0m \u001b[38;5;28;01mwith\u001b[39;00m context \u001b[38;5;28;01mas\u001b[39;00m sf_desc:\n",
      "File \u001b[0;32m~/.local/lib/python3.10/site-packages/soundfile.py:658\u001b[0m, in \u001b[0;36mSoundFile.__init__\u001b[0;34m(self, file, mode, samplerate, channels, subtype, endian, format, closefd)\u001b[0m\n\u001b[1;32m    656\u001b[0m \u001b[38;5;28mself\u001b[39m\u001b[38;5;241m.\u001b[39m_info \u001b[38;5;241m=\u001b[39m _create_info_struct(file, mode, samplerate, channels,\n\u001b[1;32m    657\u001b[0m                                  \u001b[38;5;28mformat\u001b[39m, subtype, endian)\n\u001b[0;32m--> 658\u001b[0m \u001b[38;5;28mself\u001b[39m\u001b[38;5;241m.\u001b[39m_file \u001b[38;5;241m=\u001b[39m \u001b[38;5;28;43mself\u001b[39;49m\u001b[38;5;241;43m.\u001b[39;49m\u001b[43m_open\u001b[49m\u001b[43m(\u001b[49m\u001b[43mfile\u001b[49m\u001b[43m,\u001b[49m\u001b[43m \u001b[49m\u001b[43mmode_int\u001b[49m\u001b[43m,\u001b[49m\u001b[43m \u001b[49m\u001b[43mclosefd\u001b[49m\u001b[43m)\u001b[49m\n\u001b[1;32m    659\u001b[0m \u001b[38;5;28;01mif\u001b[39;00m \u001b[38;5;28mset\u001b[39m(mode)\u001b[38;5;241m.\u001b[39missuperset(\u001b[38;5;124m'\u001b[39m\u001b[38;5;124mr+\u001b[39m\u001b[38;5;124m'\u001b[39m) \u001b[38;5;129;01mand\u001b[39;00m \u001b[38;5;28mself\u001b[39m\u001b[38;5;241m.\u001b[39mseekable():\n\u001b[1;32m    660\u001b[0m     \u001b[38;5;66;03m# Move write position to 0 (like in Python file objects)\u001b[39;00m\n",
      "File \u001b[0;32m~/.local/lib/python3.10/site-packages/soundfile.py:1216\u001b[0m, in \u001b[0;36mSoundFile._open\u001b[0;34m(self, file, mode_int, closefd)\u001b[0m\n\u001b[1;32m   1215\u001b[0m     err \u001b[38;5;241m=\u001b[39m _snd\u001b[38;5;241m.\u001b[39msf_error(file_ptr)\n\u001b[0;32m-> 1216\u001b[0m     \u001b[38;5;28;01mraise\u001b[39;00m LibsndfileError(err, prefix\u001b[38;5;241m=\u001b[39m\u001b[38;5;124m\"\u001b[39m\u001b[38;5;124mError opening \u001b[39m\u001b[38;5;132;01m{0!r}\u001b[39;00m\u001b[38;5;124m: \u001b[39m\u001b[38;5;124m\"\u001b[39m\u001b[38;5;241m.\u001b[39mformat(\u001b[38;5;28mself\u001b[39m\u001b[38;5;241m.\u001b[39mname))\n\u001b[1;32m   1217\u001b[0m \u001b[38;5;28;01mif\u001b[39;00m mode_int \u001b[38;5;241m==\u001b[39m _snd\u001b[38;5;241m.\u001b[39mSFM_WRITE:\n\u001b[1;32m   1218\u001b[0m     \u001b[38;5;66;03m# Due to a bug in libsndfile version <= 1.0.25, frames != 0\u001b[39;00m\n\u001b[1;32m   1219\u001b[0m     \u001b[38;5;66;03m# when opening a named pipe in SFM_WRITE mode.\u001b[39;00m\n\u001b[1;32m   1220\u001b[0m     \u001b[38;5;66;03m# See http://github.com/erikd/libsndfile/issues/77.\u001b[39;00m\n",
      "\u001b[0;31mLibsndfileError\u001b[0m: Error opening '덩기덕쿵더러러러.wav': Format not recognised.",
      "\nDuring handling of the above exception, another exception occurred:\n",
      "\u001b[0;31mNoBackendError\u001b[0m                            Traceback (most recent call last)",
      "Cell \u001b[0;32mIn[13], line 5\u001b[0m\n\u001b[1;32m      3\u001b[0m \u001b[38;5;28;01mimport\u001b[39;00m \u001b[38;5;21;01mwarnings\u001b[39;00m\n\u001b[1;32m      4\u001b[0m warnings\u001b[38;5;241m.\u001b[39mfilterwarnings(\u001b[38;5;124m\"\u001b[39m\u001b[38;5;124mignore\u001b[39m\u001b[38;5;124m\"\u001b[39m)\n\u001b[0;32m----> 5\u001b[0m x, sr \u001b[38;5;241m=\u001b[39m \u001b[43mlibrosa\u001b[49m\u001b[38;5;241;43m.\u001b[39;49m\u001b[43mload\u001b[49m\u001b[43m(\u001b[49m\u001b[43mfilename\u001b[49m\u001b[43m)\u001b[49m\n\u001b[1;32m      6\u001b[0m \u001b[38;5;28mprint\u001b[39m(\u001b[38;5;124m'\u001b[39m\u001b[38;5;124msample rate:\u001b[39m\u001b[38;5;124m'\u001b[39m, sr, \u001b[38;5;124m'\u001b[39m\u001b[38;5;124m(sample/초)\u001b[39m\u001b[38;5;124m'\u001b[39m)\n\u001b[1;32m      7\u001b[0m \u001b[38;5;28mprint\u001b[39m(\u001b[38;5;124m'\u001b[39m\u001b[38;5;124msignam:\u001b[39m\u001b[38;5;130;01m\\n\u001b[39;00m\u001b[38;5;124m'\u001b[39m, x)\n",
      "File \u001b[0;32m~/.local/lib/python3.10/site-packages/librosa/core/audio.py:184\u001b[0m, in \u001b[0;36mload\u001b[0;34m(path, sr, mono, offset, duration, dtype, res_type)\u001b[0m\n\u001b[1;32m    180\u001b[0m \u001b[38;5;28;01mif\u001b[39;00m \u001b[38;5;28misinstance\u001b[39m(path, (\u001b[38;5;28mstr\u001b[39m, pathlib\u001b[38;5;241m.\u001b[39mPurePath)):\n\u001b[1;32m    181\u001b[0m     warnings\u001b[38;5;241m.\u001b[39mwarn(\n\u001b[1;32m    182\u001b[0m         \u001b[38;5;124m\"\u001b[39m\u001b[38;5;124mPySoundFile failed. Trying audioread instead.\u001b[39m\u001b[38;5;124m\"\u001b[39m, stacklevel\u001b[38;5;241m=\u001b[39m\u001b[38;5;241m2\u001b[39m\n\u001b[1;32m    183\u001b[0m     )\n\u001b[0;32m--> 184\u001b[0m     y, sr_native \u001b[38;5;241m=\u001b[39m \u001b[43m__audioread_load\u001b[49m\u001b[43m(\u001b[49m\u001b[43mpath\u001b[49m\u001b[43m,\u001b[49m\u001b[43m \u001b[49m\u001b[43moffset\u001b[49m\u001b[43m,\u001b[49m\u001b[43m \u001b[49m\u001b[43mduration\u001b[49m\u001b[43m,\u001b[49m\u001b[43m \u001b[49m\u001b[43mdtype\u001b[49m\u001b[43m)\u001b[49m\n\u001b[1;32m    185\u001b[0m \u001b[38;5;28;01melse\u001b[39;00m:\n\u001b[1;32m    186\u001b[0m     \u001b[38;5;28;01mraise\u001b[39;00m exc\n",
      "File \u001b[0;32m/usr/local/lib/python3.10/site-packages/decorator.py:232\u001b[0m, in \u001b[0;36mdecorate.<locals>.fun\u001b[0;34m(*args, **kw)\u001b[0m\n\u001b[1;32m    230\u001b[0m \u001b[38;5;28;01mif\u001b[39;00m \u001b[38;5;129;01mnot\u001b[39;00m kwsyntax:\n\u001b[1;32m    231\u001b[0m     args, kw \u001b[38;5;241m=\u001b[39m fix(args, kw, sig)\n\u001b[0;32m--> 232\u001b[0m \u001b[38;5;28;01mreturn\u001b[39;00m \u001b[43mcaller\u001b[49m\u001b[43m(\u001b[49m\u001b[43mfunc\u001b[49m\u001b[43m,\u001b[49m\u001b[43m \u001b[49m\u001b[38;5;241;43m*\u001b[39;49m\u001b[43m(\u001b[49m\u001b[43mextras\u001b[49m\u001b[43m \u001b[49m\u001b[38;5;241;43m+\u001b[39;49m\u001b[43m \u001b[49m\u001b[43margs\u001b[49m\u001b[43m)\u001b[49m\u001b[43m,\u001b[49m\u001b[43m \u001b[49m\u001b[38;5;241;43m*\u001b[39;49m\u001b[38;5;241;43m*\u001b[39;49m\u001b[43mkw\u001b[49m\u001b[43m)\u001b[49m\n",
      "File \u001b[0;32m~/.local/lib/python3.10/site-packages/librosa/util/decorators.py:60\u001b[0m, in \u001b[0;36mdeprecated.<locals>.__wrapper\u001b[0;34m(func, *args, **kwargs)\u001b[0m\n\u001b[1;32m     51\u001b[0m \u001b[38;5;250m\u001b[39m\u001b[38;5;124;03m\"\"\"Warn the user, and then proceed.\"\"\"\u001b[39;00m\n\u001b[1;32m     52\u001b[0m warnings\u001b[38;5;241m.\u001b[39mwarn(\n\u001b[1;32m     53\u001b[0m     \u001b[38;5;124m\"\u001b[39m\u001b[38;5;132;01m{:s}\u001b[39;00m\u001b[38;5;124m.\u001b[39m\u001b[38;5;132;01m{:s}\u001b[39;00m\u001b[38;5;130;01m\\n\u001b[39;00m\u001b[38;5;130;01m\\t\u001b[39;00m\u001b[38;5;124mDeprecated as of librosa version \u001b[39m\u001b[38;5;132;01m{:s}\u001b[39;00m\u001b[38;5;124m.\u001b[39m\u001b[38;5;124m\"\u001b[39m\n\u001b[1;32m     54\u001b[0m     \u001b[38;5;124m\"\u001b[39m\u001b[38;5;130;01m\\n\u001b[39;00m\u001b[38;5;130;01m\\t\u001b[39;00m\u001b[38;5;124mIt will be removed in librosa version \u001b[39m\u001b[38;5;132;01m{:s}\u001b[39;00m\u001b[38;5;124m.\u001b[39m\u001b[38;5;124m\"\u001b[39m\u001b[38;5;241m.\u001b[39mformat(\n\u001b[0;32m   (...)\u001b[0m\n\u001b[1;32m     58\u001b[0m     stacklevel\u001b[38;5;241m=\u001b[39m\u001b[38;5;241m3\u001b[39m,  \u001b[38;5;66;03m# Would be 2, but the decorator adds a level\u001b[39;00m\n\u001b[1;32m     59\u001b[0m )\n\u001b[0;32m---> 60\u001b[0m \u001b[38;5;28;01mreturn\u001b[39;00m \u001b[43mfunc\u001b[49m\u001b[43m(\u001b[49m\u001b[38;5;241;43m*\u001b[39;49m\u001b[43margs\u001b[49m\u001b[43m,\u001b[49m\u001b[43m \u001b[49m\u001b[38;5;241;43m*\u001b[39;49m\u001b[38;5;241;43m*\u001b[39;49m\u001b[43mkwargs\u001b[49m\u001b[43m)\u001b[49m\n",
      "File \u001b[0;32m~/.local/lib/python3.10/site-packages/librosa/core/audio.py:241\u001b[0m, in \u001b[0;36m__audioread_load\u001b[0;34m(path, offset, duration, dtype)\u001b[0m\n\u001b[1;32m    238\u001b[0m     reader \u001b[38;5;241m=\u001b[39m path\n\u001b[1;32m    239\u001b[0m \u001b[38;5;28;01melse\u001b[39;00m:\n\u001b[1;32m    240\u001b[0m     \u001b[38;5;66;03m# If the input was not an audioread object, try to open it\u001b[39;00m\n\u001b[0;32m--> 241\u001b[0m     reader \u001b[38;5;241m=\u001b[39m \u001b[43maudioread\u001b[49m\u001b[38;5;241;43m.\u001b[39;49m\u001b[43maudio_open\u001b[49m\u001b[43m(\u001b[49m\u001b[43mpath\u001b[49m\u001b[43m)\u001b[49m\n\u001b[1;32m    243\u001b[0m \u001b[38;5;28;01mwith\u001b[39;00m reader \u001b[38;5;28;01mas\u001b[39;00m input_file:\n\u001b[1;32m    244\u001b[0m     sr_native \u001b[38;5;241m=\u001b[39m input_file\u001b[38;5;241m.\u001b[39msamplerate\n",
      "File \u001b[0;32m~/.local/lib/python3.10/site-packages/audioread/__init__.py:132\u001b[0m, in \u001b[0;36maudio_open\u001b[0;34m(path, backends)\u001b[0m\n\u001b[1;32m    129\u001b[0m         \u001b[38;5;28;01mpass\u001b[39;00m\n\u001b[1;32m    131\u001b[0m \u001b[38;5;66;03m# All backends failed!\u001b[39;00m\n\u001b[0;32m--> 132\u001b[0m \u001b[38;5;28;01mraise\u001b[39;00m NoBackendError()\n",
      "\u001b[0;31mNoBackendError\u001b[0m: "
     ]
    }
   ],
   "source": [
    "!pip install librosa\n",
    "import librosa\n",
    "import warnings\n",
    "warnings.filterwarnings(\"ignore\")\n",
    "x, sr = librosa.load(filename)\n",
    "print('sample rate:', sr, '(sample/초)')\n",
    "print('signam:\\n', x)"
   ]
  },
  {
   "cell_type": "markdown",
   "id": "51746b4f-44d7-48ea-a439-087f91289b54",
   "metadata": {
    "tags": []
   },
   "source": [
    "##  **4. 언어를 디지털화하여 활용하기**\n"
   ]
  },
  {
   "cell_type": "markdown",
   "id": "e794e35c-9765-4602-a932-f36d43658d9e",
   "metadata": {},
   "source": [
    "### **(1) 언어 데이터로 무엇을 할 수 있을까?**  "
   ]
  },
  {
   "cell_type": "markdown",
   "id": "f4668876-61e4-4e43-aba1-74711fefeded",
   "metadata": {},
   "source": [
    "언어 이해  \n",
    "번역  \n",
    "대화  \n",
    "요약 혹은 생성"
   ]
  },
  {
   "cell_type": "markdown",
   "id": "600da596-191e-4df1-86a6-9b9d38bc71af",
   "metadata": {},
   "source": [
    "### **(2) 언어 데이터 수집하기**"
   ]
  },
  {
   "cell_type": "markdown",
   "id": "59827e2e-1d2c-4f8c-9da1-b0267c691913",
   "metadata": {},
   "source": [
    "### **(3) 언어 데이터 컴퓨터에서 표현하기**"
   ]
  },
  {
   "cell_type": "markdown",
   "id": "739f7aa9-ad61-499d-abcf-256a84b9b5a4",
   "metadata": {},
   "source": [
    "토크나이징"
   ]
  },
  {
   "cell_type": "markdown",
   "id": "e610d26a-63d7-4022-89f3-b24cb6d107f7",
   "metadata": {
    "tags": []
   },
   "source": [
    "# 포맷 참고"
   ]
  },
  {
   "cell_type": "markdown",
   "id": "05172c4e-7b65-416b-ad2e-caee0eeceadf",
   "metadata": {
    "tags": []
   },
   "source": [
    "### **(1) 의사 결정 트리는 언제 사용하면 좋을까?**\n",
    "\n",
    "\n"
   ]
  },
  {
   "cell_type": "markdown",
   "id": "2ce73c6d-4a15-4207-9f33-c2413b325002",
   "metadata": {},
   "source": [
    "의사 결정 트리는 회귀와 분류 모두 사용될 수 있지만, 주로 분류를 위해 사용됩니다.  \n",
    "> **분류**: 데이터를 범주(category)에 따라 나누는 것\n",
    "\n",
    "정답 라벨이 포함된 학습 데이터를 이용해 의사 결정 트리를 지도학습할 수 있습니다.  \n",
    "학습 데이터를 잘 분류하는 방법을 찾으면 새로운 데이터도 잘 분류할 수 있을 겁니다.\n",
    "> **지도학습**: 데이터에 대한 명시적인 정답이 주어진 상태에서 학습하는 방식\n",
    "\n",
    "의사 결정 트리는 다음 두가지 장점을 가지고 있습니다.  \n",
    "> * 분류 과정이 직관적이고 **해석이 쉽다**.  \n",
    "> * 데이터 가공에 따른 영향이 적기 때문에 **전처리 과정이 간단하다**.\n",
    "\n",
    "따라서 의사 결정 트리는 데이터를 범주에 따라 분류해야하고,  \n",
    "각 데이터를 분류하는 기준을 정확히 알고 싶을 때 사용하면 좋습니다.  "
   ]
  },
  {
   "cell_type": "markdown",
   "id": "49067fc2-82ac-4d16-bcdc-9ca8f0df4551",
   "metadata": {},
   "source": [
    "**[문제1] 의사 결정 트리를 활용하기 좋은 문제 상황을 적어봅시다.**   \n",
    "\n",
    "(예시) 수익률이 높은 상품의 특성을 찾기 위해 상품의 여러 특징을 데이터로 하여 수익률을 상/중/하로 나누어 분류한다.  \n",
    "의사 결정 트리를 학습하고 나면 수익률을 결정하는 기준을 확인할 수 있기 때문에 상품 개발에 도움을 받을 수 있다. "
   ]
  },
  {
   "cell_type": "raw",
   "id": "7fee3d3a-b4da-456a-b4e3-307072cd0b0f",
   "metadata": {},
   "source": [
    "👉 "
   ]
  },
  {
   "cell_type": "markdown",
   "id": "1369a2bd-aa1b-48c4-a350-fe575c4aaa24",
   "metadata": {
    "tags": []
   },
   "source": [
    "### **(2) 의사 결정 트리의 요소**"
   ]
  },
  {
   "cell_type": "markdown",
   "id": "ff2d88d4-41a4-414f-8155-09d45ba99692",
   "metadata": {
    "jp-MarkdownHeadingCollapsed": true,
    "tags": []
   },
   "source": [
    "\n",
    "\n",
    "**의사 결정 트리는 '트리'라는 데이터 구조를 이루고 있습니다.**  \n",
    "🌳 트리는 나무를 뒤집어 높은 모양이라서 붙여진 이름입니다!\n",
    "\n",
    "다음 그림을 보고 트리 구조의 구성 요소를 확인해 봅시다.\n",
    " \n",
    "<table>\n",
    "<tr>\n",
    "    <th><img src=\"https://lh3.google.com/u/0/d/1RuWrwPeYFEZHV8p6oWC0R_Pc-sS9dyWG=w2560-h1374-iv3\" width=\\\"800\"></th>\n",
    "    </tr>\n",
    "<tr>\n",
    "    <th>트리 구조의 구성 요소</th>\n",
    "</tr>\n",
    "</table>\n",
    "\n",
    "> * 최상위 노드(root): 가장 상위의 시작 노드\n",
    "> * 간선(edge): 노드와 노드 사이를 연결하는 선\n",
    "> * 부모 노드 (parent node): 자식 노드의 상위 노드\n",
    "> * 자식 노드 (child node): 부모 노드로부터 분리된 하위 노드\n",
    "> * 단말 노드 (leaf node): 자식이 없는 마지막 노드\n",
    "> * 깊이 (depth): 최상위 노드부터 가장 하단의 단말 노드까지 층의 수"
   ]
  }
 ],
 "metadata": {
  "kernelspec": {
   "display_name": "Python 3 (ipykernel)",
   "language": "python",
   "name": "python3"
  },
  "language_info": {
   "codemirror_mode": {
    "name": "ipython",
    "version": 3
   },
   "file_extension": ".py",
   "mimetype": "text/x-python",
   "name": "python",
   "nbconvert_exporter": "python",
   "pygments_lexer": "ipython3",
   "version": "3.10.11"
  },
  "toc-showcode": false,
  "toc-showmarkdowntxt": false
 },
 "nbformat": 4,
 "nbformat_minor": 5
}
