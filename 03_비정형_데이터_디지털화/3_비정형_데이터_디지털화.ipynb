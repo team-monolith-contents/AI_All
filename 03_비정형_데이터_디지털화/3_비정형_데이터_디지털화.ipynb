{
 "cells": [
  {
   "cell_type": "markdown",
   "id": "1dc69d2d-23f3-4475-947d-76813d79ad8c",
   "metadata": {
    "tags": []
   },
   "source": [
    "# **[3] 비정형 데이터의 디지털화**\n",
    "\n",
    "\n",
    "\n",
    "    \n"
   ]
  },
  {
   "cell_type": "markdown",
   "id": "66fd8b0e-c355-48b3-b2d0-22cf258a9527",
   "metadata": {
    "tags": []
   },
   "source": [
    "#### **[학습 목표]**\n",
    "1. 비정형 데이터의 디지털화 필요성을 이해할 수 있다.\n",
    "2. 빛을 디지털화하여 활용할 수 있다.\n",
    "3. 소리를 디지털화하여 활용할 수 있다.\n",
    "4. 언어를 디지털화하여 활용할 수 있다.\n",
    "\n",
    "\n",
    "    \n"
   ]
  },
  {
   "cell_type": "markdown",
   "id": "16d4a334-6cfa-4e23-8618-449c95a90d85",
   "metadata": {
    "tags": []
   },
   "source": [
    "##  **1. 비정형 데이터의 디지털화 필요성 이해하기**\n"
   ]
  },
  {
   "cell_type": "markdown",
   "id": "59f29659-19ef-42a8-ae2e-2d45e2d3a7e8",
   "metadata": {},
   "source": [
    "학교에서 만나는 인공지능 수업 고등기초 40페이지 센서와 인식  \n",
    "EBS math ai 40페이지 데이터 처리  \n",
    "고등 인공지능 기초 138페이지 정형데이터와 비정형데이터"
   ]
  },
  {
   "cell_type": "markdown",
   "id": "cc4c3b0e-ef2c-4414-b677-4eac0fb52d0a",
   "metadata": {},
   "source": [
    "### **(1) 비정형 데이터의 특징**   "
   ]
  },
  {
   "cell_type": "markdown",
   "id": "16fb768b-f8b6-414d-9d97-b46508ca83bf",
   "metadata": {},
   "source": [
    "데이터는 정형 데이터와 비정형 데이터로 나눌 수 있습니다.  \n",
    "\n",
    "앞서 2단원에서 배운 정형 데이터는 각 속성(특징)들이 숫자나, 문자로 표현되어 비교하기 쉽습니다.  \n",
    "이와 다르게 속성(특징)을 쉽게 정의할 수 없는 데이터를 비정형 데이터로 분류합니다.  \n",
    "\n",
    "> **정형 데이터**: 데이터를 공통된 속성(특징)에 대한 값으로 저장한 형태로, 주로 2차원 표로 표현할 수 있다.   \n",
    "> **비정형 데이터**: 데이터의 속성(특징)을 바로 알 수 없다. \n",
    "\n",
    "\n",
    "예를 들어 고양이와 개를 구분할 때 사용할 수 있는 데이터를 생각해 봅시다.\n",
    "\n",
    "1. 골격 길이 측정 데이터\n",
    "2. 생김새를 찍은 사진\n",
    "3. 울음 소리\n",
    "4. 생김새를 묘사한 문장\n",
    "(png로 추가)\n",
    "\n",
    "이 중 <골격 길이 측정 데이터>는 각 골격의 종류 별로 측정된 길이를 저장한 것으로 정형 데이터로 분류할 수 있습니다.  \n",
    "숫자로 이루어져 있어 컴퓨터에 쉽게 입력하고 비교할 수 있습니다.  \n",
    "\n",
    "나머지 데이터는 어떤가요?  \n",
    "<생김새를 찍은 사진>, <울음 소리>, <생김새를 묘사한 문장>을 컴퓨터는 어떻게 분석할 수 있을까요?  \n",
    "여러분에게는 눈과 귀 그리고 고도화된 뇌가 있어 쉽게 구분할 수 있을 것입니다.  \n",
    "하지만 컴퓨터는 사진, 소리, 문장을 인식할 수 없기 때문에 이 문제를 먼저 풀어야 합니다.  \n",
    "\n",
    "\n"
   ]
  },
  {
   "cell_type": "markdown",
   "id": "e363a44d-b067-4982-91e7-a4483178761b",
   "metadata": {},
   "source": [
    "### **(2) 디지털화(digitizing)란?**"
   ]
  },
  {
   "cell_type": "markdown",
   "id": "9b12c046-6eaa-4063-9a4b-8bd46d2f0fd9",
   "metadata": {},
   "source": [
    "> **디지털화**: 비정형 데이터를 컴퓨터가 이해할 수 있는 방식으로 변환하는 전처리 방법\n",
    "\n",
    "컴퓨터는 모든 데이터를 숫자로만 인식할 수 있습니다.  \n",
    "때문에 디지털화라는 것은 **데이터를 숫자로 표현하는 것**과 같습니다.\n",
    "\n",
    "여러 비정형 데이터의 요소를 분석해 봅시다.\n",
    "\n",
    "> * **빛**은 파동의 특징을 가지므로 파장, 진폭 등의 물리량으로 표현할 수 있다.\n",
    "> * **소리**는 공기로 전달되는 파동이므로 파형으로 표현할 수 있다.    \n",
    "> * **문장**은 의미를 가진 문자가 연결된 것이므로 의미를 가진 가장 작은 말의 단위(형태소)로 나누어 표현할 수 있다.\n",
    "\n",
    "빛과 소리는 물리적인 특성을 측정하고 숫자로 바꾸어 디지털화할 수 있습니다.  \n",
    "사람의 언어는 의미를 가진 말의 단위에 번호를 매기면, 문장을 나열된 숫자들로 바꾸어 디지털화할 수 있습니다.\n",
    "\n"
   ]
  },
  {
   "cell_type": "markdown",
   "id": "bcfee16b-fddf-4686-8579-6d5b0d6cf81d",
   "metadata": {
    "tags": []
   },
   "source": [
    "##  **2. 빛을 디지털화하여 활용하기**\n"
   ]
  },
  {
   "cell_type": "markdown",
   "id": "9729f633-8c6d-4f13-a317-22ca8188b319",
   "metadata": {},
   "source": [
    "### **(1) 빛 데이터로 무엇을 할 수 있을까?**  "
   ]
  },
  {
   "cell_type": "markdown",
   "id": "9b4d099a-ccc1-4564-b18f-dd11af6d7e71",
   "metadata": {},
   "source": [
    "<table>\n",
    "<tr>\n",
    "    <th><img src=\"https://homoscience.kr/wp-content/uploads/2019/07/fhgndfrt.png\" width=\\\"750\\\"></th>\n",
    "    </tr>\n",
    "<tr>\n",
    "    <th>빛의 스펙트럼</th>\n",
    "</tr>\n",
    "</table>\n",
    "\n",
    "\n",
    "\n",
    "가시광선 : 물체 인식 & 분류  \n",
    "X선: 질병 진단  \n",
    "적외선(온도) : 야간 주변 상황 인지  \n",
    "적외선(거리) : 3D map 을 만들어 주변 공간 이해"
   ]
  },
  {
   "cell_type": "markdown",
   "id": "739b8102-53a6-4218-87bb-72e8ab6d677b",
   "metadata": {},
   "source": [
    "### **(2) 빛 데이터 수집하기**  "
   ]
  },
  {
   "cell_type": "markdown",
   "id": "2190ef35-8109-47ae-a93b-c05591c62e8c",
   "metadata": {},
   "source": [
    "### **(3) 빛 데이터 컴퓨터에서 표현하기**"
   ]
  },
  {
   "cell_type": "markdown",
   "id": "134ef625-dbc3-40a8-ad72-1d66286a2b0c",
   "metadata": {},
   "source": [
    "2, 3차원 행렬 > 이미지"
   ]
  },
  {
   "cell_type": "markdown",
   "id": "e745dc56-2740-42b6-9f11-2770462814b9",
   "metadata": {
    "tags": []
   },
   "source": [
    "##  **3. 소리를 디지털화하여 활용하기**\n"
   ]
  },
  {
   "cell_type": "markdown",
   "id": "00d9c031-26e1-4f76-94dc-99ee75fd94f2",
   "metadata": {},
   "source": [
    "### **(1) 소리 데이터로 무엇을 할 수 있을까?**  "
   ]
  },
  {
   "cell_type": "markdown",
   "id": "d716979d-86cf-446e-a259-7522df648bab",
   "metadata": {},
   "source": [
    "소리 데이터를 디지털화하면 저장하고 복사하여 배포할 수 있습니다.  \n",
    "그것이 오늘날 음반 산업이 발전하게 된 바탕입니다. \n",
    "\n",
    "인공지능이 소리 데이터를 이용한다면 그 이상의 멋진 일을 할 수 있을 것입니다.  \n",
    "\n",
    "그림으로!\n",
    "\n",
    "울음소리로 감정을 예측  \n",
    "주변 소리로 상황 예측   \n",
    "\n",
    "음성을 텍스트로 변환  \n",
    "남성의 목소리를 여성의 목소리로 변환  "
   ]
  },
  {
   "cell_type": "markdown",
   "id": "034ae072-ca3f-45c1-8a75-26d2fdedd1f3",
   "metadata": {},
   "source": [
    "**[문제1] 소리 데이터를 분석해 예측하고 싶은 것을 떠올려 봅시다.**"
   ]
  },
  {
   "cell_type": "raw",
   "id": "617855bd-578d-4b4d-b3d6-98c45585b5f5",
   "metadata": {},
   "source": [
    " 👉 "
   ]
  },
  {
   "cell_type": "markdown",
   "id": "e3c200f1-aaf7-4d56-a669-5d5ae4199d92",
   "metadata": {},
   "source": [
    "### **(2) 소리 데이터 수집하기**  "
   ]
  },
  {
   "cell_type": "markdown",
   "id": "990be39f-2c83-4fd7-8a3e-a7587ae1f636",
   "metadata": {},
   "source": [
    "### **(3) 소리 데이터 컴퓨터에서 표현하기**"
   ]
  },
  {
   "cell_type": "markdown",
   "id": "aed9665d-1c66-4046-8d1d-519406dfb0cc",
   "metadata": {},
   "source": [
    "오디오파일, 샘플링해서 간단히, 2차원 행렬 > 이미지"
   ]
  },
  {
   "cell_type": "markdown",
   "id": "51746b4f-44d7-48ea-a439-087f91289b54",
   "metadata": {
    "tags": []
   },
   "source": [
    "##  **4. 언어를 디지털화하여 활용하기**\n"
   ]
  },
  {
   "cell_type": "markdown",
   "id": "e794e35c-9765-4602-a932-f36d43658d9e",
   "metadata": {},
   "source": [
    "### **(1) 언어 데이터로 무엇을 할 수 있을까?**  "
   ]
  },
  {
   "cell_type": "markdown",
   "id": "f4668876-61e4-4e43-aba1-74711fefeded",
   "metadata": {},
   "source": [
    "언어 이해  \n",
    "번역  \n",
    "대화  \n",
    "요약 혹은 생성"
   ]
  },
  {
   "cell_type": "markdown",
   "id": "600da596-191e-4df1-86a6-9b9d38bc71af",
   "metadata": {},
   "source": [
    "### **(2) 언어 데이터 수집하기**"
   ]
  },
  {
   "cell_type": "markdown",
   "id": "59827e2e-1d2c-4f8c-9da1-b0267c691913",
   "metadata": {},
   "source": [
    "### **(3) 언어 데이터 컴퓨터에서 표현하기**"
   ]
  },
  {
   "cell_type": "markdown",
   "id": "739f7aa9-ad61-499d-abcf-256a84b9b5a4",
   "metadata": {},
   "source": [
    "토크나이징"
   ]
  },
  {
   "cell_type": "markdown",
   "id": "e610d26a-63d7-4022-89f3-b24cb6d107f7",
   "metadata": {
    "tags": []
   },
   "source": [
    "# 참고"
   ]
  },
  {
   "cell_type": "markdown",
   "id": "05172c4e-7b65-416b-ad2e-caee0eeceadf",
   "metadata": {
    "tags": []
   },
   "source": [
    "### **(1) 의사 결정 트리는 언제 사용하면 좋을까?**\n",
    "\n",
    "\n"
   ]
  },
  {
   "cell_type": "markdown",
   "id": "2ce73c6d-4a15-4207-9f33-c2413b325002",
   "metadata": {},
   "source": [
    "의사 결정 트리는 회귀와 분류 모두 사용될 수 있지만, 주로 분류를 위해 사용됩니다.  \n",
    "> **분류**: 데이터를 범주(category)에 따라 나누는 것\n",
    "\n",
    "정답 라벨이 포함된 학습 데이터를 이용해 의사 결정 트리를 지도학습할 수 있습니다.  \n",
    "학습 데이터를 잘 분류하는 방법을 찾으면 새로운 데이터도 잘 분류할 수 있을 겁니다.\n",
    "> **지도학습**: 데이터에 대한 명시적인 정답이 주어진 상태에서 학습하는 방식\n",
    "\n",
    "의사 결정 트리는 다음 두가지 장점을 가지고 있습니다.  \n",
    "> * 분류 과정이 직관적이고 **해석이 쉽다**.  \n",
    "> * 데이터 가공에 따른 영향이 적기 때문에 **전처리 과정이 간단하다**.\n",
    "\n",
    "따라서 의사 결정 트리는 데이터를 범주에 따라 분류해야하고,  \n",
    "각 데이터를 분류하는 기준을 정확히 알고 싶을 때 사용하면 좋습니다.  "
   ]
  },
  {
   "cell_type": "markdown",
   "id": "49067fc2-82ac-4d16-bcdc-9ca8f0df4551",
   "metadata": {},
   "source": [
    "**[문제1] 의사 결정 트리를 활용하기 좋은 문제 상황을 적어봅시다.**   \n",
    "\n",
    "(예시) 수익률이 높은 상품의 특성을 찾기 위해 상품의 여러 특징을 데이터로 하여 수익률을 상/중/하로 나누어 분류한다.  \n",
    "의사 결정 트리를 학습하고 나면 수익률을 결정하는 기준을 확인할 수 있기 때문에 상품 개발에 도움을 받을 수 있다. "
   ]
  },
  {
   "cell_type": "raw",
   "id": "7fee3d3a-b4da-456a-b4e3-307072cd0b0f",
   "metadata": {},
   "source": [
    "👉 "
   ]
  },
  {
   "cell_type": "markdown",
   "id": "1369a2bd-aa1b-48c4-a350-fe575c4aaa24",
   "metadata": {
    "tags": []
   },
   "source": [
    "### **(2) 의사 결정 트리의 요소**"
   ]
  },
  {
   "cell_type": "markdown",
   "id": "ff2d88d4-41a4-414f-8155-09d45ba99692",
   "metadata": {
    "jp-MarkdownHeadingCollapsed": true,
    "tags": []
   },
   "source": [
    "\n",
    "\n",
    "**의사 결정 트리는 '트리'라는 데이터 구조를 이루고 있습니다.**  \n",
    "🌳 트리는 나무를 뒤집어 높은 모양이라서 붙여진 이름입니다!\n",
    "\n",
    "다음 그림을 보고 트리 구조의 구성 요소를 확인해 봅시다.\n",
    " \n",
    "<table>\n",
    "<tr>\n",
    "    <th><img src=\"https://lh3.google.com/u/0/d/1RuWrwPeYFEZHV8p6oWC0R_Pc-sS9dyWG=w2560-h1374-iv3\" width=\\\"800\"></th>\n",
    "    </tr>\n",
    "<tr>\n",
    "    <th>트리 구조의 구성 요소</th>\n",
    "</tr>\n",
    "</table>\n",
    "\n",
    "> * 최상위 노드(root): 가장 상위의 시작 노드\n",
    "> * 간선(edge): 노드와 노드 사이를 연결하는 선\n",
    "> * 부모 노드 (parent node): 자식 노드의 상위 노드\n",
    "> * 자식 노드 (child node): 부모 노드로부터 분리된 하위 노드\n",
    "> * 단말 노드 (leaf node): 자식이 없는 마지막 노드\n",
    "> * 깊이 (depth): 최상위 노드부터 가장 하단의 단말 노드까지 층의 수"
   ]
  },
  {
   "cell_type": "markdown",
   "id": "e30ae126-9aca-4da0-ba81-87b9a4a05c93",
   "metadata": {
    "jp-MarkdownHeadingCollapsed": true,
    "tags": []
   },
   "source": [
    "**의사 결정 트리는 전체 데이터를 부모 노드의 조건에 따라 둘로 나누는 것을 반복하여 데이터를 분류합니다.**  \n",
    "> * 부모 노드의 조건에 해당하는 데이터는 왼쪽의 자식노드로 이동\n",
    "> * 부모 노드의 조건에 맞지 않는 데이터는 오른쪽의 자식노드로 이동\n",
    "> \n",
    "다음 그림을 보고 네 동물을 분류하는 의사 결정 트리의 분류 과정을 확인해 봅시다. \n",
    "<table>\n",
    "<tr>\n",
    "    <th><img src=\"https://lh3.google.com/u/0/d/1xCfpQxL_zLzB_rdwcbNsmYaoE3IMeCg5=w942-h904-iv2\" width=\\\"750\\\"></th>\n",
    "    </tr>\n",
    "<tr>\n",
    "    <th>의사 결정 트리(gif)</th>\n",
    "</tr>\n",
    "</table>\n",
    "\n"
   ]
  },
  {
   "cell_type": "markdown",
   "id": "ba6dd1c4-42df-415b-ad4c-17dd5f705ada",
   "metadata": {},
   "source": [
    "**[문제2] 문제1에서 생각한 문제 상황에 의사 결정 트리를 이용할 때 사용될 수 있는 노드의 분류 기준을 예상해 봅시다.**\n",
    "\n",
    "(예시) 상품의 겉 포장지에 연예인의 얼굴을 프린트하였다."
   ]
  },
  {
   "cell_type": "raw",
   "id": "3e069402-e2dd-4af4-8dad-1655762a2b93",
   "metadata": {},
   "source": [
    " 👉 "
   ]
  },
  {
   "cell_type": "raw",
   "id": "82fbb216-a4b1-4dd9-9c8d-50cd4024ed6f",
   "metadata": {},
   "source": [
    " 👉  "
   ]
  },
  {
   "cell_type": "markdown",
   "id": "f252d0c4-9153-4d87-bc3f-c1ad010bc09b",
   "metadata": {},
   "source": []
  }
 ],
 "metadata": {
  "kernelspec": {
   "display_name": "Python 3 (ipykernel)",
   "language": "python",
   "name": "python3"
  },
  "language_info": {
   "codemirror_mode": {
    "name": "ipython",
    "version": 3
   },
   "file_extension": ".py",
   "mimetype": "text/x-python",
   "name": "python",
   "nbconvert_exporter": "python",
   "pygments_lexer": "ipython3",
   "version": "3.10.11"
  },
  "toc-showcode": false,
  "toc-showmarkdowntxt": false
 },
 "nbformat": 4,
 "nbformat_minor": 5
}
