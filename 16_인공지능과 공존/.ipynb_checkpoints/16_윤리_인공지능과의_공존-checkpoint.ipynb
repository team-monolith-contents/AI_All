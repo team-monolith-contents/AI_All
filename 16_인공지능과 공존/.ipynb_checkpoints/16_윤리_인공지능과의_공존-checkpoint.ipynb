{
 "cells": [
  {
   "cell_type": "markdown",
   "id": "ce7d7128",
   "metadata": {},
   "source": [
    "# **[16] 인공지능과의 공존**\n",
    "\n",
    "**[학습 목표]**\n",
    "1. 인공지능 활용에서 소외되는 사회 구성원을 알고 우리가 앞으로 가져야하는 태도를 설명할 수 있다.\n",
    "2. 인간이 인공지능을 효율적으로 활용하며 조화롭게 살아가기 위하여 인간에게 필요한 역량을 탐색할 수 있다."
   ]
  },
  {
   "cell_type": "markdown",
   "id": "d907de7b",
   "metadata": {},
   "source": [
    "## **1.인공지능 사회에서 소외받는 사람들**  "
   ]
  },
  {
   "cell_type": "markdown",
   "id": "2510f0ed",
   "metadata": {},
   "source": [
    "기술의 발전은 우리 모두를 행복하게 만들까요? \n",
    "\n",
    "그렇지 않습니다.\n",
    "\n",
    "다음의 이야기를 통해 인공지능 사회에서 소외받는 사람들을 살펴봅시다.\n",
    "\n",
    "<table>\n",
    "<tr>\n",
    "    <th><img src=\"https://drive.google.com/uc?id=1_6j16XE7g2mS-_oY9iIellkoLVefsmjD\" width=\"750\"></th>\n",
    "    </tr>\n",
    "<tr>\n",
    "    <th>시각 장애인 웹 접근성 심각하다</th>\n",
    "</tr>\n",
    "</table>\n",
    "\n",
    "\\# 택시기사 직업 소멸 기사.PNG\n",
    "\n",
    "이렇게 부정적인 인공지능은 우리가 거부하고 멀리 해야할까요?"
   ]
  },
  {
   "cell_type": "markdown",
   "id": "f5ccb538",
   "metadata": {},
   "source": [
    "### (1) 러다이트 운동"
   ]
  },
  {
   "cell_type": "markdown",
   "id": "030bd516",
   "metadata": {},
   "source": [
    "> 18세기 초까지 영국의 섬유 산업은 숙련된 노동자가 제품을 생산하는 방식이었습니다.\n",
    ">\n",
    "> 그러나 섬유 직조 기계의 등장으로 인해 일정 수준 이상의 품질의 제품을 누구나 제작할 수 있게 되면서 섬유 노동자들의 임금과 가치가 급속도로 낮아지게 되었습니다.\n",
    ">\n",
    "> 이로인해 19세기 초반 영국에서 섬유 산업 노동자들이 섬유 직조 기계를 파괴하게 되는데, 이 사건을 **러다이트 운동** 이라고 합니다."
   ]
  },
  {
   "cell_type": "markdown",
   "id": "fc1cf972",
   "metadata": {},
   "source": [
    "### (2) 적기조례\n",
    "> 19세기 초, 영국에 실용화된 자동차가 등장하였습니다.\n",
    ">\n",
    "> 자동차의 등장으로 인해 타격을 입은 사람은 마차를 모는 마부들이었습니다.\n",
    ">\n",
    "> 이 마부들을 보호하기 위해 만든 법이 **적기조례**로 다음과 같은 내용을 포함하고 있습니다.\n",
    ">\n",
    "> - 차량의 중량은 14톤으로 제한한다.\n",
    ">\n",
    "> - 차량의 폭은 2.7미터로 제한한다.\n",
    ">\n",
    "> - 교외에서는 4 mph(6km/h), 시가지에서는 2mph(3km/h)의 속도 제한을 정한다.\n",
    ">\n",
    "> - 자동차는, 운전수, 기관원, 붉은 기를 가지고 차량의 60야드(55미터)전방을 걷는 사람의 3명으로 운용하는 것을 규정한다. 붉은 기인가 랜턴을 가진 사람은 걷는 속도를 지키고 기수나 말에게 자동차의 접근을 예고한다."
   ]
  },
  {
   "cell_type": "markdown",
   "id": "934f5981",
   "metadata": {},
   "source": [
    "위의 역사적인 상황 두 가지를 통해 인공지능 기술을 금지하는 것은 근본적인 해결책이 아니라는 것을 알 수 있습니다."
   ]
  },
  {
   "cell_type": "markdown",
   "id": "4d8b6ac6",
   "metadata": {},
   "source": [
    "**[문제1] 위 내용들을 바탕으로 인공지능 기술의 미래와 우리가 가져야할 태도를 적어보세요.** "
   ]
  },
  {
   "cell_type": "code",
   "execution_count": null,
   "id": "cc4aac89",
   "metadata": {},
   "outputs": [],
   "source": [
    " 👉 "
   ]
  },
  {
   "cell_type": "markdown",
   "id": "d745969c",
   "metadata": {},
   "source": [
    "## **2. 인공지능 사회에 필요한 역량**"
   ]
  },
  {
   "cell_type": "markdown",
   "id": "65e5fd0c",
   "metadata": {},
   "source": [
    "우리는 초, 중, 고등학교를 거쳐 다음과 같은 사람이 되고자 합니다.\n",
    "\n",
    "- 자기주도적인 사람\n",
    "- 창의적인 사람\n",
    "- 교양있는 사람\n",
    "- 더불어 사는 사람\n",
    "\n",
    "이러한 사람이 되기 위해 다음의 **핵심역량**을 기르죠.\n",
    "\n",
    "<table>\n",
    "<tr>\n",
    "    <th><img src=\"https://drive.google.com/uc?id=1tntPqi-1tqz8KssD9gwASy8E3vc8QTlD\" width=\"750\"></th>\n",
    "    </tr>\n",
    "<tr>\n",
    "    <th>교육과정 핵심역량 6가지</th>\n",
    "</tr>\n",
    "</table>"
   ]
  },
  {
   "cell_type": "markdown",
   "id": "17ec861c",
   "metadata": {},
   "source": [
    "**[문제2] ChatGPT는 위 6가지 핵심역량 중 어떤 역량을 인공지능 사회에 가장 필요한 역량이라고 생각할까요? ChatGPT에 질문해봅시다.** "
   ]
  },
  {
   "cell_type": "code",
   "execution_count": null,
   "id": "b997d017",
   "metadata": {},
   "outputs": [],
   "source": [
    " 👉 "
   ]
  },
  {
   "cell_type": "markdown",
   "id": "a30df9f0",
   "metadata": {},
   "source": [
    "<table>\n",
    "<tr>\n",
    "    <th><img src=\"https://drive.google.com/uc?id=1ZF3Jnl_15CLAkaB3KTjsRNhdPZEPgqW-\" width=\"750\"></th>\n",
    "    </tr>\n",
    "<tr>\n",
    "    <th>ChatGPT에 질문한 예시</th>\n",
    "</tr>\n",
    "</table>"
   ]
  },
  {
   "cell_type": "markdown",
   "id": "10c11533",
   "metadata": {},
   "source": [
    "**[문제3] ChatGPT에서 출력한 내용에 대한 내 생각을 적어보세요.**"
   ]
  },
  {
   "cell_type": "code",
   "execution_count": null,
   "id": "1a47da1d",
   "metadata": {},
   "outputs": [],
   "source": [
    " 👉 "
   ]
  }
 ],
 "metadata": {
  "kernelspec": {
   "display_name": "Python 3 (ipykernel)",
   "language": "python",
   "name": "python3"
  },
  "language_info": {
   "codemirror_mode": {
    "name": "ipython",
    "version": 3
   },
   "file_extension": ".py",
   "mimetype": "text/x-python",
   "name": "python",
   "nbconvert_exporter": "python",
   "pygments_lexer": "ipython3",
   "version": "3.11.2"
  }
 },
 "nbformat": 4,
 "nbformat_minor": 5
}
