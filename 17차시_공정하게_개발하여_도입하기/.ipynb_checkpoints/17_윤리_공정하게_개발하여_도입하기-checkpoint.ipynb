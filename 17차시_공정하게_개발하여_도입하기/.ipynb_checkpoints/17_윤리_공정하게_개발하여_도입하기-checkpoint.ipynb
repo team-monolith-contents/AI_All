{
 "cells": [
  {
   "cell_type": "markdown",
   "id": "a6b3cd78",
   "metadata": {},
   "source": [
    "# **[17] 공정하게 개발하여 도입하기**\n",
    "\n",
    "**[학습 목표]**\n",
    "1. 인공지능 도입으로 인한 사회적ㆍ문화적ㆍ윤리적 영향 등을 예측할 수 있다.\n",
    "2. 인공지능 윤리 가이드라인을 탐구하고 발전시킬 수 있다."
   ]
  },
  {
   "cell_type": "markdown",
   "id": "345bedbf",
   "metadata": {},
   "source": [
    "## **1. 인공지능 도입**  "
   ]
  },
  {
   "cell_type": "markdown",
   "id": "4c0665ee",
   "metadata": {},
   "source": [
    "지금까지 살펴본 바와 같이 인공지능은 우리와 멀리 떨어져 있지 않습니다.\n",
    "\n",
    "인공지능이 이미 다양한 분야에서 활용되고 있고, 우리에게 사회적, 문화적, 윤리적으로 영향을 미치고 있습니다. "
   ]
  },
  {
   "cell_type": "markdown",
   "id": "bb4a0836",
   "metadata": {},
   "source": [
    "### **(1) 사회적 영향**"
   ]
  },
  {
   "cell_type": "markdown",
   "id": "5a03960f",
   "metadata": {},
   "source": [
    "> 기술의 발전은 우리의 일자리를 크게 변화 시킵니다.\n",
    ">\n",
    "> * 버스 차장 \n",
    ">\n",
    ">> 우리에게 버스 안내양으로도 알려져 있는 버스 차장은 1920년도에 우리나라에 처음 등장한 직업으로 버스 이용 요금 징수, 하차지 안내, 출입문 열고 닫기 등의 역할을 했습니다. 1980년도에 버스 자동문과 버스벨이 등장하면서 사라지게 되었습니다.\n",
    ">\n",
    "> * 얼음 장수\n",
    ">\n",
    ">> 조선 후기 얼음 장수는 한겨울에 강가의 얼음이 얼면 얼음을 떼어낸 후 주변 창고에 얼음을 보관합니다. 그리고 날이 따뜻해지면 보관해둔 얼음을 필요한 사람들에게 배달했습니다. 1900년도에 냉장고가 등장하면서 사라지게 되었습니다.\n",
    ">\n",
    "> 인공지능의 도입은 또다시 우리의 일자리에 큰 변화를 불러올 것입니다.\n",
    ">\n",
    "> \\#버스 차장, 얼음 장수.PNG"
   ]
  },
  {
   "cell_type": "markdown",
   "id": "dd14a5a2",
   "metadata": {},
   "source": [
    "**[문제1] 현재의 직업 중 인공지능의 등장으로 인해 사라질 직업과 그렇게 생각한 이유를 적어보세요.** "
   ]
  },
  {
   "cell_type": "code",
   "execution_count": null,
   "id": "27cb940f",
   "metadata": {},
   "outputs": [],
   "source": [
    " 👉  "
   ]
  },
  {
   "cell_type": "markdown",
   "id": "bee9ab40",
   "metadata": {},
   "source": [
    "### **(2) 문화적 영향**"
   ]
  },
  {
   "cell_type": "markdown",
   "id": "7e6aee4d",
   "metadata": {},
   "source": [
    "> 우리는 다른 나라의 언어를 모르더라도 소통할 수 있는 세상에 살고 있습니다.\n",
    ">\n",
    "> * 인공지능 번역기\n",
    ">\n",
    ">> 구글 번역은 100개가 넘는 언어를 번역할 수 있으며, 하루 수억 건이 넘는 번역을 처리하고 있다고 합니다.\n",
    ">>\n",
    ">> 파파고는 15개의 언어를 번역할 수 있으며. 촬영된 이미지 속 글자를 번역할 수 있습니다.\n",
    ">\n",
    "> 이어폰을 착용하면 상대방의 말을 착용자의 언어로 번역도 이미 가능하다고 합니다.\n",
    ">\n",
    "> \\#이어폰을 끼고 서로 자신의 언어로 이야기하는 사람들.PNG"
   ]
  },
  {
   "cell_type": "markdown",
   "id": "b084672a",
   "metadata": {},
   "source": [
    "**[문제2] 인공지능 번역기를 활용했을 때의 장점과 단점을 한가지씩 적어보세요** "
   ]
  },
  {
   "cell_type": "code",
   "execution_count": null,
   "id": "8ed948d2",
   "metadata": {},
   "outputs": [],
   "source": [
    " 👉 장점:\n",
    " 👉 단점:"
   ]
  },
  {
   "cell_type": "markdown",
   "id": "43a434b8",
   "metadata": {},
   "source": [
    "### **(3) 윤리적 영향**"
   ]
  },
  {
   "cell_type": "markdown",
   "id": "6c46f60d",
   "metadata": {},
   "source": [
    "> 인공지능이 윤리적으로 문제가 되었던 적이 있습니다.\n",
    "> * 친구 얼굴을 고릴라로 인식한 구글\n",
    ">> 2015년 미국에 사는 흑인 남성 재키 앨신(Jacky Alcine)은 흑인 친구와 함께 찍은 사진을 분류한 '구글 포토'를 보고 화를 참을 수 없었다. 구글 포토의 인공지능이 그와 친구가 함께 나온 사진을 'Gorillas'라고 태그를 단 것이다. 구글은 이 사태에 대해 재빠르게 사과하고 수정을 했는데, 수정 방법은 인공지능 알고리즘에서 '고릴라', '침팬지', '원숭이'를 삭제하는 일시적인 방법이었다.\n",
    ">\n",
    "> * AI 준 학점, 가난한 학생을 차별했다\n",
    ">> 2020년 영국의 고교 졸업반 30여만명은 졸업시험에 해당되는 '에이(A)-레벨 시험'을 치르지 못했다. 영국 정부 당국은 '직접센터학업모델'이라는 알고리즘을 이용해 학생들에게 학점을 부여했다. 영국 정부는 \"기존 데이터에 근거해 학생들에게 적합한 학점을 부여한다\"고 자신했다. 위 알고리즘은 사립학교 학생들에게는 높은 점수를, 공립학교 학생들에게는 낮은 점수를 부여했다.\n",
    ">>\n",
    ">> (출처 : 한겨레, AI가 준 학점, 가난한 학생을 차별했다, 2020.08.24.)\n",
    "> \n",
    "\\# 흑인 두명의 얼굴에 고릴라라는 태그가 달린 모습 + 공립학교 Low Score, 사립학교 High Score.PNG"
   ]
  },
  {
   "cell_type": "markdown",
   "id": "917b7c7e",
   "metadata": {},
   "source": [
    "**[문제3] 위 내용을 바탕으로 '인공지능은 공명정대하고 편향성이 없다'는 말을 반박해보세요.** "
   ]
  },
  {
   "cell_type": "code",
   "execution_count": null,
   "id": "d48064bd",
   "metadata": {},
   "outputs": [],
   "source": [
    " 👉 "
   ]
  },
  {
   "cell_type": "markdown",
   "id": "9f162d4e",
   "metadata": {},
   "source": [
    "## **2. 인공지능  윤리 가이드라인**  "
   ]
  },
  {
   "cell_type": "markdown",
   "id": "e6b80e0b",
   "metadata": {},
   "source": [
    "인공지능의 사회적ㆍ문화적ㆍ윤리적 영향이 높아짐에 따라 인공지능의 사용과 개발, 도입 전 과정에 윤리가 필요해졌습니다.\n",
    "\n",
    "이에 관한 국제적 논의는 활발하게 일어나고 있으며, 국내에서도 2020년 '국가 인공지능 윤리 기준(대통령 직속 4차 산업혁명위원회, 과기정통부)'을 제정하는 등 발 빠르게 대응하고 있습니다."
   ]
  },
  {
   "cell_type": "markdown",
   "id": "f15938ac",
   "metadata": {},
   "source": [
    "### **(1) 국가 인공지능 윤리 기준**"
   ]
  },
  {
   "cell_type": "markdown",
   "id": "da61e2bf",
   "metadata": {},
   "source": [
    "> 국가 인공지능 윤리 기준은 3대 기본 원칙과 10대 핵심 요건으로 이루어져 있습니다.\n",
    ">\n",
    "> 과학기술정보통신부(https://www.msit.go.kr/bbs/view.do?sCode=user&mPid=112&mId=113&bbsSeqNo=94&nttSeqNo=3179742) 의 보도 자료를 살펴보고, 3대 기본원칙과 10대 핵심 요건을 알아봅시다."
   ]
  },
  {
   "cell_type": "markdown",
   "id": "5569d6a7",
   "metadata": {},
   "source": [
    "**[문제4] 국가 인공지능 윤리 기준의 3대 기본원칙을 적어보세요.** "
   ]
  },
  {
   "cell_type": "code",
   "execution_count": null,
   "id": "ab352c87",
   "metadata": {},
   "outputs": [],
   "source": [
    " 👉 "
   ]
  },
  {
   "cell_type": "markdown",
   "id": "02f3ddd7",
   "metadata": {},
   "source": [
    "### (2) 기업 AI 윤리"
   ]
  },
  {
   "cell_type": "markdown",
   "id": "3d367c1c",
   "metadata": {},
   "source": [
    "> 정부 뿐 아니라 기업 또한 AI 윤리 규범 및 준칙을 만들고 적용하고 있습니다.\n",
    ">\n",
    "> * 카카오 AI 윤리(https://www.kakaocorp.com/page/responsible/detail/algorithm)\n",
    ">\n",
    "> * 네이버 AI 윤리 준칙(https://www.navercorp.com/value/aiCodeEthics)"
   ]
  },
  {
   "cell_type": "markdown",
   "id": "a1d3a9de",
   "metadata": {},
   "source": [
    "**[문제5] 정부, 기업의 인공지능 윤리 가이드라인에서 더욱 강조해야하는 부분 혹은 새롭게 추가해야하는 부분을 적어보세요.** "
   ]
  },
  {
   "cell_type": "code",
   "execution_count": null,
   "id": "57bf258d",
   "metadata": {},
   "outputs": [],
   "source": [
    " 👉 "
   ]
  }
 ],
 "metadata": {
  "kernelspec": {
   "display_name": "Python 3 (ipykernel)",
   "language": "python",
   "name": "python3"
  },
  "language_info": {
   "codemirror_mode": {
    "name": "ipython",
    "version": 3
   },
   "file_extension": ".py",
   "mimetype": "text/x-python",
   "name": "python",
   "nbconvert_exporter": "python",
   "pygments_lexer": "ipython3",
   "version": "3.11.2"
  }
 },
 "nbformat": 4,
 "nbformat_minor": 5
}
