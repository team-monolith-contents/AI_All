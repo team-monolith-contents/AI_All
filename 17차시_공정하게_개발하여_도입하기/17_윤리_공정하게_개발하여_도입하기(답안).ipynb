{
 "cells": [
  {
   "cell_type": "markdown",
   "id": "a6b3cd78",
   "metadata": {},
   "source": [
    "# **[17] 공정하게 개발하여 도입하기**\n",
    "\n",
    "**[학습 목표]**\n",
    "1. 인공지능 개발자가 고려해야할 사항을 설명할 수 있다.\n",
    "2. 인공지능 윤리 가이드라인을 탐구하고 발전시킬 수 있다. "
   ]
  },
  {
   "cell_type": "markdown",
   "id": "345bedbf",
   "metadata": {},
   "source": [
    "## **1. 인공지능 개발자가 고려해야할 사항**  "
   ]
  },
  {
   "cell_type": "markdown",
   "id": "eb744f66",
   "metadata": {},
   "source": [
    "`Code.org`에서 만든 `AI For Ocean`은 지도학습을 통해 인공지능이 쓰레기와 물고기를 분류하고 바다 속 쓰레기를 청소하여 바다를 깨끗하게 만들고자 합니다.\n",
    "\n",
    "지도학습이기 때문에 기존의 데이터에 인간이 라벨(정답)을 붙이게 됩니다.\n",
    "\n",
    "<table>\n",
    "<tr>\n",
    "    <th><img src=\"https://tmn-bucket-materials-all.s3.ap-northeast-2.amazonaws.com/image/ai/AI-17-01.gif\" width=\"750\"></th>\n",
    "    </tr>\n",
    "<tr>\n",
    "    <th>선한 의도로 학습</th>\n",
    "</tr>\n",
    "</table>\n",
    "\n",
    "그런데, 이 인공지능을 인간이 나쁜 의도를 가지고 학습시키면 어떻게 될까요?\n",
    "\n",
    "라벨을 붙일 때 물고기는 쓰레기로, 쓰레기는 물고기로 학습시키는거죠.\n",
    "\n",
    "<table>\n",
    "<tr>\n",
    "    <th><img src=\"https://tmn-bucket-materials-all.s3.ap-northeast-2.amazonaws.com/image/ai/AI-17-02.gif\" width=\"750\"></th>\n",
    "    </tr>\n",
    "<tr>\n",
    "    <th>나쁜 의도로 학습</th>\n",
    "</tr>\n",
    "</table>\n",
    "\n",
    "아래의 링크에 들어가 인공지능을 학습시키며, 인공지능 시대에서의 인간의 역할은 무엇인지 생각해보세요.\n",
    "\n",
    "<a href=https://studio.code.org/s/oceans/lessons/1/levels/1>링크_AI For Ocean</a>\n",
    "\n",
    "- 이때, 화면의 왼쪽 아래를 눌러 \"한국어\"로 언어 설정을 바꿔주세요.\n",
    "\n",
    "- 영상은 자막을 누르면 한국어로 볼 수 있습니다."
   ]
  },
  {
   "cell_type": "markdown",
   "id": "8765d053",
   "metadata": {},
   "source": [
    "**[문제1] AI For Ocean을 통해 알 수 있는, 인공지능 시대에서의 인간의 역할은 무엇인지 적어보세요.** "
   ]
  },
  {
   "cell_type": "code",
   "execution_count": null,
   "id": "d9295043",
   "metadata": {},
   "outputs": [],
   "source": [
    " #(예시 답안)\n",
    " 👉 인공지능이 윤리적으로 사용될 수 있도록 노력하며, 데이터 편향이 발생하지 않도록 데이터를 선정하는 역할이 필요하다 등"
   ]
  },
  {
   "cell_type": "markdown",
   "id": "6c46f60d",
   "metadata": {},
   "source": [
    "AI For Ocean에서 살펴본 바와 같이 인공지능을 학습 시킬 때 **데이터 선정이 중요하다**는 것을 알 수 있었습니다.\n",
    "\n",
    "아래의 두 뉴스는 **데이터 선정**으로 인해 발생하였습니다.\n",
    "\n",
    "* 친구 얼굴을 고릴라로 인식한 구글\n",
    "> 2015년 미국에 사는 흑인 남성 재키 앨신(Jacky Alcine)은 흑인 친구와 함께 찍은 사진을 분류한 '구글 포토'를 보고 화를 참을 수 없었다. 구글 포토의 인공지능이 그와 친구가 함께 나온 사진을 'Gorillas'라고 태그를 단 것이다. 구글은 이 사태에 대해 재빠르게 사과하고 수정을 했는데, 수정 방법은 인공지능 알고리즘에서 '고릴라', '침팬지', '원숭이'를 삭제하는 일시적인 방법이었다.\n",
    "\n",
    "* AI 준 학점, 가난한 학생을 차별했다\n",
    "> 2020년 영국의 고교 졸업반 30여만명은 졸업시험에 해당되는 '에이(A)-레벨 시험'을 치르지 못했다. 영국 정부 당국은 '직접센터학업모델'이라는 알고리즘을 이용해 학생들에게 학점을 부여했다. 영국 정부는 \"기존 데이터에 근거해 학생들에게 적합한 학점을 부여한다\"고 자신했다. 위 알고리즘은 사립학교 학생들에게는 높은 점수를, 공립학교 학생들에게는 낮은 점수를 부여했다.\n",
    ">\n",
    "> (출처 : 한겨레, AI가 준 학점, 가난한 학생을 차별했다, 2020.08.24.)\n",
    "> \n",
    "<table>\n",
    "<tr>\n",
    "    <th><img src=\"https://tmn-bucket-materials-all.s3.ap-northeast-2.amazonaws.com/image/ai/AI-17-03.png\" width=\"750\"></th>\n",
    "    </tr>\n",
    "<tr>\n",
    "    <th>데이터 선정으로 인한 문제</th>\n",
    "</tr>\n",
    "</table>"
   ]
  },
  {
   "cell_type": "markdown",
   "id": "917b7c7e",
   "metadata": {},
   "source": [
    "**[문제2] 위 내용을 바탕으로 '인공지능은 공명정대하고 편향성이 없다'는 말을 반박해보세요.** \n",
    "\n",
    "*편항성 : 한쪽으로 치우친 성질(출처: 표준국어대사전)"
   ]
  },
  {
   "cell_type": "code",
   "execution_count": null,
   "id": "d48064bd",
   "metadata": {},
   "outputs": [],
   "source": [
    " #(예시 답안)\n",
    " 👉 인공지능은 데이터를 바탕으로 작동합니다. 따라서 학습하는 데이터에 인간의 편향이 들어가 있다면, 인공지능 또한\n",
    "편향성이 발생할 수 있습니다 등"
   ]
  },
  {
   "cell_type": "markdown",
   "id": "9f162d4e",
   "metadata": {},
   "source": [
    "## **2. 인공지능  윤리 가이드라인**  "
   ]
  },
  {
   "cell_type": "markdown",
   "id": "e6b80e0b",
   "metadata": {},
   "source": [
    "**인간의 의도**, **데이터 선정**등 인공지능의 사용과 개발, 도입 전 과정에 인간은 여전히 큰 부분을 차지하고 있습니다.\n",
    "\n",
    "인공지능의 사회적ㆍ문화적ㆍ윤리적 영향이 높아짐에 따라 인공지능의 사용과 개발, 도입 전 과정에 윤리가 필요해졌습니다.\n",
    "\n",
    "이에 관한 국제적 논의는 활발하게 일어나고 있으며, 국내에서도 2020년 '국가 인공지능 윤리 기준(대통령 직속 4차 산업혁명위원회, 과기정통부)'을 제정하는 등 발 빠르게 대응하고 있습니다."
   ]
  },
  {
   "cell_type": "markdown",
   "id": "f15938ac",
   "metadata": {},
   "source": [
    "### **(1) 국가 인공지능 윤리 기준**"
   ]
  },
  {
   "cell_type": "markdown",
   "id": "da61e2bf",
   "metadata": {},
   "source": [
    "위 윤리기준은 ‘사람중심의 인공지능’ 구현을 위해 지향되어야 할 최고 가치로 **‘인간성(Humanity)’**을 설정하고 있습니다.\n",
    "\n",
    "이는 다음과 같은 의미를 가집니다.\n",
    "\n",
    "모든 인공지능은 ‘인간성을 위한 인공지능(AI for Humanity)’을 지향하고, 인간에게 유용할 뿐만 아니라 나아가 인간 고유의 성품을 훼손하지 않고 보존하고 함양하도록 개발되고 활용되어야 합니다. \n",
    "\n",
    "또한 인공지능은 인간의 정신과 신체에 해롭지 않도록 개발되고 활용되어야하며, 개인의 윤택한 삶과 행복에 이바지하며 사회를 긍정적으로 변화하도록 이끄는 방향으로 발전되어야 합니다. \n",
    "\n",
    "나아가 인공지능은 사회적 불평등 해소에 기여하고 주어진 목적에 맞게 활용되어야 하며, 목적의 달성 과정 또한 윤리적이어야 하고, 궁극적으로 인간의 삶의 질 및 사회적 안녕과 공익 증진에 기여 하도록 개발되고 활용되어야 합니다.\n",
    "\n",
    "위 윤리 기준은 아래의 그림과 같이 3대 기본 원칙과 10대 핵심 요건으로 이루어져 있습니다.\n",
    "\n",
    "<table>\n",
    "<tr>\n",
    "    <th><img src=\"https://tmn-bucket-materials-all.s3.ap-northeast-2.amazonaws.com/image/ai/AI-17-04.png\" width=\"750\"></th>\n",
    "    </tr>\n",
    "<tr>\n",
    "    <th>3대 기본원칙과 10대 핵심 요건</th>\n",
    "</tr>\n",
    "</table>\n",
    "\n",
    "아래의 링크를 통해 자세한 내용을 살펴볼 수 있습니다.\n",
    "\n",
    "<a href=\"https://www.msit.go.kr/bbs/view.do?sCode=user&mPid=112&mId=113&bbsSeqNo=94&nttSeqNo=3179742\">링크_과기정통부, 「인공지능(AI) 윤리기준」</a>\n",
    "    \n",
    "    "
   ]
  },
  {
   "cell_type": "markdown",
   "id": "5569d6a7",
   "metadata": {},
   "source": [
    "**[문제3] 위 \"국가 인공지능 윤리 기준\"은 누가 지켜야하는 것인지 적어보세요.**"
   ]
  },
  {
   "cell_type": "code",
   "execution_count": null,
   "id": "ab352c87",
   "metadata": {},
   "outputs": [],
   "source": [
    " #(예시 답안)\n",
    " 👉 인공지능 시대를 살아가는 우리 모두가 지켜야 합니다. 컨슈머라는 말과 같이 인공지능을 사용하는 우리 또한 인공지능을\n",
    "제작할 수 있기 때문입니다 등"
   ]
  },
  {
   "cell_type": "markdown",
   "id": "02f3ddd7",
   "metadata": {},
   "source": [
    "### (2) 기업 AI 윤리"
   ]
  },
  {
   "cell_type": "markdown",
   "id": "3d367c1c",
   "metadata": {},
   "source": [
    "정부 뿐 아니라 기업 또한 AI 윤리 규범 및 준칙을 만들고 적용하고 있습니다.\n",
    "\n",
    "<table>\n",
    "<tr>\n",
    "    <th><img src=\"https://tmn-bucket-materials-all.s3.ap-northeast-2.amazonaws.com/image/ai/AI-17-05.png\" width=\"750\"></th>\n",
    "    </tr>\n",
    "<tr>\n",
    "    <th>카카오 AI윤리</th>\n",
    "</tr>\n",
    "</table>\n",
    "\n",
    "<a href=\"https://www.kakaocorp.com/page/responsible/detail/algorithm\">링크_카카오 AI 윤리</a>\n",
    "\n",
    "<table>\n",
    "<tr>\n",
    "    <th><img src=\"https://tmn-bucket-materials-all.s3.ap-northeast-2.amazonaws.com/image/ai/AI-17-06.png\" width=\"750\"></th>\n",
    "    </tr>\n",
    "<tr>\n",
    "    <th>네이버 AI 윤리 준칙</th>\n",
    "</tr>\n",
    "</table>\n",
    "\n",
    "<a href=\"https://www.navercorp.com/value/aiCodeEthics\">링크_네이버 AI 윤리 준칙</a>\n",
    "\n",
    "두 기업의 공통점은 다음과 같습니다.\n",
    "\n",
    "* 인간 및 인류를 위한 인공지능 개발\n",
    "\n",
    "* 차별 방지\n",
    "\n",
    "* 알고리즘에 대한 설명\n",
    "\n",
    "* 사용자의 안전 및 보호\n",
    "\n",
    "* 개인정보 보호"
   ]
  },
  {
   "cell_type": "markdown",
   "id": "a1d3a9de",
   "metadata": {},
   "source": [
    "**[문제4] 카카오와 네이버 중 개인적으로 마음에 드는 AI 윤리를 선택하고, 두 기업의 AI 윤리의 차이점을 위주로 선택 이유를 적어보세요**"
   ]
  },
  {
   "cell_type": "code",
   "execution_count": null,
   "id": "57bf258d",
   "metadata": {},
   "outputs": [],
   "source": [
    " #(예시 답안)\n",
    " #카카오를 선택한 경우\n",
    " 👉 카카오입니다. 네이버와 달리, 카카오는 자기 스스로 윤리적, 비판적 사고력을 발휘하는데 어려울 수 있는 아동과 청소년에\n",
    "    대한 보호를 강조하고 있기 때문입니다 등\n",
    "#네이버를 선택한 경우\n",
    " 👉 네이버입니다. 카카오와 달리 네이버는 5개의 윤리 준칙을 말하고 있습니다. 규칙이 많으면 많을 수록 자유와 창의성 발휘에\n",
    "    제약이 생길 수 있기 때문입니다 등"
   ]
  }
 ],
 "metadata": {
  "kernelspec": {
   "display_name": "Python 3 (ipykernel)",
   "language": "python",
   "name": "python3"
  },
  "language_info": {
   "codemirror_mode": {
    "name": "ipython",
    "version": 3
   },
   "file_extension": ".py",
   "mimetype": "text/x-python",
   "name": "python",
   "nbconvert_exporter": "python",
   "pygments_lexer": "ipython3",
   "version": "3.11.2"
  }
 },
 "nbformat": 4,
 "nbformat_minor": 5
}
