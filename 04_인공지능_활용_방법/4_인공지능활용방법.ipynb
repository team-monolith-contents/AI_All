{
 "cells": [
  {
   "cell_type": "markdown",
   "id": "1dc69d2d-23f3-4475-947d-76813d79ad8c",
   "metadata": {
    "tags": []
   },
   "source": [
    "# **[4] 인공지능 활용 방법**\n",
    "\n",
    "**[학습 목표]**\n",
    "1. 인공지능(기계학습)을 활용 목적에 따라 분류할 수 있다.   \n",
    "2. 인공지능 활용 방법의 순서를 이해할 수 있다.\n",
    "\n",
    "- 사이클의 각 단계를 예시와 함께 따라가 하나의 프로젝트를 같이 해보는 형태로 이루어짐\n",
    "- 모델학습 단계에서는 여러가지 모델에 따라 정확도가 다르게 나타나는 것을 보여줌\n",
    "    - 따로 설명하지는 않아도 됩니다.\n",
    "    - 모델 학습/ 모델 평가 설명할 때에 녹여내는 걸로\n",
    "    \n",
    "    \n",
    "진행하면서 앞으로 배울 단원 안내하기\n",
    "    \n",
    "   \n",
    "\n",
    "    \n"
   ]
  },
  {
   "cell_type": "markdown",
   "id": "16d4a334-6cfa-4e23-8618-449c95a90d85",
   "metadata": {
    "tags": []
   },
   "source": [
    "##  **1. 인공지능(기계학습) 활용 목적에 따라 분류하기**\n"
   ]
  },
  {
   "cell_type": "markdown",
   "id": "9a9e51d4-19ea-4f95-acdf-e36a5c478146",
   "metadata": {},
   "source": [
    "### **(1) 회귀/분류를 위한 지도학습**"
   ]
  },
  {
   "cell_type": "markdown",
   "id": "3fe78888-d8cf-4cb4-935a-c734b745e460",
   "metadata": {},
   "source": [
    "### **(2) 그룹화를 위한 비지도학습**"
   ]
  },
  {
   "cell_type": "markdown",
   "id": "dfd9710e-2611-4310-b4cc-2ac01fc6bc47",
   "metadata": {},
   "source": [
    "### **(3) 더 좋은 선택을 위한 강화학습**"
   ]
  },
  {
   "cell_type": "markdown",
   "id": "0bcb45c4-fd45-4e85-ac65-a19798945ea6",
   "metadata": {
    "tags": []
   },
   "source": [
    "##  **2. 인공지능 활용 방법의 순서 이해하기**\n",
    "\n",
    "\n"
   ]
  },
  {
   "cell_type": "markdown",
   "id": "133c4bdc-3efb-4b91-bacd-5ec1a1c5f0a2",
   "metadata": {},
   "source": [
    "### **(5) 인공지능 활용 방법의 사이클**\n",
    "\n",
    "\n",
    "문제 정의 → 데이터 수집 및 전처리 → 데이터 분석 → 모델 학습 → 모델 평가 → 모델 활용"
   ]
  },
  {
   "cell_type": "markdown",
   "id": "2e2234d5-4f66-455c-ba38-2c19652a1e02",
   "metadata": {},
   "source": [
    "### **(1) 문제 정의와 데이터 수집**"
   ]
  },
  {
   "cell_type": "markdown",
   "id": "418c3019-b360-4307-90b5-711a5c75e02e",
   "metadata": {},
   "source": [
    "### **(2) 데이터 처리와 분석**"
   ]
  },
  {
   "cell_type": "markdown",
   "id": "ff93927c-d250-4021-beb5-c81c43363e49",
   "metadata": {},
   "source": [
    "### **(3) 인공지능 모델 학습과 평가**"
   ]
  },
  {
   "cell_type": "markdown",
   "id": "6da051b1-1a99-453a-9263-2ac6c4109e7a",
   "metadata": {},
   "source": [
    "### **(4) 인공지능 모델의 적용**"
   ]
  },
  {
   "cell_type": "markdown",
   "id": "a07a72ab-b8e5-4926-bc3d-16d0749b9510",
   "metadata": {
    "tags": []
   },
   "source": [
    "##  **1. 의사 결정 트리 (decisoin tree) 이해하기**\n"
   ]
  },
  {
   "cell_type": "markdown",
   "id": "05172c4e-7b65-416b-ad2e-caee0eeceadf",
   "metadata": {
    "tags": []
   },
   "source": [
    "### **(1) 의사 결정 트리는 언제 사용하면 좋을까?**\n",
    "\n",
    "\n"
   ]
  },
  {
   "cell_type": "markdown",
   "id": "2ce73c6d-4a15-4207-9f33-c2413b325002",
   "metadata": {},
   "source": [
    "의사 결정 트리는 회귀와 분류 모두 사용될 수 있지만, 주로 분류를 위해 사용됩니다.  \n",
    "> **분류**: 데이터를 범주(category)에 따라 나누는 것\n",
    "\n",
    "정답 라벨이 포함된 학습 데이터를 이용해 의사 결정 트리를 지도학습할 수 있습니다.  \n",
    "학습 데이터를 잘 분류하는 방법을 찾으면 새로운 데이터도 잘 분류할 수 있을 겁니다.\n",
    "> **지도학습**: 데이터에 대한 명시적인 정답이 주어진 상태에서 학습하는 방식\n",
    "\n",
    "의사 결정 트리는 다음 두가지 장점을 가지고 있습니다.  \n",
    "> * 분류 과정이 직관적이고 **해석이 쉽다**.  \n",
    "> * 데이터 가공에 따른 영향이 적기 때문에 **전처리 과정이 간단하다**.\n",
    "\n",
    "따라서 의사 결정 트리는 데이터를 범주에 따라 분류해야하고,  \n",
    "각 데이터를 분류하는 기준을 정확히 알고 싶을 때 사용하면 좋습니다.  "
   ]
  },
  {
   "cell_type": "markdown",
   "id": "49067fc2-82ac-4d16-bcdc-9ca8f0df4551",
   "metadata": {},
   "source": [
    "**[문제1] 의사 결정 트리를 활용하기 좋은 문제 상황을 적어봅시다.**   \n",
    "\n",
    "(예시) 수익률이 높은 상품의 특성을 찾기 위해 상품의 여러 특징을 데이터로 하여 수익률을 상/중/하로 나누어 분류한다.  \n",
    "의사 결정 트리를 학습하고 나면 수익률을 결정하는 기준을 확인할 수 있기 때문에 상품 개발에 도움을 받을 수 있다. "
   ]
  },
  {
   "cell_type": "raw",
   "id": "7fee3d3a-b4da-456a-b4e3-307072cd0b0f",
   "metadata": {},
   "source": [
    "👉 "
   ]
  },
  {
   "cell_type": "raw",
   "id": "82fbb216-a4b1-4dd9-9c8d-50cd4024ed6f",
   "metadata": {},
   "source": [
    " 👉  "
   ]
  }
 ],
 "metadata": {
  "kernelspec": {
   "display_name": "Python 3 (ipykernel)",
   "language": "python",
   "name": "python3"
  },
  "language_info": {
   "codemirror_mode": {
    "name": "ipython",
    "version": 3
   },
   "file_extension": ".py",
   "mimetype": "text/x-python",
   "name": "python",
   "nbconvert_exporter": "python",
   "pygments_lexer": "ipython3",
   "version": "3.10.11"
  }
 },
 "nbformat": 4,
 "nbformat_minor": 5
}
